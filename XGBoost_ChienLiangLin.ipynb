{
 "cells": [
  {
   "cell_type": "code",
   "execution_count": 121,
   "metadata": {
    "collapsed": false,
    "deletable": true,
    "editable": true
   },
   "outputs": [],
   "source": [
    "import pandas as pd\n",
    "import seaborn as sns\n",
    "import numpy as np\n",
    "from numpy.random import randn\n",
    "import matplotlib as mpl\n",
    "import matplotlib.pyplot as plt\n",
    "\n",
    "from sklearn.linear_model import LogisticRegression\n",
    "from sklearn.svm import SVC, LinearSVC\n",
    "from sklearn.ensemble import RandomForestClassifier, AdaBoostClassifier, GradientBoostingClassifier, GradientBoostingRegressor\n",
    "from sklearn.neighbors import KNeighborsClassifier\n",
    "from sklearn.naive_bayes import GaussianNB\n",
    "from sklearn.linear_model import Perceptron\n",
    "from sklearn.linear_model import SGDClassifier\n",
    "from sklearn.tree import DecisionTreeClassifier\n",
    "from sklearn.svm import SVC\n",
    "from sklearn.cross_validation import KFold;\n",
    "from sklearn import preprocessing\n",
    "import math\n",
    "from sklearn.metrics import mean_squared_error\n"
   ]
  },
  {
   "cell_type": "markdown",
   "metadata": {
    "deletable": true,
    "editable": true
   },
   "source": [
    "## Logistic -- linear model"
   ]
  },
  {
   "cell_type": "markdown",
   "metadata": {
    "deletable": true,
    "editable": true
   },
   "source": [
    "### Train the model"
   ]
  },
  {
   "cell_type": "code",
   "execution_count": 122,
   "metadata": {
    "collapsed": true,
    "deletable": true,
    "editable": true
   },
   "outputs": [],
   "source": [
    "train = pd.read_csv(\"train.csv\")"
   ]
  },
  {
   "cell_type": "code",
   "execution_count": 123,
   "metadata": {
    "collapsed": false,
    "deletable": true,
    "editable": true
   },
   "outputs": [
    {
     "data": {
      "text/html": [
       "<div>\n",
       "<table border=\"1\" class=\"dataframe\">\n",
       "  <thead>\n",
       "    <tr style=\"text-align: right;\">\n",
       "      <th></th>\n",
       "      <th>weekday</th>\n",
       "      <th>hour</th>\n",
       "      <th>advertiser</th>\n",
       "      <th>adexchange</th>\n",
       "      <th>area</th>\n",
       "      <th>slotvisibility</th>\n",
       "      <th>slotformat</th>\n",
       "      <th>slotprice</th>\n",
       "    </tr>\n",
       "  </thead>\n",
       "  <tbody>\n",
       "    <tr>\n",
       "      <th>0</th>\n",
       "      <td>1</td>\n",
       "      <td>14</td>\n",
       "      <td>1458</td>\n",
       "      <td>2</td>\n",
       "      <td>28080</td>\n",
       "      <td>1</td>\n",
       "      <td>0</td>\n",
       "      <td>5</td>\n",
       "    </tr>\n",
       "    <tr>\n",
       "      <th>1</th>\n",
       "      <td>2</td>\n",
       "      <td>20</td>\n",
       "      <td>3476</td>\n",
       "      <td>2</td>\n",
       "      <td>62500</td>\n",
       "      <td>1</td>\n",
       "      <td>0</td>\n",
       "      <td>5</td>\n",
       "    </tr>\n",
       "    <tr>\n",
       "      <th>2</th>\n",
       "      <td>5</td>\n",
       "      <td>9</td>\n",
       "      <td>1458</td>\n",
       "      <td>1</td>\n",
       "      <td>94080</td>\n",
       "      <td>0</td>\n",
       "      <td>1</td>\n",
       "      <td>0</td>\n",
       "    </tr>\n",
       "    <tr>\n",
       "      <th>3</th>\n",
       "      <td>2</td>\n",
       "      <td>20</td>\n",
       "      <td>3427</td>\n",
       "      <td>2</td>\n",
       "      <td>65520</td>\n",
       "      <td>0</td>\n",
       "      <td>0</td>\n",
       "      <td>162</td>\n",
       "    </tr>\n",
       "    <tr>\n",
       "      <th>4</th>\n",
       "      <td>6</td>\n",
       "      <td>9</td>\n",
       "      <td>3476</td>\n",
       "      <td>1</td>\n",
       "      <td>85500</td>\n",
       "      <td>0</td>\n",
       "      <td>1</td>\n",
       "      <td>0</td>\n",
       "    </tr>\n",
       "  </tbody>\n",
       "</table>\n",
       "</div>"
      ],
      "text/plain": [
       "   weekday  hour  advertiser adexchange   area slotvisibility slotformat  \\\n",
       "0        1    14        1458          2  28080              1          0   \n",
       "1        2    20        3476          2  62500              1          0   \n",
       "2        5     9        1458          1  94080              0          1   \n",
       "3        2    20        3427          2  65520              0          0   \n",
       "4        6     9        3476          1  85500              0          1   \n",
       "\n",
       "   slotprice  \n",
       "0          5  \n",
       "1          5  \n",
       "2          0  \n",
       "3        162  \n",
       "4          0  "
      ]
     },
     "execution_count": 123,
     "metadata": {},
     "output_type": "execute_result"
    }
   ],
   "source": [
    "train[\"area\"] = train[\"slotheight\"]*train[\"slotwidth\"] \n",
    "\n",
    "feature = [\"weekday\",\"hour\",\"advertiser\",\"adexchange\",\"area\",\"slotvisibility\",\"slotformat\",\n",
    "          \"slotprice\"]\n",
    "X_train = train[feature]\n",
    "Y_train = train[\"click\"]\n",
    "X_train.head()"
   ]
  },
  {
   "cell_type": "code",
   "execution_count": 124,
   "metadata": {
    "collapsed": false,
    "deletable": true,
    "editable": true
   },
   "outputs": [
    {
     "name": "stderr",
     "output_type": "stream",
     "text": [
      "C:\\Users\\rock\\Anaconda3\\lib\\site-packages\\pandas\\core\\indexing.py:477: SettingWithCopyWarning: \n",
      "A value is trying to be set on a copy of a slice from a DataFrame.\n",
      "Try using .loc[row_indexer,col_indexer] = value instead\n",
      "\n",
      "See the caveats in the documentation: http://pandas.pydata.org/pandas-docs/stable/indexing.html#indexing-view-versus-copy\n",
      "  self.obj[item] = s\n"
     ]
    }
   ],
   "source": [
    "X_train.loc[ X_train['slotprice'] <= 0, 'slotprice'] = 0\n",
    "X_train.loc[(X_train['slotprice'] > 0) & (X_train['slotprice'] <= 10), 'slotprice'] = 1\n",
    "X_train.loc[(X_train['slotprice'] > 10) & (X_train['slotprice'] <= 50), 'slotprice'] = 2\n",
    "X_train.loc[(X_train['slotprice'] > 50) & (X_train['slotprice'] <= 100), 'slotprice'] = 3\n",
    "X_train.loc[(X_train['slotprice'] > 100), 'slotprice'] = 4\n"
   ]
  },
  {
   "cell_type": "code",
   "execution_count": 125,
   "metadata": {
    "collapsed": false,
    "deletable": true,
    "editable": true
   },
   "outputs": [
    {
     "name": "stderr",
     "output_type": "stream",
     "text": [
      "C:\\Users\\rock\\Anaconda3\\lib\\site-packages\\pandas\\core\\indexing.py:477: SettingWithCopyWarning: \n",
      "A value is trying to be set on a copy of a slice from a DataFrame.\n",
      "Try using .loc[row_indexer,col_indexer] = value instead\n",
      "\n",
      "See the caveats in the documentation: http://pandas.pydata.org/pandas-docs/stable/indexing.html#indexing-view-versus-copy\n",
      "  self.obj[item] = s\n"
     ]
    }
   ],
   "source": [
    "X_train.area.value_counts().sort_index()\n",
    "X_train.loc[ X_train['area'] <= 20000, 'area'] = 0\n",
    "X_train.loc[(X_train['area'] > 20000) & (X_train['area'] <=40000 ), 'area'] = 1\n",
    "X_train.loc[(X_train['area'] > 40000) & (X_train['area'] <= 60000), 'area'] = 2\n",
    "X_train.loc[(X_train['area'] > 60000) & (X_train['area'] <= 80000), 'area'] = 3\n",
    "X_train.loc[(X_train['area'] > 80000) & (X_train['area'] <= 100000), 'area'] = 4\n",
    "X_train.loc[(X_train['area'] > 100000), 'area'] = 5\n"
   ]
  },
  {
   "cell_type": "code",
   "execution_count": 126,
   "metadata": {
    "collapsed": false,
    "deletable": true,
    "editable": true
   },
   "outputs": [
    {
     "data": {
      "text/html": [
       "<div>\n",
       "<table border=\"1\" class=\"dataframe\">\n",
       "  <thead>\n",
       "    <tr style=\"text-align: right;\">\n",
       "      <th></th>\n",
       "      <th>weekday</th>\n",
       "      <th>hour</th>\n",
       "      <th>advertiser</th>\n",
       "      <th>adexchange</th>\n",
       "      <th>area</th>\n",
       "      <th>slotvisibility</th>\n",
       "      <th>slotformat</th>\n",
       "      <th>slotprice</th>\n",
       "    </tr>\n",
       "  </thead>\n",
       "  <tbody>\n",
       "    <tr>\n",
       "      <th>0</th>\n",
       "      <td>1</td>\n",
       "      <td>14</td>\n",
       "      <td>1458</td>\n",
       "      <td>2</td>\n",
       "      <td>1</td>\n",
       "      <td>1</td>\n",
       "      <td>0</td>\n",
       "      <td>1</td>\n",
       "    </tr>\n",
       "    <tr>\n",
       "      <th>1</th>\n",
       "      <td>2</td>\n",
       "      <td>20</td>\n",
       "      <td>3476</td>\n",
       "      <td>2</td>\n",
       "      <td>3</td>\n",
       "      <td>1</td>\n",
       "      <td>0</td>\n",
       "      <td>1</td>\n",
       "    </tr>\n",
       "    <tr>\n",
       "      <th>2</th>\n",
       "      <td>5</td>\n",
       "      <td>9</td>\n",
       "      <td>1458</td>\n",
       "      <td>1</td>\n",
       "      <td>4</td>\n",
       "      <td>0</td>\n",
       "      <td>1</td>\n",
       "      <td>0</td>\n",
       "    </tr>\n",
       "    <tr>\n",
       "      <th>3</th>\n",
       "      <td>2</td>\n",
       "      <td>20</td>\n",
       "      <td>3427</td>\n",
       "      <td>2</td>\n",
       "      <td>3</td>\n",
       "      <td>0</td>\n",
       "      <td>0</td>\n",
       "      <td>4</td>\n",
       "    </tr>\n",
       "    <tr>\n",
       "      <th>4</th>\n",
       "      <td>6</td>\n",
       "      <td>9</td>\n",
       "      <td>3476</td>\n",
       "      <td>1</td>\n",
       "      <td>4</td>\n",
       "      <td>0</td>\n",
       "      <td>1</td>\n",
       "      <td>0</td>\n",
       "    </tr>\n",
       "  </tbody>\n",
       "</table>\n",
       "</div>"
      ],
      "text/plain": [
       "   weekday  hour  advertiser adexchange  area slotvisibility slotformat  \\\n",
       "0        1    14        1458          2     1              1          0   \n",
       "1        2    20        3476          2     3              1          0   \n",
       "2        5     9        1458          1     4              0          1   \n",
       "3        2    20        3427          2     3              0          0   \n",
       "4        6     9        3476          1     4              0          1   \n",
       "\n",
       "   slotprice  \n",
       "0          1  \n",
       "1          1  \n",
       "2          0  \n",
       "3          4  \n",
       "4          0  "
      ]
     },
     "execution_count": 126,
     "metadata": {},
     "output_type": "execute_result"
    }
   ],
   "source": [
    "X_train.head()"
   ]
  },
  {
   "cell_type": "code",
   "execution_count": 127,
   "metadata": {
    "collapsed": false,
    "deletable": true,
    "editable": true
   },
   "outputs": [
    {
     "name": "stderr",
     "output_type": "stream",
     "text": [
      "C:\\Users\\rock\\Anaconda3\\lib\\site-packages\\ipykernel\\__main__.py:1: SettingWithCopyWarning: \n",
      "A value is trying to be set on a copy of a slice from a DataFrame.\n",
      "Try using .loc[row_indexer,col_indexer] = value instead\n",
      "\n",
      "See the caveats in the documentation: http://pandas.pydata.org/pandas-docs/stable/indexing.html#indexing-view-versus-copy\n",
      "  if __name__ == '__main__':\n",
      "C:\\Users\\rock\\Anaconda3\\lib\\site-packages\\ipykernel\\__main__.py:2: SettingWithCopyWarning: \n",
      "A value is trying to be set on a copy of a slice from a DataFrame.\n",
      "Try using .loc[row_indexer,col_indexer] = value instead\n",
      "\n",
      "See the caveats in the documentation: http://pandas.pydata.org/pandas-docs/stable/indexing.html#indexing-view-versus-copy\n",
      "  from ipykernel import kernelapp as app\n",
      "C:\\Users\\rock\\Anaconda3\\lib\\site-packages\\ipykernel\\__main__.py:3: SettingWithCopyWarning: \n",
      "A value is trying to be set on a copy of a slice from a DataFrame.\n",
      "Try using .loc[row_indexer,col_indexer] = value instead\n",
      "\n",
      "See the caveats in the documentation: http://pandas.pydata.org/pandas-docs/stable/indexing.html#indexing-view-versus-copy\n",
      "  app.launch_new_instance()\n",
      "C:\\Users\\rock\\Anaconda3\\lib\\site-packages\\ipykernel\\__main__.py:4: SettingWithCopyWarning: \n",
      "A value is trying to be set on a copy of a slice from a DataFrame.\n",
      "Try using .loc[row_indexer,col_indexer] = value instead\n",
      "\n",
      "See the caveats in the documentation: http://pandas.pydata.org/pandas-docs/stable/indexing.html#indexing-view-versus-copy\n",
      "C:\\Users\\rock\\Anaconda3\\lib\\site-packages\\ipykernel\\__main__.py:5: SettingWithCopyWarning: \n",
      "A value is trying to be set on a copy of a slice from a DataFrame.\n",
      "Try using .loc[row_indexer,col_indexer] = value instead\n",
      "\n",
      "See the caveats in the documentation: http://pandas.pydata.org/pandas-docs/stable/indexing.html#indexing-view-versus-copy\n",
      "C:\\Users\\rock\\Anaconda3\\lib\\site-packages\\ipykernel\\__main__.py:6: SettingWithCopyWarning: \n",
      "A value is trying to be set on a copy of a slice from a DataFrame.\n",
      "Try using .loc[row_indexer,col_indexer] = value instead\n",
      "\n",
      "See the caveats in the documentation: http://pandas.pydata.org/pandas-docs/stable/indexing.html#indexing-view-versus-copy\n"
     ]
    }
   ],
   "source": [
    "X_train[\"advertiser\"]=X_train.advertiser.astype(\"str\")\n",
    "X_train[\"weekday\"]=X_train.weekday.astype(\"str\")\n",
    "X_train[\"adexchange\"]=X_train.adexchange.astype(\"str\")\n",
    "X_train[\"slotvisibility\"]=X_train.slotvisibility.astype(\"str\")\n",
    "X_train[\"slotformat\"]=X_train.slotformat.astype(\"str\")\n",
    "X_train[\"hour\"]=X_train.hour.astype(\"str\")\n",
    "\n",
    "\n",
    "X_train=pd.get_dummies(X_train)"
   ]
  },
  {
   "cell_type": "code",
   "execution_count": 128,
   "metadata": {
    "collapsed": false,
    "deletable": true,
    "editable": true
   },
   "outputs": [
    {
     "data": {
      "text/plain": [
       "99.920000000000002"
      ]
     },
     "execution_count": 128,
     "metadata": {},
     "output_type": "execute_result"
    }
   ],
   "source": [
    "logreg = LogisticRegression(penalty='l2', dual=False, tol=0.0001)\n",
    "logreg.fit(X_train, Y_train)\n",
    "acc_log = round(logreg.score(X_train, Y_train) * 100, 2)\n",
    "acc_log"
   ]
  },
  {
   "cell_type": "code",
   "execution_count": 129,
   "metadata": {
    "collapsed": false,
    "deletable": true,
    "editable": true
   },
   "outputs": [
    {
     "data": {
      "text/plain": [
       "array([ 0.00079713,  0.00066784,  0.00086262, ...,  0.00034722,\n",
       "        0.00071372,  0.00091048])"
      ]
     },
     "execution_count": 129,
     "metadata": {},
     "output_type": "execute_result"
    }
   ],
   "source": [
    "Y_pred = logreg.predict_proba(X_train)\n",
    "Y_pred_log = Y_pred[:,1]\n",
    "Y_pred_log"
   ]
  },
  {
   "cell_type": "code",
   "execution_count": 130,
   "metadata": {
    "collapsed": false,
    "deletable": true,
    "editable": true
   },
   "outputs": [
    {
     "name": "stdout",
     "output_type": "stream",
     "text": [
      "RMSE: 0.027433793818018283\n"
     ]
    }
   ],
   "source": [
    "import math\n",
    "from sklearn.metrics import mean_squared_error\n",
    "MSE = mean_squared_error(Y_pred_log ,Y_train)\n",
    "RMSE = math.sqrt(MSE)\n",
    "print(\"RMSE: \" + str(RMSE) )"
   ]
  },
  {
   "cell_type": "markdown",
   "metadata": {
    "deletable": true,
    "editable": true
   },
   "source": [
    "### Evaluation Matrix --Logistic\n",
    "#### base bid = 100"
   ]
  },
  {
   "cell_type": "code",
   "execution_count": 131,
   "metadata": {
    "collapsed": false,
    "deletable": true,
    "editable": true,
    "scrolled": true
   },
   "outputs": [
    {
     "name": "stderr",
     "output_type": "stream",
     "text": [
      "C:\\Users\\rock\\Anaconda3\\lib\\site-packages\\ipykernel\\__main__.py:13: SettingWithCopyWarning: \n",
      "A value is trying to be set on a copy of a slice from a DataFrame.\n",
      "Try using .loc[row_indexer,col_indexer] = value instead\n",
      "\n",
      "See the caveats in the documentation: http://pandas.pydata.org/pandas-docs/stable/indexing.html#indexing-view-versus-copy\n"
     ]
    },
    {
     "data": {
      "text/html": [
       "<div>\n",
       "<table border=\"1\" class=\"dataframe\">\n",
       "  <thead>\n",
       "    <tr style=\"text-align: right;\">\n",
       "      <th></th>\n",
       "      <th>Click</th>\n",
       "      <th>Spend</th>\n",
       "      <th>CTR%</th>\n",
       "      <th>CPC</th>\n",
       "    </tr>\n",
       "  </thead>\n",
       "  <tbody>\n",
       "    <tr>\n",
       "      <th>full</th>\n",
       "      <td>384</td>\n",
       "      <td>24999.977</td>\n",
       "      <td>0.000763</td>\n",
       "      <td>65.104107</td>\n",
       "    </tr>\n",
       "    <tr>\n",
       "      <th>1/2</th>\n",
       "      <td>189</td>\n",
       "      <td>12499.950</td>\n",
       "      <td>0.000751</td>\n",
       "      <td>66.137302</td>\n",
       "    </tr>\n",
       "    <tr>\n",
       "      <th>1/4</th>\n",
       "      <td>95</td>\n",
       "      <td>6249.979</td>\n",
       "      <td>0.000755</td>\n",
       "      <td>65.789253</td>\n",
       "    </tr>\n",
       "    <tr>\n",
       "      <th>1/8</th>\n",
       "      <td>51</td>\n",
       "      <td>3124.990</td>\n",
       "      <td>0.000808</td>\n",
       "      <td>61.274314</td>\n",
       "    </tr>\n",
       "    <tr>\n",
       "      <th>1/16</th>\n",
       "      <td>23</td>\n",
       "      <td>1562.475</td>\n",
       "      <td>0.000729</td>\n",
       "      <td>67.933696</td>\n",
       "    </tr>\n",
       "  </tbody>\n",
       "</table>\n",
       "</div>"
      ],
      "text/plain": [
       "      Click      Spend      CTR%        CPC\n",
       "full    384  24999.977  0.000763  65.104107\n",
       "1/2     189  12499.950  0.000751  66.137302\n",
       "1/4      95   6249.979  0.000755  65.789253\n",
       "1/8      51   3124.990  0.000808  61.274314\n",
       "1/16     23   1562.475  0.000729  67.933696"
      ]
     },
     "execution_count": 131,
     "metadata": {},
     "output_type": "execute_result"
    }
   ],
   "source": [
    "train[\"pCTR_log\"] = Y_pred_log\n",
    "\n",
    "avgCTR = Y_pred_log.mean()\n",
    "\n",
    "param_log= Y_pred_log/avgCTR\n",
    "\n",
    "basebid = train.bidprice.mean()\n",
    "# budget = 25000\n",
    "train['new_bidprice_log'] = 100*param_log\n",
    "\n",
    "statistic=pd.DataFrame()\n",
    "new_train = train[train[\"new_bidprice_log\"]>=train.payprice]\n",
    "new_train[\"total_cost\"] = new_train[\"payprice\"].cumsum()\n",
    "new_train = new_train[new_train[\"total_cost\"]/1000<=25000]\n",
    "statistic[\"Click\"] = [new_train[new_train.click==1].click.sum()]\n",
    "statistic[\"Spend\"] = new_train.payprice.sum()/1000\n",
    "statistic[\"CTR%\"] = statistic[\"Click\"]/new_train.shape[0]\n",
    "statistic[\"CPC\"] = statistic[\"Spend\"]/statistic[\"Click\"]\n",
    "\n",
    "statistic_2=pd.DataFrame()\n",
    "budget_2 = new_train[new_train[\"total_cost\"]/1000<=25000*1/2]\n",
    "statistic_2[\"Click\"] = [budget_2[budget_2.click==1].click.sum()]\n",
    "statistic_2[\"Spend\"] = budget_2.payprice.sum()/1000\n",
    "statistic_2[\"CTR%\"] = statistic_2[\"Click\"]/budget_2.shape[0]\n",
    "statistic_2[\"CPC\"] = statistic_2[\"Spend\"]/statistic_2[\"Click\"]\n",
    "\n",
    "statistic_4=pd.DataFrame()\n",
    "budget_4 = new_train[new_train[\"total_cost\"]/1000<=25000/4]\n",
    "statistic_4[\"Click\"] = [budget_4[budget_4.click==1].click.sum()]\n",
    "statistic_4[\"Spend\"] = budget_4.payprice.sum()/1000\n",
    "statistic_4[\"CTR%\"] = statistic_4[\"Click\"]/budget_4.shape[0]\n",
    "statistic_4[\"CPC\"] = statistic_4[\"Spend\"]/statistic_4[\"Click\"]\n",
    "\n",
    "statistic_8=pd.DataFrame()\n",
    "budget_8 = new_train[new_train[\"total_cost\"]/1000<=25000*1/8]\n",
    "statistic_8[\"Click\"] = [budget_8[budget_8.click==1].click.sum()]\n",
    "statistic_8[\"Spend\"] = budget_8.payprice.sum()/1000\n",
    "statistic_8[\"CTR%\"] = statistic_8[\"Click\"]/budget_8.shape[0]\n",
    "statistic_8[\"CPC\"] = statistic_8[\"Spend\"]/statistic_8[\"Click\"]\n",
    "\n",
    "statistic_16=pd.DataFrame()\n",
    "budget_16 = new_train[new_train[\"total_cost\"]/1000<=25000*1/16]\n",
    "statistic_16[\"Click\"] = [budget_16[budget_16.click==1].click.sum()]\n",
    "statistic_16[\"Spend\"] = budget_16.payprice.sum()/1000\n",
    "statistic_16[\"CTR%\"] = statistic_16[\"Click\"]/budget_16.shape[0]\n",
    "statistic_16[\"CPC\"] = statistic_16[\"Spend\"]/statistic_16[\"Click\"]\n",
    "\n",
    "\n",
    "statistic_one = statistic.append(statistic_2)\n",
    "statistic_two = statistic_one.append(statistic_4)\n",
    "statistic_3 = statistic_two.append(statistic_8)\n",
    "statistic_full = statistic_3.append(statistic_16)\n",
    "\n",
    "statistic_full.index = [\"full\",\"1/2\",\"1/4\",\"1/8\",\"1/16\"]\n",
    "statistic_full"
   ]
  },
  {
   "cell_type": "code",
   "execution_count": 132,
   "metadata": {
    "collapsed": false,
    "deletable": true,
    "editable": true
   },
   "outputs": [
    {
     "data": {
      "text/html": [
       "<div>\n",
       "<table border=\"1\" class=\"dataframe\">\n",
       "  <thead>\n",
       "    <tr style=\"text-align: right;\">\n",
       "      <th></th>\n",
       "      <th>click</th>\n",
       "      <th>weekday</th>\n",
       "      <th>hour</th>\n",
       "      <th>bidid</th>\n",
       "      <th>logtype</th>\n",
       "      <th>userid</th>\n",
       "      <th>useragent</th>\n",
       "      <th>IP</th>\n",
       "      <th>region</th>\n",
       "      <th>city</th>\n",
       "      <th>...</th>\n",
       "      <th>slotprice</th>\n",
       "      <th>creative</th>\n",
       "      <th>bidprice</th>\n",
       "      <th>payprice</th>\n",
       "      <th>keypage</th>\n",
       "      <th>advertiser</th>\n",
       "      <th>usertag</th>\n",
       "      <th>area</th>\n",
       "      <th>pCTR_log</th>\n",
       "      <th>new_bidprice_log</th>\n",
       "    </tr>\n",
       "  </thead>\n",
       "  <tbody>\n",
       "    <tr>\n",
       "      <th>0</th>\n",
       "      <td>0</td>\n",
       "      <td>1</td>\n",
       "      <td>14</td>\n",
       "      <td>fdfae6789b787899f1b875de3ab8b21a</td>\n",
       "      <td>1</td>\n",
       "      <td>u_Vh1OPkFv3q5CFdR</td>\n",
       "      <td>windows_ie</td>\n",
       "      <td>180.107.112.*</td>\n",
       "      <td>80</td>\n",
       "      <td>85</td>\n",
       "      <td>...</td>\n",
       "      <td>5</td>\n",
       "      <td>612599432d200b093719dd1f372f7a30</td>\n",
       "      <td>300</td>\n",
       "      <td>54</td>\n",
       "      <td>bebefa5efe83beee17a3d245e7c5085b</td>\n",
       "      <td>1458</td>\n",
       "      <td>13866,10063</td>\n",
       "      <td>28080</td>\n",
       "      <td>0.000797</td>\n",
       "      <td>105.525350</td>\n",
       "    </tr>\n",
       "    <tr>\n",
       "      <th>1</th>\n",
       "      <td>0</td>\n",
       "      <td>2</td>\n",
       "      <td>20</td>\n",
       "      <td>372883147cdefbc495fb5082f79dde9b</td>\n",
       "      <td>1</td>\n",
       "      <td>u_VhkRL6dCOTLsq-c</td>\n",
       "      <td>windows_chrome</td>\n",
       "      <td>125.120.199.*</td>\n",
       "      <td>94</td>\n",
       "      <td>95</td>\n",
       "      <td>...</td>\n",
       "      <td>5</td>\n",
       "      <td>8dff45ed862a740986dbe688aafee7e5</td>\n",
       "      <td>249</td>\n",
       "      <td>42</td>\n",
       "      <td>15b749127478946f161a54dc0dad27c8</td>\n",
       "      <td>3476</td>\n",
       "      <td>10063,10111</td>\n",
       "      <td>62500</td>\n",
       "      <td>0.000668</td>\n",
       "      <td>88.409430</td>\n",
       "    </tr>\n",
       "    <tr>\n",
       "      <th>2</th>\n",
       "      <td>0</td>\n",
       "      <td>5</td>\n",
       "      <td>9</td>\n",
       "      <td>2912cb5947e1fad450e2473c2f61ef75</td>\n",
       "      <td>1</td>\n",
       "      <td>u_VhkyORMrD8TP3GL</td>\n",
       "      <td>windows_ie</td>\n",
       "      <td>120.196.64.*</td>\n",
       "      <td>216</td>\n",
       "      <td>217</td>\n",
       "      <td>...</td>\n",
       "      <td>0</td>\n",
       "      <td>77819d3e0b3467fe5c7b16d68ad923a1</td>\n",
       "      <td>300</td>\n",
       "      <td>76</td>\n",
       "      <td>bebefa5efe83beee17a3d245e7c5085b</td>\n",
       "      <td>1458</td>\n",
       "      <td>10063</td>\n",
       "      <td>94080</td>\n",
       "      <td>0.000863</td>\n",
       "      <td>114.194455</td>\n",
       "    </tr>\n",
       "    <tr>\n",
       "      <th>3</th>\n",
       "      <td>0</td>\n",
       "      <td>2</td>\n",
       "      <td>20</td>\n",
       "      <td>d7b7d61d1e50e1d27d210928d28a9b61</td>\n",
       "      <td>1</td>\n",
       "      <td>u_VhkyLRqVL2a4eWL</td>\n",
       "      <td>windows_ie</td>\n",
       "      <td>219.131.122.*</td>\n",
       "      <td>216</td>\n",
       "      <td>221</td>\n",
       "      <td>...</td>\n",
       "      <td>162</td>\n",
       "      <td>7184c9560e68e977187e67e45a4f3198</td>\n",
       "      <td>238</td>\n",
       "      <td>182</td>\n",
       "      <td>0f951a030abdaedd733ee8d114ce2944</td>\n",
       "      <td>3427</td>\n",
       "      <td>10077,10111</td>\n",
       "      <td>65520</td>\n",
       "      <td>0.000928</td>\n",
       "      <td>122.893224</td>\n",
       "    </tr>\n",
       "    <tr>\n",
       "      <th>4</th>\n",
       "      <td>0</td>\n",
       "      <td>6</td>\n",
       "      <td>9</td>\n",
       "      <td>657d317dc4045bb79c2652abbea07530</td>\n",
       "      <td>1</td>\n",
       "      <td>u_Vh1zOJuQOtTCBgL</td>\n",
       "      <td>windows_chrome</td>\n",
       "      <td>123.190.78.*</td>\n",
       "      <td>40</td>\n",
       "      <td>48</td>\n",
       "      <td>...</td>\n",
       "      <td>0</td>\n",
       "      <td>c938195f9e404b4f38c7e71bf50263e5</td>\n",
       "      <td>238</td>\n",
       "      <td>34</td>\n",
       "      <td>a3becb967c015e9acb5e72f22b100ef8</td>\n",
       "      <td>3476</td>\n",
       "      <td>10031,13042,10006,10057,13866,10063,14273,1005...</td>\n",
       "      <td>85500</td>\n",
       "      <td>0.000426</td>\n",
       "      <td>56.451560</td>\n",
       "    </tr>\n",
       "  </tbody>\n",
       "</table>\n",
       "<p>5 rows × 29 columns</p>\n",
       "</div>"
      ],
      "text/plain": [
       "   click  weekday  hour                             bidid  logtype  \\\n",
       "0      0        1    14  fdfae6789b787899f1b875de3ab8b21a        1   \n",
       "1      0        2    20  372883147cdefbc495fb5082f79dde9b        1   \n",
       "2      0        5     9  2912cb5947e1fad450e2473c2f61ef75        1   \n",
       "3      0        2    20  d7b7d61d1e50e1d27d210928d28a9b61        1   \n",
       "4      0        6     9  657d317dc4045bb79c2652abbea07530        1   \n",
       "\n",
       "              userid       useragent             IP  region  city  \\\n",
       "0  u_Vh1OPkFv3q5CFdR      windows_ie  180.107.112.*      80    85   \n",
       "1  u_VhkRL6dCOTLsq-c  windows_chrome  125.120.199.*      94    95   \n",
       "2  u_VhkyORMrD8TP3GL      windows_ie   120.196.64.*     216   217   \n",
       "3  u_VhkyLRqVL2a4eWL      windows_ie  219.131.122.*     216   221   \n",
       "4  u_Vh1zOJuQOtTCBgL  windows_chrome   123.190.78.*      40    48   \n",
       "\n",
       "         ...        slotprice                          creative bidprice  \\\n",
       "0        ...                5  612599432d200b093719dd1f372f7a30      300   \n",
       "1        ...                5  8dff45ed862a740986dbe688aafee7e5      249   \n",
       "2        ...                0  77819d3e0b3467fe5c7b16d68ad923a1      300   \n",
       "3        ...              162  7184c9560e68e977187e67e45a4f3198      238   \n",
       "4        ...                0  c938195f9e404b4f38c7e71bf50263e5      238   \n",
       "\n",
       "  payprice                           keypage  advertiser  \\\n",
       "0       54  bebefa5efe83beee17a3d245e7c5085b        1458   \n",
       "1       42  15b749127478946f161a54dc0dad27c8        3476   \n",
       "2       76  bebefa5efe83beee17a3d245e7c5085b        1458   \n",
       "3      182  0f951a030abdaedd733ee8d114ce2944        3427   \n",
       "4       34  a3becb967c015e9acb5e72f22b100ef8        3476   \n",
       "\n",
       "                                             usertag   area  pCTR_log  \\\n",
       "0                                        13866,10063  28080  0.000797   \n",
       "1                                        10063,10111  62500  0.000668   \n",
       "2                                              10063  94080  0.000863   \n",
       "3                                        10077,10111  65520  0.000928   \n",
       "4  10031,13042,10006,10057,13866,10063,14273,1005...  85500  0.000426   \n",
       "\n",
       "   new_bidprice_log  \n",
       "0        105.525350  \n",
       "1         88.409430  \n",
       "2        114.194455  \n",
       "3        122.893224  \n",
       "4         56.451560  \n",
       "\n",
       "[5 rows x 29 columns]"
      ]
     },
     "execution_count": 132,
     "metadata": {},
     "output_type": "execute_result"
    }
   ],
   "source": [
    "train.head()"
   ]
  },
  {
   "cell_type": "markdown",
   "metadata": {
    "deletable": true,
    "editable": true
   },
   "source": [
    "### Validation"
   ]
  },
  {
   "cell_type": "code",
   "execution_count": 133,
   "metadata": {
    "collapsed": true,
    "deletable": true,
    "editable": true
   },
   "outputs": [],
   "source": [
    "validation = pd.read_csv(\"validation.csv\")"
   ]
  },
  {
   "cell_type": "code",
   "execution_count": 134,
   "metadata": {
    "collapsed": false,
    "deletable": true,
    "editable": true
   },
   "outputs": [
    {
     "data": {
      "text/html": [
       "<div>\n",
       "<table border=\"1\" class=\"dataframe\">\n",
       "  <thead>\n",
       "    <tr style=\"text-align: right;\">\n",
       "      <th></th>\n",
       "      <th>weekday</th>\n",
       "      <th>hour</th>\n",
       "      <th>advertiser</th>\n",
       "      <th>adexchange</th>\n",
       "      <th>area</th>\n",
       "      <th>slotvisibility</th>\n",
       "      <th>slotformat</th>\n",
       "      <th>slotprice</th>\n",
       "    </tr>\n",
       "  </thead>\n",
       "  <tbody>\n",
       "    <tr>\n",
       "      <th>0</th>\n",
       "      <td>5</td>\n",
       "      <td>14</td>\n",
       "      <td>3427</td>\n",
       "      <td>1</td>\n",
       "      <td>75000</td>\n",
       "      <td>0</td>\n",
       "      <td>1</td>\n",
       "      <td>0</td>\n",
       "    </tr>\n",
       "    <tr>\n",
       "      <th>1</th>\n",
       "      <td>3</td>\n",
       "      <td>14</td>\n",
       "      <td>2997</td>\n",
       "      <td>null</td>\n",
       "      <td>16000</td>\n",
       "      <td>FirstView</td>\n",
       "      <td>Na</td>\n",
       "      <td>118</td>\n",
       "    </tr>\n",
       "    <tr>\n",
       "      <th>2</th>\n",
       "      <td>1</td>\n",
       "      <td>13</td>\n",
       "      <td>3427</td>\n",
       "      <td>3</td>\n",
       "      <td>90000</td>\n",
       "      <td>0</td>\n",
       "      <td>0</td>\n",
       "      <td>70</td>\n",
       "    </tr>\n",
       "    <tr>\n",
       "      <th>3</th>\n",
       "      <td>5</td>\n",
       "      <td>18</td>\n",
       "      <td>3427</td>\n",
       "      <td>3</td>\n",
       "      <td>90000</td>\n",
       "      <td>0</td>\n",
       "      <td>0</td>\n",
       "      <td>70</td>\n",
       "    </tr>\n",
       "    <tr>\n",
       "      <th>4</th>\n",
       "      <td>5</td>\n",
       "      <td>14</td>\n",
       "      <td>3386</td>\n",
       "      <td>2</td>\n",
       "      <td>94080</td>\n",
       "      <td>2</td>\n",
       "      <td>0</td>\n",
       "      <td>5</td>\n",
       "    </tr>\n",
       "  </tbody>\n",
       "</table>\n",
       "</div>"
      ],
      "text/plain": [
       "   weekday  hour  advertiser adexchange   area slotvisibility slotformat  \\\n",
       "0        5    14        3427          1  75000              0          1   \n",
       "1        3    14        2997       null  16000      FirstView         Na   \n",
       "2        1    13        3427          3  90000              0          0   \n",
       "3        5    18        3427          3  90000              0          0   \n",
       "4        5    14        3386          2  94080              2          0   \n",
       "\n",
       "   slotprice  \n",
       "0          0  \n",
       "1        118  \n",
       "2         70  \n",
       "3         70  \n",
       "4          5  "
      ]
     },
     "execution_count": 134,
     "metadata": {},
     "output_type": "execute_result"
    }
   ],
   "source": [
    "validation[\"area\"] = validation[\"slotheight\"]*validation[\"slotwidth\"] \n",
    "\n",
    "feature = [\"weekday\",\"hour\",\"advertiser\",\"adexchange\",\"area\",\"slotvisibility\",\"slotformat\",\n",
    "          \"slotprice\"]\n",
    "X_validation = validation[feature]\n",
    "Y_validation = validation[\"click\"]\n",
    "X_validation.head()"
   ]
  },
  {
   "cell_type": "code",
   "execution_count": 135,
   "metadata": {
    "collapsed": false,
    "deletable": true,
    "editable": true
   },
   "outputs": [
    {
     "name": "stderr",
     "output_type": "stream",
     "text": [
      "C:\\Users\\rock\\Anaconda3\\lib\\site-packages\\pandas\\core\\indexing.py:477: SettingWithCopyWarning: \n",
      "A value is trying to be set on a copy of a slice from a DataFrame.\n",
      "Try using .loc[row_indexer,col_indexer] = value instead\n",
      "\n",
      "See the caveats in the documentation: http://pandas.pydata.org/pandas-docs/stable/indexing.html#indexing-view-versus-copy\n",
      "  self.obj[item] = s\n"
     ]
    }
   ],
   "source": [
    "X_validation.loc[ X_validation['slotprice'] <= 0, 'slotprice'] = 0\n",
    "X_validation.loc[(X_validation['slotprice'] > 0) & (X_validation['slotprice'] <= 10), 'slotprice'] = 1\n",
    "X_validation.loc[(X_validation['slotprice'] > 10) & (X_validation['slotprice'] <= 50), 'slotprice'] = 2\n",
    "X_validation.loc[(X_validation['slotprice'] > 50) & (X_validation['slotprice'] <= 100), 'slotprice'] = 3\n",
    "X_validation.loc[(X_validation['slotprice'] > 100), 'slotprice'] = 4\n",
    "\n",
    "X_validation.area.value_counts().sort_index()\n",
    "X_validation.loc[ X_validation['area'] <= 20000, 'area'] = 0\n",
    "X_validation.loc[(X_validation['area'] > 20000) & (X_validation['area'] <=40000 ), 'area'] = 1\n",
    "X_validation.loc[(X_validation['area'] > 40000) & (X_validation['area'] <= 60000), 'area'] = 2\n",
    "X_validation.loc[(X_validation['area'] > 60000) & (X_validation['area'] <= 80000), 'area'] = 3\n",
    "X_validation.loc[(X_validation['area'] > 80000) & (X_validation['area'] <= 100000), 'area'] = 4\n",
    "X_validation.loc[(X_validation['area'] > 100000), 'area'] = 5\n"
   ]
  },
  {
   "cell_type": "code",
   "execution_count": 136,
   "metadata": {
    "collapsed": false,
    "deletable": true,
    "editable": true
   },
   "outputs": [
    {
     "name": "stderr",
     "output_type": "stream",
     "text": [
      "C:\\Users\\rock\\Anaconda3\\lib\\site-packages\\ipykernel\\__main__.py:1: SettingWithCopyWarning: \n",
      "A value is trying to be set on a copy of a slice from a DataFrame.\n",
      "Try using .loc[row_indexer,col_indexer] = value instead\n",
      "\n",
      "See the caveats in the documentation: http://pandas.pydata.org/pandas-docs/stable/indexing.html#indexing-view-versus-copy\n",
      "  if __name__ == '__main__':\n",
      "C:\\Users\\rock\\Anaconda3\\lib\\site-packages\\ipykernel\\__main__.py:2: SettingWithCopyWarning: \n",
      "A value is trying to be set on a copy of a slice from a DataFrame.\n",
      "Try using .loc[row_indexer,col_indexer] = value instead\n",
      "\n",
      "See the caveats in the documentation: http://pandas.pydata.org/pandas-docs/stable/indexing.html#indexing-view-versus-copy\n",
      "  from ipykernel import kernelapp as app\n",
      "C:\\Users\\rock\\Anaconda3\\lib\\site-packages\\ipykernel\\__main__.py:3: SettingWithCopyWarning: \n",
      "A value is trying to be set on a copy of a slice from a DataFrame.\n",
      "Try using .loc[row_indexer,col_indexer] = value instead\n",
      "\n",
      "See the caveats in the documentation: http://pandas.pydata.org/pandas-docs/stable/indexing.html#indexing-view-versus-copy\n",
      "  app.launch_new_instance()\n",
      "C:\\Users\\rock\\Anaconda3\\lib\\site-packages\\ipykernel\\__main__.py:4: SettingWithCopyWarning: \n",
      "A value is trying to be set on a copy of a slice from a DataFrame.\n",
      "Try using .loc[row_indexer,col_indexer] = value instead\n",
      "\n",
      "See the caveats in the documentation: http://pandas.pydata.org/pandas-docs/stable/indexing.html#indexing-view-versus-copy\n",
      "C:\\Users\\rock\\Anaconda3\\lib\\site-packages\\ipykernel\\__main__.py:5: SettingWithCopyWarning: \n",
      "A value is trying to be set on a copy of a slice from a DataFrame.\n",
      "Try using .loc[row_indexer,col_indexer] = value instead\n",
      "\n",
      "See the caveats in the documentation: http://pandas.pydata.org/pandas-docs/stable/indexing.html#indexing-view-versus-copy\n",
      "C:\\Users\\rock\\Anaconda3\\lib\\site-packages\\ipykernel\\__main__.py:6: SettingWithCopyWarning: \n",
      "A value is trying to be set on a copy of a slice from a DataFrame.\n",
      "Try using .loc[row_indexer,col_indexer] = value instead\n",
      "\n",
      "See the caveats in the documentation: http://pandas.pydata.org/pandas-docs/stable/indexing.html#indexing-view-versus-copy\n"
     ]
    }
   ],
   "source": [
    "X_validation[\"advertiser\"]=X_validation.advertiser.astype(\"str\")\n",
    "X_validation[\"weekday\"]=X_validation.weekday.astype(\"str\")\n",
    "X_validation[\"adexchange\"]=X_validation.adexchange.astype(\"str\")\n",
    "X_validation[\"slotvisibility\"]=X_validation.slotvisibility.astype(\"str\")\n",
    "X_validation[\"slotformat\"]=X_validation.slotformat.astype(\"str\")\n",
    "X_validation[\"hour\"]=X_validation.hour.astype(\"str\")\n",
    "\n",
    "# X_validation[\"slotprice\"]=X_validation.slotprice.astype(\"str\")\n",
    "# X_validation[\"area\"]=X_validation.area.astype(\"str\")\n",
    "\n",
    "X_validation=pd.get_dummies(X_validation)"
   ]
  },
  {
   "cell_type": "code",
   "execution_count": 137,
   "metadata": {
    "collapsed": false,
    "deletable": true,
    "editable": true
   },
   "outputs": [
    {
     "data": {
      "text/plain": [
       "array([ 0.00063285,  0.00572677,  0.0008557 , ...,  0.00035328,\n",
       "        0.00025479,  0.00114611])"
      ]
     },
     "execution_count": 137,
     "metadata": {},
     "output_type": "execute_result"
    }
   ],
   "source": [
    "Y_pred_validation = logreg.predict_proba(X_validation)\n",
    "Y_pred_validation_log = Y_pred_validation[:,1]\n",
    "Y_pred_validation_log"
   ]
  },
  {
   "cell_type": "code",
   "execution_count": 138,
   "metadata": {
    "collapsed": false,
    "deletable": true,
    "editable": true
   },
   "outputs": [
    {
     "name": "stdout",
     "output_type": "stream",
     "text": [
      "RMSE: 0.027433630306692516\n"
     ]
    }
   ],
   "source": [
    "MSE = mean_squared_error(Y_pred_validation_log,Y_validation)\n",
    "RMSE = math.sqrt(MSE)\n",
    "print(\"RMSE: \" + str(RMSE) )"
   ]
  },
  {
   "cell_type": "code",
   "execution_count": 139,
   "metadata": {
    "collapsed": false,
    "deletable": true,
    "editable": true
   },
   "outputs": [
    {
     "data": {
      "text/plain": [
       "array([ 0.84192958,  7.61875047,  1.13839622, ...,  0.47000023,\n",
       "        0.33896518,  1.52475801])"
      ]
     },
     "execution_count": 139,
     "metadata": {},
     "output_type": "execute_result"
    }
   ],
   "source": [
    "validation[\"pCTR_log\"] = Y_pred_validation_log\n",
    "\n",
    "# avgCTR = (train[train.click==1].groupby(\"advertiser\").size().values/train.groupby(\"advertiser\").size().values).mean()\n",
    "avgCTR = Y_pred_validation_log.mean()\n",
    "\n",
    "param_validation_log= Y_pred_validation_log/avgCTR\n",
    "param_validation_log"
   ]
  },
  {
   "cell_type": "markdown",
   "metadata": {
    "deletable": true,
    "editable": true
   },
   "source": [
    "### Performance matrix\n",
    "#### base bid = 100"
   ]
  },
  {
   "cell_type": "code",
   "execution_count": 140,
   "metadata": {
    "collapsed": false,
    "deletable": true,
    "editable": true
   },
   "outputs": [
    {
     "name": "stderr",
     "output_type": "stream",
     "text": [
      "C:\\Users\\rock\\Anaconda3\\lib\\site-packages\\ipykernel\\__main__.py:7: SettingWithCopyWarning: \n",
      "A value is trying to be set on a copy of a slice from a DataFrame.\n",
      "Try using .loc[row_indexer,col_indexer] = value instead\n",
      "\n",
      "See the caveats in the documentation: http://pandas.pydata.org/pandas-docs/stable/indexing.html#indexing-view-versus-copy\n"
     ]
    },
    {
     "data": {
      "text/html": [
       "<div>\n",
       "<table border=\"1\" class=\"dataframe\">\n",
       "  <thead>\n",
       "    <tr style=\"text-align: right;\">\n",
       "      <th></th>\n",
       "      <th>Click</th>\n",
       "      <th>Spend</th>\n",
       "      <th>CTR%</th>\n",
       "      <th>CPC</th>\n",
       "    </tr>\n",
       "  </thead>\n",
       "  <tbody>\n",
       "    <tr>\n",
       "      <th>full</th>\n",
       "      <td>138</td>\n",
       "      <td>9735.674</td>\n",
       "      <td>0.000707</td>\n",
       "      <td>70.548362</td>\n",
       "    </tr>\n",
       "    <tr>\n",
       "      <th>1/2</th>\n",
       "      <td>138</td>\n",
       "      <td>9735.674</td>\n",
       "      <td>0.000707</td>\n",
       "      <td>70.548362</td>\n",
       "    </tr>\n",
       "    <tr>\n",
       "      <th>1/4</th>\n",
       "      <td>89</td>\n",
       "      <td>6249.985</td>\n",
       "      <td>0.000709</td>\n",
       "      <td>70.224551</td>\n",
       "    </tr>\n",
       "    <tr>\n",
       "      <th>1/8</th>\n",
       "      <td>54</td>\n",
       "      <td>3124.967</td>\n",
       "      <td>0.000861</td>\n",
       "      <td>57.869759</td>\n",
       "    </tr>\n",
       "    <tr>\n",
       "      <th>1/16</th>\n",
       "      <td>30</td>\n",
       "      <td>1562.456</td>\n",
       "      <td>0.000957</td>\n",
       "      <td>52.081867</td>\n",
       "    </tr>\n",
       "  </tbody>\n",
       "</table>\n",
       "</div>"
      ],
      "text/plain": [
       "      Click     Spend      CTR%        CPC\n",
       "full    138  9735.674  0.000707  70.548362\n",
       "1/2     138  9735.674  0.000707  70.548362\n",
       "1/4      89  6249.985  0.000709  70.224551\n",
       "1/8      54  3124.967  0.000861  57.869759\n",
       "1/16     30  1562.456  0.000957  52.081867"
      ]
     },
     "execution_count": 140,
     "metadata": {},
     "output_type": "execute_result"
    }
   ],
   "source": [
    "basebid = train.bidprice.mean()\n",
    "# budget = 25000\n",
    "validation['new_bidprice_log'] = 100*param_validation_log\n",
    "\n",
    "statistic=pd.DataFrame()\n",
    "new_validation = validation[validation[\"new_bidprice_log\"]>=validation.payprice]\n",
    "new_validation[\"total_cost\"] = new_validation[\"payprice\"].cumsum()\n",
    "new_validation = new_validation[new_validation[\"total_cost\"]/1000<=25000]\n",
    "statistic[\"Click\"] = [new_validation[new_validation.click==1].click.sum()]\n",
    "statistic[\"Spend\"] = new_validation.payprice.sum()/1000\n",
    "statistic[\"CTR%\"] = statistic[\"Click\"]/new_validation.shape[0]\n",
    "statistic[\"CPC\"] = statistic[\"Spend\"]/statistic[\"Click\"]\n",
    "\n",
    "statistic_4=pd.DataFrame()\n",
    "budget_4 = new_validation[new_validation[\"total_cost\"]/1000<=25000*1/4]\n",
    "statistic_4[\"Click\"] = [budget_4[budget_4.click==1].click.sum()]\n",
    "statistic_4[\"Spend\"] = budget_4.payprice.sum()/1000\n",
    "statistic_4[\"CTR%\"] = statistic_4[\"Click\"]/budget_4.shape[0]\n",
    "statistic_4[\"CPC\"] = statistic_4[\"Spend\"]/statistic_4[\"Click\"]\n",
    "\n",
    "statistic_2=pd.DataFrame()\n",
    "budget_2 = new_validation[new_validation[\"total_cost\"]/1000<=25000*1/2]\n",
    "statistic_2[\"Click\"] = [budget_2[budget_2.click==1].click.sum()]\n",
    "statistic_2[\"Spend\"] = budget_2.payprice.sum()/1000\n",
    "statistic_2[\"CTR%\"] = statistic_2[\"Click\"]/budget_2.shape[0]\n",
    "statistic_2[\"CPC\"] = statistic_2[\"Spend\"]/statistic_2[\"Click\"]\n",
    "\n",
    "statistic_16=pd.DataFrame()\n",
    "budget_16 = new_validation[new_validation[\"total_cost\"]/1000<=25000*1/16]\n",
    "statistic_16[\"Click\"] = [budget_16[budget_16.click==1].click.sum()]\n",
    "statistic_16[\"Spend\"] = budget_16.payprice.sum()/1000\n",
    "statistic_16[\"CTR%\"] = statistic_16[\"Click\"]/budget_16.shape[0]\n",
    "statistic_16[\"CPC\"] = statistic_16[\"Spend\"]/statistic_16[\"Click\"]\n",
    "\n",
    "statistic_8=pd.DataFrame()\n",
    "budget_8 = new_validation[new_validation[\"total_cost\"]/1000<=25000*1/8]\n",
    "statistic_8[\"Click\"] = [budget_8[budget_8.click==1].click.sum()]\n",
    "statistic_8[\"Spend\"] = budget_8.payprice.sum()/1000\n",
    "statistic_8[\"CTR%\"] = statistic_8[\"Click\"]/budget_8.shape[0]\n",
    "statistic_8[\"CPC\"] = statistic_8[\"Spend\"]/statistic_8[\"Click\"]\n",
    "\n",
    "statistic_one = statistic.append(statistic_2)\n",
    "statistic_two = statistic_one.append(statistic_4)\n",
    "statistic_3 = statistic_two.append(statistic_8)\n",
    "statistic_full = statistic_3.append(statistic_16)\n",
    "\n",
    "statistic_full.index = [\"full\",\"1/2\",\"1/4\",\"1/8\",\"1/16\"]\n",
    "statistic_full"
   ]
  },
  {
   "cell_type": "markdown",
   "metadata": {
    "deletable": true,
    "editable": true
   },
   "source": [
    "#### base bid = 272"
   ]
  },
  {
   "cell_type": "code",
   "execution_count": 141,
   "metadata": {
    "collapsed": false,
    "deletable": true,
    "editable": true
   },
   "outputs": [
    {
     "name": "stderr",
     "output_type": "stream",
     "text": [
      "C:\\Users\\rock\\Anaconda3\\lib\\site-packages\\ipykernel\\__main__.py:5: SettingWithCopyWarning: \n",
      "A value is trying to be set on a copy of a slice from a DataFrame.\n",
      "Try using .loc[row_indexer,col_indexer] = value instead\n",
      "\n",
      "See the caveats in the documentation: http://pandas.pydata.org/pandas-docs/stable/indexing.html#indexing-view-versus-copy\n"
     ]
    },
    {
     "data": {
      "text/html": [
       "<div>\n",
       "<table border=\"1\" class=\"dataframe\">\n",
       "  <thead>\n",
       "    <tr style=\"text-align: right;\">\n",
       "      <th></th>\n",
       "      <th>Click</th>\n",
       "      <th>Spend</th>\n",
       "      <th>CTR%</th>\n",
       "      <th>CPC</th>\n",
       "    </tr>\n",
       "  </thead>\n",
       "  <tbody>\n",
       "    <tr>\n",
       "      <th>full</th>\n",
       "      <td>210</td>\n",
       "      <td>19192.627</td>\n",
       "      <td>0.000767</td>\n",
       "      <td>91.393462</td>\n",
       "    </tr>\n",
       "    <tr>\n",
       "      <th>1/2</th>\n",
       "      <td>134</td>\n",
       "      <td>12499.955</td>\n",
       "      <td>0.000751</td>\n",
       "      <td>93.283246</td>\n",
       "    </tr>\n",
       "    <tr>\n",
       "      <th>1/4</th>\n",
       "      <td>81</td>\n",
       "      <td>6249.987</td>\n",
       "      <td>0.000908</td>\n",
       "      <td>77.160333</td>\n",
       "    </tr>\n",
       "    <tr>\n",
       "      <th>1/8</th>\n",
       "      <td>46</td>\n",
       "      <td>3124.988</td>\n",
       "      <td>0.001032</td>\n",
       "      <td>67.934522</td>\n",
       "    </tr>\n",
       "    <tr>\n",
       "      <th>1/16</th>\n",
       "      <td>24</td>\n",
       "      <td>1562.493</td>\n",
       "      <td>0.001082</td>\n",
       "      <td>65.103875</td>\n",
       "    </tr>\n",
       "  </tbody>\n",
       "</table>\n",
       "</div>"
      ],
      "text/plain": [
       "      Click      Spend      CTR%        CPC\n",
       "full    210  19192.627  0.000767  91.393462\n",
       "1/2     134  12499.955  0.000751  93.283246\n",
       "1/4      81   6249.987  0.000908  77.160333\n",
       "1/8      46   3124.988  0.001032  67.934522\n",
       "1/16     24   1562.493  0.001082  65.103875"
      ]
     },
     "execution_count": 141,
     "metadata": {},
     "output_type": "execute_result"
    }
   ],
   "source": [
    "validation['new_bidprice_log'] = 272*param_validation_log\n",
    "\n",
    "statistic=pd.DataFrame()\n",
    "new_validation = validation[validation[\"new_bidprice_log\"]>=validation.payprice]\n",
    "new_validation[\"total_cost\"] = new_validation[\"payprice\"].cumsum()\n",
    "new_validation = new_validation[new_validation[\"total_cost\"]/1000<=25000]\n",
    "statistic[\"Click\"] = [new_validation[new_validation.click==1].click.sum()]\n",
    "statistic[\"Spend\"] = new_validation.payprice.sum()/1000\n",
    "statistic[\"CTR%\"] = statistic[\"Click\"]/new_validation.shape[0]\n",
    "statistic[\"CPC\"] = statistic[\"Spend\"]/statistic[\"Click\"]\n",
    "\n",
    "statistic_4=pd.DataFrame()\n",
    "budget_4 = new_validation[new_validation[\"total_cost\"]/1000<=25000*1/4]\n",
    "statistic_4[\"Click\"] = [budget_4[budget_4.click==1].click.sum()]\n",
    "statistic_4[\"Spend\"] = budget_4.payprice.sum()/1000\n",
    "statistic_4[\"CTR%\"] = statistic_4[\"Click\"]/budget_4.shape[0]\n",
    "statistic_4[\"CPC\"] = statistic_4[\"Spend\"]/statistic_4[\"Click\"]\n",
    "\n",
    "statistic_2=pd.DataFrame()\n",
    "budget_2 = new_validation[new_validation[\"total_cost\"]/1000<=25000*1/2]\n",
    "statistic_2[\"Click\"] = [budget_2[budget_2.click==1].click.sum()]\n",
    "statistic_2[\"Spend\"] = budget_2.payprice.sum()/1000\n",
    "statistic_2[\"CTR%\"] = statistic_2[\"Click\"]/budget_2.shape[0]\n",
    "statistic_2[\"CPC\"] = statistic_2[\"Spend\"]/statistic_2[\"Click\"]\n",
    "\n",
    "statistic_16=pd.DataFrame()\n",
    "budget_16 = new_validation[new_validation[\"total_cost\"]/1000<=25000*1/16]\n",
    "statistic_16[\"Click\"] = [budget_16[budget_16.click==1].click.sum()]\n",
    "statistic_16[\"Spend\"] = budget_16.payprice.sum()/1000\n",
    "statistic_16[\"CTR%\"] = statistic_16[\"Click\"]/budget_16.shape[0]\n",
    "statistic_16[\"CPC\"] = statistic_16[\"Spend\"]/statistic_16[\"Click\"]\n",
    "\n",
    "statistic_8=pd.DataFrame()\n",
    "budget_8 = new_validation[new_validation[\"total_cost\"]/1000<=25000*1/8]\n",
    "statistic_8[\"Click\"] = [budget_8[budget_8.click==1].click.sum()]\n",
    "statistic_8[\"Spend\"] = budget_8.payprice.sum()/1000\n",
    "statistic_8[\"CTR%\"] = statistic_8[\"Click\"]/budget_8.shape[0]\n",
    "statistic_8[\"CPC\"] = statistic_8[\"Spend\"]/statistic_8[\"Click\"]\n",
    "\n",
    "statistic_one = statistic.append(statistic_2)\n",
    "statistic_two = statistic_one.append(statistic_4)\n",
    "statistic_3 = statistic_two.append(statistic_8)\n",
    "statistic_full = statistic_3.append(statistic_16)\n",
    "\n",
    "statistic_full.index = [\"full\",\"1/2\",\"1/4\",\"1/8\",\"1/16\"]\n",
    "statistic_full"
   ]
  },
  {
   "cell_type": "code",
   "execution_count": 142,
   "metadata": {
    "collapsed": false,
    "deletable": true,
    "editable": true
   },
   "outputs": [
    {
     "data": {
      "text/html": [
       "<div>\n",
       "<table border=\"1\" class=\"dataframe\">\n",
       "  <thead>\n",
       "    <tr style=\"text-align: right;\">\n",
       "      <th></th>\n",
       "      <th>click</th>\n",
       "      <th>weekday</th>\n",
       "      <th>hour</th>\n",
       "      <th>bidid</th>\n",
       "      <th>logtype</th>\n",
       "      <th>userid</th>\n",
       "      <th>useragent</th>\n",
       "      <th>IP</th>\n",
       "      <th>region</th>\n",
       "      <th>city</th>\n",
       "      <th>...</th>\n",
       "      <th>slotprice</th>\n",
       "      <th>creative</th>\n",
       "      <th>bidprice</th>\n",
       "      <th>payprice</th>\n",
       "      <th>keypage</th>\n",
       "      <th>advertiser</th>\n",
       "      <th>usertag</th>\n",
       "      <th>area</th>\n",
       "      <th>pCTR_log</th>\n",
       "      <th>new_bidprice_log</th>\n",
       "    </tr>\n",
       "  </thead>\n",
       "  <tbody>\n",
       "    <tr>\n",
       "      <th>0</th>\n",
       "      <td>0</td>\n",
       "      <td>5</td>\n",
       "      <td>14</td>\n",
       "      <td>91c6a6b9e90c0f54d3230815a5a3e22e</td>\n",
       "      <td>1</td>\n",
       "      <td>u_Vhk7C5STO8TZ3s8</td>\n",
       "      <td>windows_ie</td>\n",
       "      <td>14.122.240.*</td>\n",
       "      <td>216</td>\n",
       "      <td>232</td>\n",
       "      <td>...</td>\n",
       "      <td>0</td>\n",
       "      <td>449a22cd91d9042eda3d3a1b89a22ea8</td>\n",
       "      <td>227</td>\n",
       "      <td>102</td>\n",
       "      <td>0f951a030abdaedd733ee8d114ce2944</td>\n",
       "      <td>3427</td>\n",
       "      <td>10006,10063,10059,10111</td>\n",
       "      <td>75000</td>\n",
       "      <td>0.000633</td>\n",
       "      <td>229.004846</td>\n",
       "    </tr>\n",
       "    <tr>\n",
       "      <th>1</th>\n",
       "      <td>0</td>\n",
       "      <td>3</td>\n",
       "      <td>14</td>\n",
       "      <td>24b3621ad3b063b6c09c541781d534b3</td>\n",
       "      <td>1</td>\n",
       "      <td>u_DANDbCAksMy</td>\n",
       "      <td>android_safari</td>\n",
       "      <td>116.22.55.*</td>\n",
       "      <td>216</td>\n",
       "      <td>217</td>\n",
       "      <td>...</td>\n",
       "      <td>118</td>\n",
       "      <td>11908</td>\n",
       "      <td>277</td>\n",
       "      <td>118</td>\n",
       "      <td>null</td>\n",
       "      <td>2997</td>\n",
       "      <td>null</td>\n",
       "      <td>16000</td>\n",
       "      <td>0.005727</td>\n",
       "      <td>2072.300129</td>\n",
       "    </tr>\n",
       "    <tr>\n",
       "      <th>2</th>\n",
       "      <td>0</td>\n",
       "      <td>1</td>\n",
       "      <td>13</td>\n",
       "      <td>6e7bce0a9ad42f479827d37bf9618a9d</td>\n",
       "      <td>1</td>\n",
       "      <td>u_VhkxPnKHPo1H3Vb</td>\n",
       "      <td>windows_ie</td>\n",
       "      <td>60.215.242.*</td>\n",
       "      <td>146</td>\n",
       "      <td>149</td>\n",
       "      <td>...</td>\n",
       "      <td>70</td>\n",
       "      <td>d01411218cc79bc49d2a4078c4093b76</td>\n",
       "      <td>241</td>\n",
       "      <td>77</td>\n",
       "      <td>b2e35064f3549d447edbbdfb1f707c8c</td>\n",
       "      <td>3427</td>\n",
       "      <td>null</td>\n",
       "      <td>90000</td>\n",
       "      <td>0.000856</td>\n",
       "      <td>309.643773</td>\n",
       "    </tr>\n",
       "    <tr>\n",
       "      <th>3</th>\n",
       "      <td>0</td>\n",
       "      <td>5</td>\n",
       "      <td>18</td>\n",
       "      <td>6873feca381b8293bf418ba8408a014c</td>\n",
       "      <td>1</td>\n",
       "      <td>u_Vh5zL3B83ln9Xbl</td>\n",
       "      <td>windows_chrome</td>\n",
       "      <td>27.193.87.*</td>\n",
       "      <td>146</td>\n",
       "      <td>148</td>\n",
       "      <td>...</td>\n",
       "      <td>70</td>\n",
       "      <td>c46090c887c257b61ab1fa11baee91d8</td>\n",
       "      <td>241</td>\n",
       "      <td>77</td>\n",
       "      <td>0f951a030abdaedd733ee8d114ce2944</td>\n",
       "      <td>3427</td>\n",
       "      <td>null</td>\n",
       "      <td>90000</td>\n",
       "      <td>0.000970</td>\n",
       "      <td>350.846358</td>\n",
       "    </tr>\n",
       "    <tr>\n",
       "      <th>4</th>\n",
       "      <td>0</td>\n",
       "      <td>5</td>\n",
       "      <td>14</td>\n",
       "      <td>7e6430333c552cf0b32bb21dc792d2df</td>\n",
       "      <td>1</td>\n",
       "      <td>u_VhKPOr5wOt9HQsj</td>\n",
       "      <td>windows_ie</td>\n",
       "      <td>183.228.214.*</td>\n",
       "      <td>275</td>\n",
       "      <td>275</td>\n",
       "      <td>...</td>\n",
       "      <td>5</td>\n",
       "      <td>ff5123fb9333ca095034c62fdaaf51aa</td>\n",
       "      <td>300</td>\n",
       "      <td>178</td>\n",
       "      <td>361e128affece850342293213691a043</td>\n",
       "      <td>3386</td>\n",
       "      <td>null</td>\n",
       "      <td>94080</td>\n",
       "      <td>0.000352</td>\n",
       "      <td>127.211864</td>\n",
       "    </tr>\n",
       "  </tbody>\n",
       "</table>\n",
       "<p>5 rows × 29 columns</p>\n",
       "</div>"
      ],
      "text/plain": [
       "   click  weekday  hour                             bidid  logtype  \\\n",
       "0      0        5    14  91c6a6b9e90c0f54d3230815a5a3e22e        1   \n",
       "1      0        3    14  24b3621ad3b063b6c09c541781d534b3        1   \n",
       "2      0        1    13  6e7bce0a9ad42f479827d37bf9618a9d        1   \n",
       "3      0        5    18  6873feca381b8293bf418ba8408a014c        1   \n",
       "4      0        5    14  7e6430333c552cf0b32bb21dc792d2df        1   \n",
       "\n",
       "              userid       useragent             IP  region  city  \\\n",
       "0  u_Vhk7C5STO8TZ3s8      windows_ie   14.122.240.*     216   232   \n",
       "1      u_DANDbCAksMy  android_safari    116.22.55.*     216   217   \n",
       "2  u_VhkxPnKHPo1H3Vb      windows_ie   60.215.242.*     146   149   \n",
       "3  u_Vh5zL3B83ln9Xbl  windows_chrome    27.193.87.*     146   148   \n",
       "4  u_VhKPOr5wOt9HQsj      windows_ie  183.228.214.*     275   275   \n",
       "\n",
       "         ...        slotprice                          creative bidprice  \\\n",
       "0        ...                0  449a22cd91d9042eda3d3a1b89a22ea8      227   \n",
       "1        ...              118                             11908      277   \n",
       "2        ...               70  d01411218cc79bc49d2a4078c4093b76      241   \n",
       "3        ...               70  c46090c887c257b61ab1fa11baee91d8      241   \n",
       "4        ...                5  ff5123fb9333ca095034c62fdaaf51aa      300   \n",
       "\n",
       "  payprice                           keypage  advertiser  \\\n",
       "0      102  0f951a030abdaedd733ee8d114ce2944        3427   \n",
       "1      118                              null        2997   \n",
       "2       77  b2e35064f3549d447edbbdfb1f707c8c        3427   \n",
       "3       77  0f951a030abdaedd733ee8d114ce2944        3427   \n",
       "4      178  361e128affece850342293213691a043        3386   \n",
       "\n",
       "                   usertag   area  pCTR_log  new_bidprice_log  \n",
       "0  10006,10063,10059,10111  75000  0.000633        229.004846  \n",
       "1                     null  16000  0.005727       2072.300129  \n",
       "2                     null  90000  0.000856        309.643773  \n",
       "3                     null  90000  0.000970        350.846358  \n",
       "4                     null  94080  0.000352        127.211864  \n",
       "\n",
       "[5 rows x 29 columns]"
      ]
     },
     "execution_count": 142,
     "metadata": {},
     "output_type": "execute_result"
    }
   ],
   "source": [
    "validation.head()"
   ]
  },
  {
   "cell_type": "markdown",
   "metadata": {
    "collapsed": true,
    "deletable": true,
    "editable": true
   },
   "source": [
    "## Gradient"
   ]
  },
  {
   "cell_type": "code",
   "execution_count": 143,
   "metadata": {
    "collapsed": false,
    "deletable": true,
    "editable": true
   },
   "outputs": [
    {
     "data": {
      "text/html": [
       "<div>\n",
       "<table border=\"1\" class=\"dataframe\">\n",
       "  <thead>\n",
       "    <tr style=\"text-align: right;\">\n",
       "      <th></th>\n",
       "      <th>weekday</th>\n",
       "      <th>hour</th>\n",
       "      <th>advertiser</th>\n",
       "      <th>adexchange</th>\n",
       "      <th>area</th>\n",
       "      <th>slotvisibility</th>\n",
       "      <th>slotformat</th>\n",
       "      <th>frequent</th>\n",
       "      <th>slotprice</th>\n",
       "    </tr>\n",
       "  </thead>\n",
       "  <tbody>\n",
       "    <tr>\n",
       "      <th>0</th>\n",
       "      <td>1</td>\n",
       "      <td>14</td>\n",
       "      <td>1458</td>\n",
       "      <td>2</td>\n",
       "      <td>28080</td>\n",
       "      <td>1</td>\n",
       "      <td>0</td>\n",
       "      <td>0.019417</td>\n",
       "      <td>5</td>\n",
       "    </tr>\n",
       "    <tr>\n",
       "      <th>1</th>\n",
       "      <td>2</td>\n",
       "      <td>20</td>\n",
       "      <td>3476</td>\n",
       "      <td>2</td>\n",
       "      <td>62500</td>\n",
       "      <td>1</td>\n",
       "      <td>0</td>\n",
       "      <td>0.013130</td>\n",
       "      <td>5</td>\n",
       "    </tr>\n",
       "    <tr>\n",
       "      <th>2</th>\n",
       "      <td>5</td>\n",
       "      <td>9</td>\n",
       "      <td>1458</td>\n",
       "      <td>1</td>\n",
       "      <td>94080</td>\n",
       "      <td>0</td>\n",
       "      <td>1</td>\n",
       "      <td>0.039022</td>\n",
       "      <td>0</td>\n",
       "    </tr>\n",
       "    <tr>\n",
       "      <th>3</th>\n",
       "      <td>2</td>\n",
       "      <td>20</td>\n",
       "      <td>3427</td>\n",
       "      <td>2</td>\n",
       "      <td>65520</td>\n",
       "      <td>0</td>\n",
       "      <td>0</td>\n",
       "      <td>0.004477</td>\n",
       "      <td>162</td>\n",
       "    </tr>\n",
       "    <tr>\n",
       "      <th>4</th>\n",
       "      <td>6</td>\n",
       "      <td>9</td>\n",
       "      <td>3476</td>\n",
       "      <td>1</td>\n",
       "      <td>85500</td>\n",
       "      <td>0</td>\n",
       "      <td>1</td>\n",
       "      <td>0.001714</td>\n",
       "      <td>0</td>\n",
       "    </tr>\n",
       "  </tbody>\n",
       "</table>\n",
       "</div>"
      ],
      "text/plain": [
       "   weekday  hour  advertiser adexchange   area slotvisibility slotformat  \\\n",
       "0        1    14        1458          2  28080              1          0   \n",
       "1        2    20        3476          2  62500              1          0   \n",
       "2        5     9        1458          1  94080              0          1   \n",
       "3        2    20        3427          2  65520              0          0   \n",
       "4        6     9        3476          1  85500              0          1   \n",
       "\n",
       "   frequent  slotprice  \n",
       "0  0.019417          5  \n",
       "1  0.013130          5  \n",
       "2  0.039022          0  \n",
       "3  0.004477        162  \n",
       "4  0.001714          0  "
      ]
     },
     "execution_count": 143,
     "metadata": {},
     "output_type": "execute_result"
    }
   ],
   "source": [
    "train[\"area\"] = train[\"slotheight\"]*train[\"slotwidth\"] \n",
    "\n",
    "city = pd.DataFrame(train.city.value_counts()/train.shape[0]).index\n",
    "frequent = pd.DataFrame(train.city.value_counts()/train.shape[0]).values\n",
    "r = pd.DataFrame()\n",
    "r[\"city\"] = city\n",
    "r[\"frequent\"] = frequent\n",
    "train=pd.merge(train,r,on='city',how='left') \n",
    "\n",
    "feature = [\"weekday\",\"hour\",\"advertiser\",\"adexchange\",\"area\",\"slotvisibility\",\"slotformat\",\"frequent\",\n",
    "          \"slotprice\"]\n",
    "X_train = train[feature]\n",
    "Y_train = train[\"click\"]\n",
    "\n",
    "X_train.head()"
   ]
  },
  {
   "cell_type": "code",
   "execution_count": 144,
   "metadata": {
    "collapsed": false,
    "deletable": true,
    "editable": true
   },
   "outputs": [
    {
     "name": "stderr",
     "output_type": "stream",
     "text": [
      "C:\\Users\\rock\\Anaconda3\\lib\\site-packages\\ipykernel\\__main__.py:6: SettingWithCopyWarning: \n",
      "A value is trying to be set on a copy of a slice from a DataFrame.\n",
      "Try using .loc[row_indexer,col_indexer] = value instead\n",
      "\n",
      "See the caveats in the documentation: http://pandas.pydata.org/pandas-docs/stable/indexing.html#indexing-view-versus-copy\n",
      "C:\\Users\\rock\\Anaconda3\\lib\\site-packages\\ipykernel\\__main__.py:7: SettingWithCopyWarning: \n",
      "A value is trying to be set on a copy of a slice from a DataFrame.\n",
      "Try using .loc[row_indexer,col_indexer] = value instead\n",
      "\n",
      "See the caveats in the documentation: http://pandas.pydata.org/pandas-docs/stable/indexing.html#indexing-view-versus-copy\n",
      "C:\\Users\\rock\\Anaconda3\\lib\\site-packages\\ipykernel\\__main__.py:8: SettingWithCopyWarning: \n",
      "A value is trying to be set on a copy of a slice from a DataFrame.\n",
      "Try using .loc[row_indexer,col_indexer] = value instead\n",
      "\n",
      "See the caveats in the documentation: http://pandas.pydata.org/pandas-docs/stable/indexing.html#indexing-view-versus-copy\n",
      "C:\\Users\\rock\\Anaconda3\\lib\\site-packages\\ipykernel\\__main__.py:10: SettingWithCopyWarning: \n",
      "A value is trying to be set on a copy of a slice from a DataFrame.\n",
      "Try using .loc[row_indexer,col_indexer] = value instead\n",
      "\n",
      "See the caveats in the documentation: http://pandas.pydata.org/pandas-docs/stable/indexing.html#indexing-view-versus-copy\n",
      "C:\\Users\\rock\\Anaconda3\\lib\\site-packages\\ipykernel\\__main__.py:11: SettingWithCopyWarning: \n",
      "A value is trying to be set on a copy of a slice from a DataFrame.\n",
      "Try using .loc[row_indexer,col_indexer] = value instead\n",
      "\n",
      "See the caveats in the documentation: http://pandas.pydata.org/pandas-docs/stable/indexing.html#indexing-view-versus-copy\n",
      "C:\\Users\\rock\\Anaconda3\\lib\\site-packages\\ipykernel\\__main__.py:12: SettingWithCopyWarning: \n",
      "A value is trying to be set on a copy of a slice from a DataFrame.\n",
      "Try using .loc[row_indexer,col_indexer] = value instead\n",
      "\n",
      "See the caveats in the documentation: http://pandas.pydata.org/pandas-docs/stable/indexing.html#indexing-view-versus-copy\n"
     ]
    }
   ],
   "source": [
    "np.random.seed(12)\n",
    "\n",
    "# Initialize label encoder\n",
    "label_encoder = preprocessing.LabelEncoder()\n",
    "\n",
    "X_train[\"slotvisibility\"] = label_encoder.fit_transform(X_train[\"slotvisibility\"])\n",
    "X_train[\"slotformat\"] = label_encoder.fit_transform(X_train[\"slotformat\"])\n",
    "X_train[\"adexchange\"] = label_encoder.fit_transform(X_train[\"adexchange\"])\n",
    "\n",
    "X_train[\"advertiser\"]=X_train.advertiser.astype(\"str\")\n",
    "X_train[\"weekday\"]=X_train.weekday.astype(\"str\")\n",
    "X_train[\"hour\"]=X_train.hour.astype(\"str\")\n",
    "\n",
    "X_train=pd.get_dummies(X_train)"
   ]
  },
  {
   "cell_type": "code",
   "execution_count": 145,
   "metadata": {
    "collapsed": false,
    "deletable": true,
    "editable": true
   },
   "outputs": [
    {
     "data": {
      "text/plain": [
       "XGBClassifier(base_score=0.5, colsample_bylevel=1, colsample_bytree=1,\n",
       "       gamma=0, learning_rate=0.1, max_delta_step=0, max_depth=3,\n",
       "       min_child_weight=1, missing=None, n_estimators=300, nthread=-1,\n",
       "       objective='binary:logistic', reg_alpha=0, reg_lambda=1,\n",
       "       scale_pos_weight=1, seed=0, silent=True, subsample=1)"
      ]
     },
     "execution_count": 145,
     "metadata": {},
     "output_type": "execute_result"
    }
   ],
   "source": [
    "import xgboost as xgb\n",
    "#model_xgb = xgb.XGBClassifier(n_estimators=500, max_depth=3, learning_rate=0.5)\n",
    "model_xgb = xgb.XGBClassifier(n_estimators=300) #117\n",
    "model_xgb.fit(X_train,Y_train)\n",
    "\n",
    "\n",
    "#GBR = GradientBoostingClassifier()\n",
    "#GBR.fit(X_train, Y_train)"
   ]
  },
  {
   "cell_type": "code",
   "execution_count": 146,
   "metadata": {
    "collapsed": false,
    "deletable": true,
    "editable": true
   },
   "outputs": [
    {
     "data": {
      "text/plain": [
       "array([ 0.00086655,  0.00030427,  0.00111079, ...,  0.00025365,\n",
       "        0.00039957,  0.00078972], dtype=float32)"
      ]
     },
     "execution_count": 146,
     "metadata": {},
     "output_type": "execute_result"
    }
   ],
   "source": [
    "XGB_prediction2D=model_xgb.predict_proba(X_train)\n",
    "\n",
    "#Y_pred_ = GBR.predict_proba(X_train)\n",
    "Y_pred_gbr = XGB_prediction2D[:,1]\n",
    "Y_pred_gbr"
   ]
  },
  {
   "cell_type": "code",
   "execution_count": 147,
   "metadata": {
    "collapsed": false,
    "deletable": true,
    "editable": true
   },
   "outputs": [
    {
     "name": "stdout",
     "output_type": "stream",
     "text": [
      "RMSE: 0.027418830785208386\n"
     ]
    }
   ],
   "source": [
    "MSE = mean_squared_error(Y_pred_gbr,Y_train)\n",
    "RMSE = math.sqrt(MSE)\n",
    "print(\"RMSE: \" + str(RMSE) )"
   ]
  },
  {
   "cell_type": "markdown",
   "metadata": {
    "deletable": true,
    "editable": true
   },
   "source": [
    "### Performance Matrix --- Train\n",
    "#### Base bid = 100"
   ]
  },
  {
   "cell_type": "code",
   "execution_count": 148,
   "metadata": {
    "collapsed": false,
    "deletable": true,
    "editable": true
   },
   "outputs": [
    {
     "name": "stderr",
     "output_type": "stream",
     "text": [
      "C:\\Users\\rock\\Anaconda3\\lib\\site-packages\\ipykernel\\__main__.py:11: SettingWithCopyWarning: \n",
      "A value is trying to be set on a copy of a slice from a DataFrame.\n",
      "Try using .loc[row_indexer,col_indexer] = value instead\n",
      "\n",
      "See the caveats in the documentation: http://pandas.pydata.org/pandas-docs/stable/indexing.html#indexing-view-versus-copy\n"
     ]
    },
    {
     "data": {
      "text/html": [
       "<div>\n",
       "<table border=\"1\" class=\"dataframe\">\n",
       "  <thead>\n",
       "    <tr style=\"text-align: right;\">\n",
       "      <th></th>\n",
       "      <th>Click</th>\n",
       "      <th>Spend</th>\n",
       "      <th>CTR%</th>\n",
       "      <th>CPC</th>\n",
       "    </tr>\n",
       "  </thead>\n",
       "  <tbody>\n",
       "    <tr>\n",
       "      <th>full</th>\n",
       "      <td>445</td>\n",
       "      <td>24999.965</td>\n",
       "      <td>0.000912</td>\n",
       "      <td>56.179697</td>\n",
       "    </tr>\n",
       "    <tr>\n",
       "      <th>1/2</th>\n",
       "      <td>218</td>\n",
       "      <td>12499.957</td>\n",
       "      <td>0.000893</td>\n",
       "      <td>57.339252</td>\n",
       "    </tr>\n",
       "    <tr>\n",
       "      <th>1/4</th>\n",
       "      <td>100</td>\n",
       "      <td>6249.973</td>\n",
       "      <td>0.000818</td>\n",
       "      <td>62.499730</td>\n",
       "    </tr>\n",
       "    <tr>\n",
       "      <th>1/8</th>\n",
       "      <td>55</td>\n",
       "      <td>3124.995</td>\n",
       "      <td>0.000899</td>\n",
       "      <td>56.818091</td>\n",
       "    </tr>\n",
       "    <tr>\n",
       "      <th>1/16</th>\n",
       "      <td>24</td>\n",
       "      <td>1562.436</td>\n",
       "      <td>0.000786</td>\n",
       "      <td>65.101500</td>\n",
       "    </tr>\n",
       "  </tbody>\n",
       "</table>\n",
       "</div>"
      ],
      "text/plain": [
       "      Click      Spend      CTR%        CPC\n",
       "full    445  24999.965  0.000912  56.179697\n",
       "1/2     218  12499.957  0.000893  57.339252\n",
       "1/4     100   6249.973  0.000818  62.499730\n",
       "1/8      55   3124.995  0.000899  56.818091\n",
       "1/16     24   1562.436  0.000786  65.101500"
      ]
     },
     "execution_count": 148,
     "metadata": {},
     "output_type": "execute_result"
    }
   ],
   "source": [
    "train[\"pCTR_gbr\"] = Y_pred_gbr\n",
    "\n",
    "avgCTR = Y_pred_gbr.mean()\n",
    "\n",
    "param_gbr= Y_pred_gbr/avgCTR\n",
    "\n",
    "train['new_bidprice_gbr'] = 100*param_gbr\n",
    "\n",
    "statistic=pd.DataFrame()\n",
    "new_train = train[train[\"new_bidprice_gbr\"]>=train.payprice]\n",
    "new_train[\"total_cost\"] = new_train[\"payprice\"].cumsum()\n",
    "new_train = new_train[new_train[\"total_cost\"]/1000<=25000]\n",
    "statistic[\"Click\"] = [new_train[new_train.click==1].click.sum()]\n",
    "statistic[\"Spend\"] = new_train.payprice.sum()/1000\n",
    "statistic[\"CTR%\"] = statistic[\"Click\"]/new_train.shape[0]\n",
    "statistic[\"CPC\"] = statistic[\"Spend\"]/statistic[\"Click\"]\n",
    "\n",
    "statistic_4=pd.DataFrame()\n",
    "budget_4 = new_train[new_train[\"total_cost\"]/1000<=25000*1/4]\n",
    "statistic_4[\"Click\"] = [budget_4[budget_4.click==1].click.sum()]\n",
    "statistic_4[\"Spend\"] = budget_4.payprice.sum()/1000\n",
    "statistic_4[\"CTR%\"] = statistic_4[\"Click\"]/budget_4.shape[0]\n",
    "statistic_4[\"CPC\"] = statistic_4[\"Spend\"]/statistic_4[\"Click\"]\n",
    "\n",
    "statistic_2=pd.DataFrame()\n",
    "budget_2 = new_train[new_train[\"total_cost\"]/1000<=25000*1/2]\n",
    "statistic_2[\"Click\"] = [budget_2[budget_2.click==1].click.sum()]\n",
    "statistic_2[\"Spend\"] = budget_2.payprice.sum()/1000\n",
    "statistic_2[\"CTR%\"] = statistic_2[\"Click\"]/budget_2.shape[0]\n",
    "statistic_2[\"CPC\"] = statistic_2[\"Spend\"]/statistic_2[\"Click\"]\n",
    "\n",
    "statistic_16=pd.DataFrame()\n",
    "budget_16 = new_train[new_train[\"total_cost\"]/1000<=25000*1/16]\n",
    "statistic_16[\"Click\"] = [budget_16[budget_16.click==1].click.sum()]\n",
    "statistic_16[\"Spend\"] = budget_16.payprice.sum()/1000\n",
    "statistic_16[\"CTR%\"] = statistic_16[\"Click\"]/budget_16.shape[0]\n",
    "statistic_16[\"CPC\"] = statistic_16[\"Spend\"]/statistic_16[\"Click\"]\n",
    "\n",
    "statistic_8=pd.DataFrame()\n",
    "budget_8 = new_train[new_train[\"total_cost\"]/1000<=25000*1/8]\n",
    "statistic_8[\"Click\"] = [budget_8[budget_8.click==1].click.sum()]\n",
    "statistic_8[\"Spend\"] = budget_8.payprice.sum()/1000\n",
    "statistic_8[\"CTR%\"] = statistic_8[\"Click\"]/budget_8.shape[0]\n",
    "statistic_8[\"CPC\"] = statistic_8[\"Spend\"]/statistic_8[\"Click\"]\n",
    "\n",
    "statistic_one = statistic.append(statistic_2)\n",
    "statistic_two = statistic_one.append(statistic_4)\n",
    "statistic_3 = statistic_two.append(statistic_8)\n",
    "statistic_full = statistic_3.append(statistic_16)\n",
    "\n",
    "statistic_full.index = [\"full\",\"1/2\",\"1/4\",\"1/8\",\"1/16\"]\n",
    "statistic_full"
   ]
  },
  {
   "cell_type": "markdown",
   "metadata": {
    "deletable": true,
    "editable": true
   },
   "source": [
    "### Validation"
   ]
  },
  {
   "cell_type": "code",
   "execution_count": 149,
   "metadata": {
    "collapsed": false,
    "deletable": true,
    "editable": true
   },
   "outputs": [
    {
     "data": {
      "text/html": [
       "<div>\n",
       "<table border=\"1\" class=\"dataframe\">\n",
       "  <thead>\n",
       "    <tr style=\"text-align: right;\">\n",
       "      <th></th>\n",
       "      <th>weekday</th>\n",
       "      <th>hour</th>\n",
       "      <th>advertiser</th>\n",
       "      <th>adexchange</th>\n",
       "      <th>area</th>\n",
       "      <th>slotvisibility</th>\n",
       "      <th>slotformat</th>\n",
       "      <th>frequent</th>\n",
       "      <th>slotprice</th>\n",
       "    </tr>\n",
       "  </thead>\n",
       "  <tbody>\n",
       "    <tr>\n",
       "      <th>0</th>\n",
       "      <td>5</td>\n",
       "      <td>14</td>\n",
       "      <td>3427</td>\n",
       "      <td>1</td>\n",
       "      <td>75000</td>\n",
       "      <td>0</td>\n",
       "      <td>1</td>\n",
       "      <td>0.002068</td>\n",
       "      <td>0</td>\n",
       "    </tr>\n",
       "    <tr>\n",
       "      <th>1</th>\n",
       "      <td>3</td>\n",
       "      <td>14</td>\n",
       "      <td>2997</td>\n",
       "      <td>null</td>\n",
       "      <td>16000</td>\n",
       "      <td>FirstView</td>\n",
       "      <td>Na</td>\n",
       "      <td>0.039229</td>\n",
       "      <td>118</td>\n",
       "    </tr>\n",
       "    <tr>\n",
       "      <th>2</th>\n",
       "      <td>1</td>\n",
       "      <td>13</td>\n",
       "      <td>3427</td>\n",
       "      <td>3</td>\n",
       "      <td>90000</td>\n",
       "      <td>0</td>\n",
       "      <td>0</td>\n",
       "      <td>0.003676</td>\n",
       "      <td>70</td>\n",
       "    </tr>\n",
       "    <tr>\n",
       "      <th>3</th>\n",
       "      <td>5</td>\n",
       "      <td>18</td>\n",
       "      <td>3427</td>\n",
       "      <td>3</td>\n",
       "      <td>90000</td>\n",
       "      <td>0</td>\n",
       "      <td>0</td>\n",
       "      <td>0.010175</td>\n",
       "      <td>70</td>\n",
       "    </tr>\n",
       "    <tr>\n",
       "      <th>4</th>\n",
       "      <td>5</td>\n",
       "      <td>14</td>\n",
       "      <td>3386</td>\n",
       "      <td>2</td>\n",
       "      <td>94080</td>\n",
       "      <td>2</td>\n",
       "      <td>0</td>\n",
       "      <td>0.021628</td>\n",
       "      <td>5</td>\n",
       "    </tr>\n",
       "  </tbody>\n",
       "</table>\n",
       "</div>"
      ],
      "text/plain": [
       "   weekday  hour  advertiser adexchange   area slotvisibility slotformat  \\\n",
       "0        5    14        3427          1  75000              0          1   \n",
       "1        3    14        2997       null  16000      FirstView         Na   \n",
       "2        1    13        3427          3  90000              0          0   \n",
       "3        5    18        3427          3  90000              0          0   \n",
       "4        5    14        3386          2  94080              2          0   \n",
       "\n",
       "   frequent  slotprice  \n",
       "0  0.002068          0  \n",
       "1  0.039229        118  \n",
       "2  0.003676         70  \n",
       "3  0.010175         70  \n",
       "4  0.021628          5  "
      ]
     },
     "execution_count": 149,
     "metadata": {},
     "output_type": "execute_result"
    }
   ],
   "source": [
    "validation[\"area\"] = validation[\"slotheight\"]*validation[\"slotwidth\"] \n",
    "\n",
    "city = pd.DataFrame(validation.city.value_counts()/validation.shape[0]).index\n",
    "frequent = pd.DataFrame(validation.city.value_counts()/validation.shape[0]).values\n",
    "r = pd.DataFrame()\n",
    "r[\"city\"] = city\n",
    "r[\"frequent\"] = frequent\n",
    "validation=pd.merge(validation,r,on='city',how='left') \n",
    "\n",
    "feature = [\"weekday\",\"hour\",\"advertiser\",\"adexchange\",\"area\",\"slotvisibility\",\"slotformat\",\"frequent\",\n",
    "          \"slotprice\"]\n",
    "X_validation = validation[feature]\n",
    "Y_validation = validation[\"click\"]\n",
    "\n",
    "X_validation.head()"
   ]
  },
  {
   "cell_type": "code",
   "execution_count": 150,
   "metadata": {
    "collapsed": false,
    "deletable": true,
    "editable": true
   },
   "outputs": [
    {
     "name": "stderr",
     "output_type": "stream",
     "text": [
      "C:\\Users\\rock\\Anaconda3\\lib\\site-packages\\ipykernel\\__main__.py:6: SettingWithCopyWarning: \n",
      "A value is trying to be set on a copy of a slice from a DataFrame.\n",
      "Try using .loc[row_indexer,col_indexer] = value instead\n",
      "\n",
      "See the caveats in the documentation: http://pandas.pydata.org/pandas-docs/stable/indexing.html#indexing-view-versus-copy\n",
      "C:\\Users\\rock\\Anaconda3\\lib\\site-packages\\ipykernel\\__main__.py:7: SettingWithCopyWarning: \n",
      "A value is trying to be set on a copy of a slice from a DataFrame.\n",
      "Try using .loc[row_indexer,col_indexer] = value instead\n",
      "\n",
      "See the caveats in the documentation: http://pandas.pydata.org/pandas-docs/stable/indexing.html#indexing-view-versus-copy\n",
      "C:\\Users\\rock\\Anaconda3\\lib\\site-packages\\ipykernel\\__main__.py:8: SettingWithCopyWarning: \n",
      "A value is trying to be set on a copy of a slice from a DataFrame.\n",
      "Try using .loc[row_indexer,col_indexer] = value instead\n",
      "\n",
      "See the caveats in the documentation: http://pandas.pydata.org/pandas-docs/stable/indexing.html#indexing-view-versus-copy\n",
      "C:\\Users\\rock\\Anaconda3\\lib\\site-packages\\ipykernel\\__main__.py:11: SettingWithCopyWarning: \n",
      "A value is trying to be set on a copy of a slice from a DataFrame.\n",
      "Try using .loc[row_indexer,col_indexer] = value instead\n",
      "\n",
      "See the caveats in the documentation: http://pandas.pydata.org/pandas-docs/stable/indexing.html#indexing-view-versus-copy\n",
      "C:\\Users\\rock\\Anaconda3\\lib\\site-packages\\ipykernel\\__main__.py:12: SettingWithCopyWarning: \n",
      "A value is trying to be set on a copy of a slice from a DataFrame.\n",
      "Try using .loc[row_indexer,col_indexer] = value instead\n",
      "\n",
      "See the caveats in the documentation: http://pandas.pydata.org/pandas-docs/stable/indexing.html#indexing-view-versus-copy\n",
      "C:\\Users\\rock\\Anaconda3\\lib\\site-packages\\ipykernel\\__main__.py:13: SettingWithCopyWarning: \n",
      "A value is trying to be set on a copy of a slice from a DataFrame.\n",
      "Try using .loc[row_indexer,col_indexer] = value instead\n",
      "\n",
      "See the caveats in the documentation: http://pandas.pydata.org/pandas-docs/stable/indexing.html#indexing-view-versus-copy\n"
     ]
    }
   ],
   "source": [
    "np.random.seed(12)\n",
    "\n",
    "# Initialize label encoder\n",
    "label_encoder = preprocessing.LabelEncoder()\n",
    "\n",
    "X_validation[\"slotvisibility\"] = label_encoder.fit_transform(X_validation[\"slotvisibility\"])\n",
    "X_validation[\"slotformat\"] = label_encoder.fit_transform(X_validation[\"slotformat\"])\n",
    "X_validation[\"adexchange\"] = label_encoder.fit_transform(X_validation[\"adexchange\"])\n",
    "\n",
    "\n",
    "X_validation[\"advertiser\"]=X_validation.advertiser.astype(\"str\")\n",
    "X_validation[\"weekday\"]=X_validation.weekday.astype(\"str\")\n",
    "X_validation[\"hour\"]=X_validation.hour.astype(\"str\")\n",
    "\n",
    "X_validation=pd.get_dummies(X_validation)"
   ]
  },
  {
   "cell_type": "code",
   "execution_count": 151,
   "metadata": {
    "collapsed": false,
    "deletable": true,
    "editable": true
   },
   "outputs": [
    {
     "name": "stdout",
     "output_type": "stream",
     "text": [
      "RMSE: 0.02742863197982376\n"
     ]
    }
   ],
   "source": [
    "#Y_pred_validation_gbr = GBR.predict_proba(X_validation)\n",
    "#Y_pred_validation_gbr = Y_pred_validation_gbr [:,1]\n",
    "\n",
    "XGB_prediction2D=model_xgb.predict_proba(X_validation)\n",
    "\n",
    "#Y_pred_ = GBR.predict_proba(X_train)\n",
    "Y_pred_validation_gbr = XGB_prediction2D[:,1]\n",
    "\n",
    "MSE = mean_squared_error(Y_pred_validation_gbr,Y_validation)\n",
    "RMSE = math.sqrt(MSE)\n",
    "print(\"RMSE: \" + str(RMSE) )"
   ]
  },
  {
   "cell_type": "markdown",
   "metadata": {
    "deletable": true,
    "editable": true
   },
   "source": [
    "### Performace Matrix--validaiton\n",
    "#### Base bid = 100"
   ]
  },
  {
   "cell_type": "code",
   "execution_count": 152,
   "metadata": {
    "collapsed": false,
    "deletable": true,
    "editable": true
   },
   "outputs": [
    {
     "name": "stderr",
     "output_type": "stream",
     "text": [
      "C:\\Users\\rock\\Anaconda3\\lib\\site-packages\\ipykernel\\__main__.py:11: SettingWithCopyWarning: \n",
      "A value is trying to be set on a copy of a slice from a DataFrame.\n",
      "Try using .loc[row_indexer,col_indexer] = value instead\n",
      "\n",
      "See the caveats in the documentation: http://pandas.pydata.org/pandas-docs/stable/indexing.html#indexing-view-versus-copy\n"
     ]
    },
    {
     "data": {
      "text/html": [
       "<div>\n",
       "<table border=\"1\" class=\"dataframe\">\n",
       "  <thead>\n",
       "    <tr style=\"text-align: right;\">\n",
       "      <th></th>\n",
       "      <th>Click</th>\n",
       "      <th>Spend</th>\n",
       "      <th>CTR%</th>\n",
       "      <th>CPC</th>\n",
       "    </tr>\n",
       "  </thead>\n",
       "  <tbody>\n",
       "    <tr>\n",
       "      <th>full</th>\n",
       "      <td>152</td>\n",
       "      <td>9489.057</td>\n",
       "      <td>0.000822</td>\n",
       "      <td>62.428007</td>\n",
       "    </tr>\n",
       "    <tr>\n",
       "      <th>1/2</th>\n",
       "      <td>152</td>\n",
       "      <td>9489.057</td>\n",
       "      <td>0.000822</td>\n",
       "      <td>62.428007</td>\n",
       "    </tr>\n",
       "    <tr>\n",
       "      <th>1/4</th>\n",
       "      <td>101</td>\n",
       "      <td>6249.952</td>\n",
       "      <td>0.000827</td>\n",
       "      <td>61.880713</td>\n",
       "    </tr>\n",
       "    <tr>\n",
       "      <th>1/8</th>\n",
       "      <td>61</td>\n",
       "      <td>3124.913</td>\n",
       "      <td>0.000998</td>\n",
       "      <td>51.228082</td>\n",
       "    </tr>\n",
       "    <tr>\n",
       "      <th>1/16</th>\n",
       "      <td>33</td>\n",
       "      <td>1562.486</td>\n",
       "      <td>0.001083</td>\n",
       "      <td>47.348061</td>\n",
       "    </tr>\n",
       "  </tbody>\n",
       "</table>\n",
       "</div>"
      ],
      "text/plain": [
       "      Click     Spend      CTR%        CPC\n",
       "full    152  9489.057  0.000822  62.428007\n",
       "1/2     152  9489.057  0.000822  62.428007\n",
       "1/4     101  6249.952  0.000827  61.880713\n",
       "1/8      61  3124.913  0.000998  51.228082\n",
       "1/16     33  1562.486  0.001083  47.348061"
      ]
     },
     "execution_count": 152,
     "metadata": {},
     "output_type": "execute_result"
    }
   ],
   "source": [
    "validation[\"pCTR_gbr\"] = Y_pred_validation_gbr\n",
    "\n",
    "avgCTR = Y_pred_validation_gbr.mean()\n",
    "\n",
    "param_validation_gbr= Y_pred_validation_gbr/avgCTR\n",
    "\n",
    "validation['new_bidprice_gbr'] = 100*param_validation_gbr\n",
    "\n",
    "statistic=pd.DataFrame()\n",
    "new_validation = validation[validation[\"new_bidprice_gbr\"]>=validation.payprice]\n",
    "new_validation[\"total_cost\"] = new_validation[\"payprice\"].cumsum()\n",
    "new_validation = new_validation[new_validation[\"total_cost\"]/1000<=25000]\n",
    "statistic[\"Click\"] = [new_validation[new_validation.click==1].click.sum()]\n",
    "statistic[\"Spend\"] = new_validation.payprice.sum()/1000\n",
    "statistic[\"CTR%\"] = statistic[\"Click\"]/new_validation.shape[0]\n",
    "statistic[\"CPC\"] = statistic[\"Spend\"]/statistic[\"Click\"]\n",
    "\n",
    "statistic_4=pd.DataFrame()\n",
    "budget_4 = new_validation[new_validation[\"total_cost\"]/1000<=25000*1/4]\n",
    "statistic_4[\"Click\"] = [budget_4[budget_4.click==1].click.sum()]\n",
    "statistic_4[\"Spend\"] = budget_4.payprice.sum()/1000\n",
    "statistic_4[\"CTR%\"] = statistic_4[\"Click\"]/budget_4.shape[0]\n",
    "statistic_4[\"CPC\"] = statistic_4[\"Spend\"]/statistic_4[\"Click\"]\n",
    "\n",
    "statistic_2=pd.DataFrame()\n",
    "budget_2 = new_validation[new_validation[\"total_cost\"]/1000<=25000*1/2]\n",
    "statistic_2[\"Click\"] = [budget_2[budget_2.click==1].click.sum()]\n",
    "statistic_2[\"Spend\"] = budget_2.payprice.sum()/1000\n",
    "statistic_2[\"CTR%\"] = statistic_2[\"Click\"]/budget_2.shape[0]\n",
    "statistic_2[\"CPC\"] = statistic_2[\"Spend\"]/statistic_2[\"Click\"]\n",
    "\n",
    "statistic_16=pd.DataFrame()\n",
    "budget_16 = new_validation[new_validation[\"total_cost\"]/1000<=25000*1/16]\n",
    "statistic_16[\"Click\"] = [budget_16[budget_16.click==1].click.sum()]\n",
    "statistic_16[\"Spend\"] = budget_16.payprice.sum()/1000\n",
    "statistic_16[\"CTR%\"] = statistic_16[\"Click\"]/budget_16.shape[0]\n",
    "statistic_16[\"CPC\"] = statistic_16[\"Spend\"]/statistic_16[\"Click\"]\n",
    "\n",
    "statistic_8=pd.DataFrame()\n",
    "budget_8 = new_validation[new_validation[\"total_cost\"]/1000<=25000*1/8]\n",
    "statistic_8[\"Click\"] = [budget_8[budget_8.click==1].click.sum()]\n",
    "statistic_8[\"Spend\"] = budget_8.payprice.sum()/1000\n",
    "statistic_8[\"CTR%\"] = statistic_8[\"Click\"]/budget_8.shape[0]\n",
    "statistic_8[\"CPC\"] = statistic_8[\"Spend\"]/statistic_8[\"Click\"]\n",
    "\n",
    "statistic_one = statistic.append(statistic_2)\n",
    "statistic_two = statistic_one.append(statistic_4)\n",
    "statistic_3 = statistic_two.append(statistic_8)\n",
    "statistic_full = statistic_3.append(statistic_16)\n",
    "\n",
    "statistic_full.index = [\"full\",\"1/2\",\"1/4\",\"1/8\",\"1/16\"]\n",
    "statistic_full"
   ]
  },
  {
   "cell_type": "markdown",
   "metadata": {
    "deletable": true,
    "editable": true
   },
   "source": [
    "#### base price = 272"
   ]
  },
  {
   "cell_type": "code",
   "execution_count": null,
   "metadata": {
    "collapsed": false,
    "deletable": true,
    "editable": true
   },
   "outputs": [],
   "source": []
  },
  {
   "cell_type": "code",
   "execution_count": 154,
   "metadata": {
    "collapsed": false,
    "deletable": true,
    "editable": true
   },
   "outputs": [
    {
     "name": "stderr",
     "output_type": "stream",
     "text": [
      "C:\\Users\\rock\\Anaconda3\\lib\\site-packages\\ipykernel\\__main__.py:14: SettingWithCopyWarning: \n",
      "A value is trying to be set on a copy of a slice from a DataFrame.\n",
      "Try using .loc[row_indexer,col_indexer] = value instead\n",
      "\n",
      "See the caveats in the documentation: http://pandas.pydata.org/pandas-docs/stable/indexing.html#indexing-view-versus-copy\n"
     ]
    },
    {
     "data": {
      "text/html": [
       "<div>\n",
       "<table border=\"1\" class=\"dataframe\">\n",
       "  <thead>\n",
       "    <tr style=\"text-align: right;\">\n",
       "      <th></th>\n",
       "      <th>Click</th>\n",
       "      <th>Spend</th>\n",
       "      <th>CTR%</th>\n",
       "      <th>CPC</th>\n",
       "      <th>CPM</th>\n",
       "    </tr>\n",
       "  </thead>\n",
       "  <tbody>\n",
       "    <tr>\n",
       "      <th>full</th>\n",
       "      <td>116</td>\n",
       "      <td>6093.271</td>\n",
       "      <td>0.084943</td>\n",
       "      <td>52.528198</td>\n",
       "      <td>44.619081</td>\n",
       "    </tr>\n",
       "    <tr>\n",
       "      <th>1/2</th>\n",
       "      <td>116</td>\n",
       "      <td>6093.271</td>\n",
       "      <td>0.084943</td>\n",
       "      <td>52.528198</td>\n",
       "      <td>44.619081</td>\n",
       "    </tr>\n",
       "    <tr>\n",
       "      <th>1/4(6250)</th>\n",
       "      <td>116</td>\n",
       "      <td>6093.271</td>\n",
       "      <td>0.084943</td>\n",
       "      <td>52.528198</td>\n",
       "      <td>44.619081</td>\n",
       "    </tr>\n",
       "    <tr>\n",
       "      <th>1/8</th>\n",
       "      <td>63</td>\n",
       "      <td>3124.961</td>\n",
       "      <td>0.089543</td>\n",
       "      <td>49.602556</td>\n",
       "      <td>44.415780</td>\n",
       "    </tr>\n",
       "    <tr>\n",
       "      <th>1/16</th>\n",
       "      <td>36</td>\n",
       "      <td>1562.480</td>\n",
       "      <td>0.102305</td>\n",
       "      <td>43.402222</td>\n",
       "      <td>44.402512</td>\n",
       "    </tr>\n",
       "  </tbody>\n",
       "</table>\n",
       "</div>"
      ],
      "text/plain": [
       "           Click     Spend      CTR%        CPC        CPM\n",
       "full         116  6093.271  0.084943  52.528198  44.619081\n",
       "1/2          116  6093.271  0.084943  52.528198  44.619081\n",
       "1/4(6250)    116  6093.271  0.084943  52.528198  44.619081\n",
       "1/8           63  3124.961  0.089543  49.602556  44.415780\n",
       "1/16          36  1562.480  0.102305  43.402222  44.402512"
      ]
     },
     "execution_count": 154,
     "metadata": {},
     "output_type": "execute_result"
    }
   ],
   "source": [
    "#validation['new_bidprice_gbr']=param_validation_gbr\n",
    "validation['new_bidprice_gbr']=70*param_validation_gbr   #1/4 116 #A\n",
    "#validation['new_bidprice_gbr'] = 70*(np.sqrt(validation['new_bidprice_gbr']))*10   #B\n",
    "#validation['new_bidprice_gbr'] = 70*(param_validation_gbr**2) #C\n",
    "#validation['new_bidprice_gbr'] = 70*(param_validation_gbr**3) #D\n",
    "#validation['new_bidprice_gbr'] = 80*(param_validation_gbr) #validation['new_bidprice_gbr']\n",
    "#validation['new_bidprice_gbr'] = 70*(np.log(validation['new_bidprice_gbr']))*10  #E\n",
    "#validation['new_bidprice_gbr'] = 99800000*(((validation['new_bidprice_gbr']/q)**2)/(((validation['new_bidprice_gbr']/q)**2)+25))#\n",
    "#F\n",
    "#validation['new_bidprice_gbr']=70*(param_validation_gbr+   (np.log10(validation['new_bidprice_gbr']))**2     )\n",
    "\n",
    "statistic=pd.DataFrame()\n",
    "new_validation = validation[validation[\"new_bidprice_gbr\"]>=validation.payprice]\n",
    "new_validation[\"total_cost\"] = new_validation[\"payprice\"].cumsum()\n",
    "budget_1 = new_validation[new_validation[\"total_cost\"]/1000<=25000]\n",
    "statistic[\"Click\"] = [budget_1[budget_1.click==1].click.sum()]\n",
    "statistic[\"Spend\"] = budget_1.payprice.sum()/1000\n",
    "statistic[\"CTR%\"] = statistic[\"Click\"]/budget_1.shape[0]*100\n",
    "statistic[\"CPC\"] = statistic[\"Spend\"]/statistic[\"Click\"]\n",
    "statistic[\"CPM\"] = statistic[\"Spend\"] /budget_1.shape[0]* 1000\n",
    "\n",
    "statistic_2=pd.DataFrame()\n",
    "budget_2 = new_validation[new_validation[\"total_cost\"]/1000<=25000*1/2]\n",
    "statistic_2[\"Click\"] = [budget_2[budget_2.click==1].click.sum()]\n",
    "statistic_2[\"Spend\"] = budget_2.payprice.sum()/1000\n",
    "statistic_2[\"CTR%\"] = statistic_2[\"Click\"]/budget_2.shape[0]*100\n",
    "statistic_2[\"CPC\"] = statistic_2[\"Spend\"]/statistic_2[\"Click\"]\n",
    "statistic_2[\"CPM\"] = statistic_2[\"Spend\"] /budget_2.shape[0]* 1000\n",
    "\n",
    "statistic_4=pd.DataFrame()\n",
    "budget_4 = new_validation[new_validation[\"total_cost\"]/1000<=25000/4]\n",
    "statistic_4[\"Click\"] = [budget_4[budget_4.click==1].click.sum()]\n",
    "statistic_4[\"Spend\"] = budget_4.payprice.sum()/1000\n",
    "statistic_4[\"CTR%\"] = statistic_4[\"Click\"]/budget_4.shape[0]*100\n",
    "statistic_4[\"CPC\"] = statistic_4[\"Spend\"]/statistic_4[\"Click\"]\n",
    "statistic_4[\"CPM\"] = statistic_4[\"Spend\"] /budget_4.shape[0]* 1000\n",
    "\n",
    "statistic_8=pd.DataFrame()\n",
    "budget_8 = new_validation[new_validation[\"total_cost\"]/1000<=25000*1/8]\n",
    "statistic_8[\"Click\"] = [budget_8[budget_8.click==1].click.sum()]\n",
    "statistic_8[\"Spend\"] = budget_8.payprice.sum()/1000\n",
    "statistic_8[\"CTR%\"] = statistic_8[\"Click\"]/budget_8.shape[0]*100\n",
    "statistic_8[\"CPC\"] = statistic_8[\"Spend\"]/statistic_8[\"Click\"]\n",
    "statistic_8[\"CPM\"] = statistic_8[\"Spend\"] /budget_8.shape[0]* 1000\n",
    "\n",
    "statistic_16=pd.DataFrame()\n",
    "budget_16 = new_validation[new_validation[\"total_cost\"]/1000<=25000*1/16]\n",
    "statistic_16[\"Click\"] = [budget_16[budget_16.click==1].click.sum()]\n",
    "statistic_16[\"Spend\"] = budget_16.payprice.sum()/1000\n",
    "statistic_16[\"CTR%\"] = statistic_16[\"Click\"]/budget_16.shape[0]*100\n",
    "statistic_16[\"CPC\"] = statistic_16[\"Spend\"]/statistic_16[\"Click\"]\n",
    "statistic_16[\"CPM\"] = statistic_16[\"Spend\"] /budget_16.shape[0]* 1000\n",
    "\n",
    "\n",
    "statistic_one = statistic.append(statistic_2)\n",
    "statistic_two = statistic_one.append(statistic_4)\n",
    "statistic_3 = statistic_two.append(statistic_8)\n",
    "statistic_full = statistic_3.append(statistic_16)\n",
    "\n",
    "statistic_full.index = [\"full\",\"1/2\",\"1/4(6250)\",\"1/8\",\"1/16\"]\n",
    "statistic_full"
   ]
  },
  {
   "cell_type": "code",
   "execution_count": 35,
   "metadata": {
    "collapsed": true,
    "deletable": true,
    "editable": true
   },
   "outputs": [],
   "source": [
    "#66 #n_estimators=600, max_depth=9, learning_rate=0.1\n",
    "#107 #defult\n",
    "#66 #learning_rate=0.01\n",
    "#110 #n_estimators=200\n",
    "#114 #n_estimators=300\n",
    "#109 #n_estimators=400\n",
    "#66 #n_estimators=300 learning_rate=0.01\n",
    "#111 #n_estimators=300, max_depth=5"
   ]
  },
  {
   "cell_type": "code",
   "execution_count": 36,
   "metadata": {
    "collapsed": true,
    "deletable": true,
    "editable": true
   },
   "outputs": [],
   "source": [
    "#117  74"
   ]
  },
  {
   "cell_type": "code",
   "execution_count": 37,
   "metadata": {
    "collapsed": true,
    "deletable": true,
    "editable": true
   },
   "outputs": [],
   "source": [
    "#sss=param_validation_gbr**0.5"
   ]
  },
  {
   "cell_type": "code",
   "execution_count": null,
   "metadata": {
    "collapsed": true
   },
   "outputs": [],
   "source": []
  },
  {
   "cell_type": "code",
   "execution_count": null,
   "metadata": {
    "collapsed": true
   },
   "outputs": [],
   "source": []
  },
  {
   "cell_type": "code",
   "execution_count": null,
   "metadata": {
    "collapsed": true
   },
   "outputs": [],
   "source": []
  },
  {
   "cell_type": "code",
   "execution_count": null,
   "metadata": {
    "collapsed": true
   },
   "outputs": [],
   "source": []
  },
  {
   "cell_type": "code",
   "execution_count": null,
   "metadata": {
    "collapsed": true
   },
   "outputs": [],
   "source": []
  },
  {
   "cell_type": "code",
   "execution_count": null,
   "metadata": {
    "collapsed": true
   },
   "outputs": [],
   "source": []
  },
  {
   "cell_type": "code",
   "execution_count": null,
   "metadata": {
    "collapsed": true
   },
   "outputs": [],
   "source": []
  },
  {
   "cell_type": "code",
   "execution_count": null,
   "metadata": {
    "collapsed": true
   },
   "outputs": [],
   "source": []
  },
  {
   "cell_type": "code",
   "execution_count": 76,
   "metadata": {
    "collapsed": false
   },
   "outputs": [
    {
     "data": {
      "text/html": [
       "<div>\n",
       "<table border=\"1\" class=\"dataframe\">\n",
       "  <thead>\n",
       "    <tr style=\"text-align: right;\">\n",
       "      <th></th>\n",
       "      <th>Click</th>\n",
       "      <th>Spend</th>\n",
       "      <th>CTR%</th>\n",
       "      <th>CPC</th>\n",
       "      <th>CPM</th>\n",
       "    </tr>\n",
       "  </thead>\n",
       "  <tbody>\n",
       "    <tr>\n",
       "      <th>full</th>\n",
       "      <td>116</td>\n",
       "      <td>6093.271</td>\n",
       "      <td>0.084943</td>\n",
       "      <td>52.528198</td>\n",
       "      <td>44.619081</td>\n",
       "    </tr>\n",
       "    <tr>\n",
       "      <th>1/2</th>\n",
       "      <td>116</td>\n",
       "      <td>6093.271</td>\n",
       "      <td>0.084943</td>\n",
       "      <td>52.528198</td>\n",
       "      <td>44.619081</td>\n",
       "    </tr>\n",
       "    <tr>\n",
       "      <th>1/4(6250)</th>\n",
       "      <td>116</td>\n",
       "      <td>6093.271</td>\n",
       "      <td>0.084943</td>\n",
       "      <td>52.528198</td>\n",
       "      <td>44.619081</td>\n",
       "    </tr>\n",
       "    <tr>\n",
       "      <th>1/8</th>\n",
       "      <td>63</td>\n",
       "      <td>3124.961</td>\n",
       "      <td>0.089543</td>\n",
       "      <td>49.602556</td>\n",
       "      <td>44.415780</td>\n",
       "    </tr>\n",
       "    <tr>\n",
       "      <th>1/16</th>\n",
       "      <td>36</td>\n",
       "      <td>1562.480</td>\n",
       "      <td>0.102305</td>\n",
       "      <td>43.402222</td>\n",
       "      <td>44.402512</td>\n",
       "    </tr>\n",
       "  </tbody>\n",
       "</table>\n",
       "</div>"
      ],
      "text/plain": [
       "           Click     Spend      CTR%        CPC        CPM\n",
       "full         116  6093.271  0.084943  52.528198  44.619081\n",
       "1/2          116  6093.271  0.084943  52.528198  44.619081\n",
       "1/4(6250)    116  6093.271  0.084943  52.528198  44.619081\n",
       "1/8           63  3124.961  0.089543  49.602556  44.415780\n",
       "1/16          36  1562.480  0.102305  43.402222  44.402512"
      ]
     },
     "execution_count": 76,
     "metadata": {},
     "output_type": "execute_result"
    }
   ],
   "source": [
    "statistic_full_A\n",
    "statistic_full_A"
   ]
  },
  {
   "cell_type": "code",
   "execution_count": 78,
   "metadata": {
    "collapsed": false
   },
   "outputs": [
    {
     "data": {
      "text/html": [
       "<div>\n",
       "<table border=\"1\" class=\"dataframe\">\n",
       "  <thead>\n",
       "    <tr style=\"text-align: right;\">\n",
       "      <th></th>\n",
       "      <th>Click</th>\n",
       "      <th>Spend</th>\n",
       "      <th>CTR%</th>\n",
       "      <th>CPC</th>\n",
       "      <th>CPM</th>\n",
       "    </tr>\n",
       "  </thead>\n",
       "  <tbody>\n",
       "    <tr>\n",
       "      <th>full</th>\n",
       "      <td>226</td>\n",
       "      <td>24045.218</td>\n",
       "      <td>0.075396</td>\n",
       "      <td>106.394770</td>\n",
       "      <td>80.217842</td>\n",
       "    </tr>\n",
       "    <tr>\n",
       "      <th>1/2</th>\n",
       "      <td>122</td>\n",
       "      <td>12499.929</td>\n",
       "      <td>0.078306</td>\n",
       "      <td>102.458434</td>\n",
       "      <td>80.230610</td>\n",
       "    </tr>\n",
       "    <tr>\n",
       "      <th>1/4(6250)</th>\n",
       "      <td>69</td>\n",
       "      <td>6249.912</td>\n",
       "      <td>0.088399</td>\n",
       "      <td>90.578435</td>\n",
       "      <td>80.070617</td>\n",
       "    </tr>\n",
       "    <tr>\n",
       "      <th>1/8</th>\n",
       "      <td>42</td>\n",
       "      <td>3124.952</td>\n",
       "      <td>0.108039</td>\n",
       "      <td>74.403619</td>\n",
       "      <td>80.384617</td>\n",
       "    </tr>\n",
       "    <tr>\n",
       "      <th>1/16</th>\n",
       "      <td>22</td>\n",
       "      <td>1562.468</td>\n",
       "      <td>0.112797</td>\n",
       "      <td>71.021273</td>\n",
       "      <td>80.110131</td>\n",
       "    </tr>\n",
       "  </tbody>\n",
       "</table>\n",
       "</div>"
      ],
      "text/plain": [
       "           Click      Spend      CTR%         CPC        CPM\n",
       "full         226  24045.218  0.075396  106.394770  80.217842\n",
       "1/2          122  12499.929  0.078306  102.458434  80.230610\n",
       "1/4(6250)     69   6249.912  0.088399   90.578435  80.070617\n",
       "1/8           42   3124.952  0.108039   74.403619  80.384617\n",
       "1/16          22   1562.468  0.112797   71.021273  80.110131"
      ]
     },
     "execution_count": 78,
     "metadata": {},
     "output_type": "execute_result"
    }
   ],
   "source": [
    "statistic_full_B\n",
    "statistic_full_B"
   ]
  },
  {
   "cell_type": "code",
   "execution_count": 80,
   "metadata": {
    "collapsed": false
   },
   "outputs": [
    {
     "data": {
      "text/html": [
       "<div>\n",
       "<table border=\"1\" class=\"dataframe\">\n",
       "  <thead>\n",
       "    <tr style=\"text-align: right;\">\n",
       "      <th></th>\n",
       "      <th>Click</th>\n",
       "      <th>Spend</th>\n",
       "      <th>CTR%</th>\n",
       "      <th>CPC</th>\n",
       "      <th>CPM</th>\n",
       "    </tr>\n",
       "  </thead>\n",
       "  <tbody>\n",
       "    <tr>\n",
       "      <th>full</th>\n",
       "      <td>117</td>\n",
       "      <td>6738.007</td>\n",
       "      <td>0.098156</td>\n",
       "      <td>57.589803</td>\n",
       "      <td>56.527853</td>\n",
       "    </tr>\n",
       "    <tr>\n",
       "      <th>1/2</th>\n",
       "      <td>117</td>\n",
       "      <td>6738.007</td>\n",
       "      <td>0.098156</td>\n",
       "      <td>57.589803</td>\n",
       "      <td>56.527853</td>\n",
       "    </tr>\n",
       "    <tr>\n",
       "      <th>1/4(6250)</th>\n",
       "      <td>106</td>\n",
       "      <td>6249.933</td>\n",
       "      <td>0.095727</td>\n",
       "      <td>58.961632</td>\n",
       "      <td>56.442487</td>\n",
       "    </tr>\n",
       "    <tr>\n",
       "      <th>1/8</th>\n",
       "      <td>55</td>\n",
       "      <td>3124.937</td>\n",
       "      <td>0.099282</td>\n",
       "      <td>56.817036</td>\n",
       "      <td>56.408841</td>\n",
       "    </tr>\n",
       "    <tr>\n",
       "      <th>1/16</th>\n",
       "      <td>31</td>\n",
       "      <td>1562.478</td>\n",
       "      <td>0.112156</td>\n",
       "      <td>50.402516</td>\n",
       "      <td>56.529595</td>\n",
       "    </tr>\n",
       "  </tbody>\n",
       "</table>\n",
       "</div>"
      ],
      "text/plain": [
       "           Click     Spend      CTR%        CPC        CPM\n",
       "full         117  6738.007  0.098156  57.589803  56.527853\n",
       "1/2          117  6738.007  0.098156  57.589803  56.527853\n",
       "1/4(6250)    106  6249.933  0.095727  58.961632  56.442487\n",
       "1/8           55  3124.937  0.099282  56.817036  56.408841\n",
       "1/16          31  1562.478  0.112156  50.402516  56.529595"
      ]
     },
     "execution_count": 80,
     "metadata": {},
     "output_type": "execute_result"
    }
   ],
   "source": [
    "statistic_full_C\n",
    "statistic_full_C"
   ]
  },
  {
   "cell_type": "code",
   "execution_count": 82,
   "metadata": {
    "collapsed": false
   },
   "outputs": [
    {
     "data": {
      "text/html": [
       "<div>\n",
       "<table border=\"1\" class=\"dataframe\">\n",
       "  <thead>\n",
       "    <tr style=\"text-align: right;\">\n",
       "      <th></th>\n",
       "      <th>Click</th>\n",
       "      <th>Spend</th>\n",
       "      <th>CTR%</th>\n",
       "      <th>CPC</th>\n",
       "      <th>CPM</th>\n",
       "    </tr>\n",
       "  </thead>\n",
       "  <tbody>\n",
       "    <tr>\n",
       "      <th>full</th>\n",
       "      <td>123</td>\n",
       "      <td>7500.717</td>\n",
       "      <td>0.109743</td>\n",
       "      <td>60.981439</td>\n",
       "      <td>66.922885</td>\n",
       "    </tr>\n",
       "    <tr>\n",
       "      <th>1/2</th>\n",
       "      <td>123</td>\n",
       "      <td>7500.717</td>\n",
       "      <td>0.109743</td>\n",
       "      <td>60.981439</td>\n",
       "      <td>66.922885</td>\n",
       "    </tr>\n",
       "    <tr>\n",
       "      <th>1/4(6250)</th>\n",
       "      <td>97</td>\n",
       "      <td>6249.964</td>\n",
       "      <td>0.103838</td>\n",
       "      <td>64.432619</td>\n",
       "      <td>66.905358</td>\n",
       "    </tr>\n",
       "    <tr>\n",
       "      <th>1/8</th>\n",
       "      <td>56</td>\n",
       "      <td>3124.954</td>\n",
       "      <td>0.119963</td>\n",
       "      <td>55.802750</td>\n",
       "      <td>66.942739</td>\n",
       "    </tr>\n",
       "    <tr>\n",
       "      <th>1/16</th>\n",
       "      <td>31</td>\n",
       "      <td>1562.485</td>\n",
       "      <td>0.134002</td>\n",
       "      <td>50.402742</td>\n",
       "      <td>67.540633</td>\n",
       "    </tr>\n",
       "  </tbody>\n",
       "</table>\n",
       "</div>"
      ],
      "text/plain": [
       "           Click     Spend      CTR%        CPC        CPM\n",
       "full         123  7500.717  0.109743  60.981439  66.922885\n",
       "1/2          123  7500.717  0.109743  60.981439  66.922885\n",
       "1/4(6250)     97  6249.964  0.103838  64.432619  66.905358\n",
       "1/8           56  3124.954  0.119963  55.802750  66.942739\n",
       "1/16          31  1562.485  0.134002  50.402742  67.540633"
      ]
     },
     "execution_count": 82,
     "metadata": {},
     "output_type": "execute_result"
    }
   ],
   "source": [
    "statistic_full_D=statistic_full\n",
    "statistic_full_D"
   ]
  },
  {
   "cell_type": "code",
   "execution_count": 85,
   "metadata": {
    "collapsed": false
   },
   "outputs": [
    {
     "data": {
      "text/html": [
       "<div>\n",
       "<table border=\"1\" class=\"dataframe\">\n",
       "  <thead>\n",
       "    <tr style=\"text-align: right;\">\n",
       "      <th></th>\n",
       "      <th>Click</th>\n",
       "      <th>Spend</th>\n",
       "      <th>CTR%</th>\n",
       "      <th>CPC</th>\n",
       "      <th>CPM</th>\n",
       "    </tr>\n",
       "  </thead>\n",
       "  <tbody>\n",
       "    <tr>\n",
       "      <th>full</th>\n",
       "      <td>221</td>\n",
       "      <td>22931.124</td>\n",
       "      <td>0.077575</td>\n",
       "      <td>103.760742</td>\n",
       "      <td>80.491999</td>\n",
       "    </tr>\n",
       "    <tr>\n",
       "      <th>1/2</th>\n",
       "      <td>126</td>\n",
       "      <td>12499.892</td>\n",
       "      <td>0.081119</td>\n",
       "      <td>99.205492</td>\n",
       "      <td>80.474171</td>\n",
       "    </tr>\n",
       "    <tr>\n",
       "      <th>1/4(6250)</th>\n",
       "      <td>72</td>\n",
       "      <td>6249.815</td>\n",
       "      <td>0.092471</td>\n",
       "      <td>86.802986</td>\n",
       "      <td>80.267846</td>\n",
       "    </tr>\n",
       "    <tr>\n",
       "      <th>1/8</th>\n",
       "      <td>43</td>\n",
       "      <td>3124.988</td>\n",
       "      <td>0.110919</td>\n",
       "      <td>72.674140</td>\n",
       "      <td>80.609487</td>\n",
       "    </tr>\n",
       "    <tr>\n",
       "      <th>1/16</th>\n",
       "      <td>22</td>\n",
       "      <td>1562.371</td>\n",
       "      <td>0.113466</td>\n",
       "      <td>71.016864</td>\n",
       "      <td>80.580277</td>\n",
       "    </tr>\n",
       "  </tbody>\n",
       "</table>\n",
       "</div>"
      ],
      "text/plain": [
       "           Click      Spend      CTR%         CPC        CPM\n",
       "full         221  22931.124  0.077575  103.760742  80.491999\n",
       "1/2          126  12499.892  0.081119   99.205492  80.474171\n",
       "1/4(6250)     72   6249.815  0.092471   86.802986  80.267846\n",
       "1/8           43   3124.988  0.110919   72.674140  80.609487\n",
       "1/16          22   1562.371  0.113466   71.016864  80.580277"
      ]
     },
     "execution_count": 85,
     "metadata": {},
     "output_type": "execute_result"
    }
   ],
   "source": [
    "statistic_full_E\n",
    "statistic_full_E"
   ]
  },
  {
   "cell_type": "code",
   "execution_count": 74,
   "metadata": {
    "collapsed": false
   },
   "outputs": [
    {
     "data": {
      "text/html": [
       "<div>\n",
       "<table border=\"1\" class=\"dataframe\">\n",
       "  <thead>\n",
       "    <tr style=\"text-align: right;\">\n",
       "      <th></th>\n",
       "      <th>Click</th>\n",
       "      <th>Spend</th>\n",
       "      <th>CTR%</th>\n",
       "      <th>CPC</th>\n",
       "      <th>CPM</th>\n",
       "    </tr>\n",
       "  </thead>\n",
       "  <tbody>\n",
       "    <tr>\n",
       "      <th>full</th>\n",
       "      <td>226</td>\n",
       "      <td>24045.218</td>\n",
       "      <td>0.075396</td>\n",
       "      <td>106.394770</td>\n",
       "      <td>80.217842</td>\n",
       "    </tr>\n",
       "    <tr>\n",
       "      <th>1/2</th>\n",
       "      <td>122</td>\n",
       "      <td>12499.929</td>\n",
       "      <td>0.078306</td>\n",
       "      <td>102.458434</td>\n",
       "      <td>80.230610</td>\n",
       "    </tr>\n",
       "    <tr>\n",
       "      <th>1/4(6250)</th>\n",
       "      <td>69</td>\n",
       "      <td>6249.912</td>\n",
       "      <td>0.088399</td>\n",
       "      <td>90.578435</td>\n",
       "      <td>80.070617</td>\n",
       "    </tr>\n",
       "    <tr>\n",
       "      <th>1/8</th>\n",
       "      <td>42</td>\n",
       "      <td>3124.952</td>\n",
       "      <td>0.108039</td>\n",
       "      <td>74.403619</td>\n",
       "      <td>80.384617</td>\n",
       "    </tr>\n",
       "    <tr>\n",
       "      <th>1/16</th>\n",
       "      <td>22</td>\n",
       "      <td>1562.468</td>\n",
       "      <td>0.112797</td>\n",
       "      <td>71.021273</td>\n",
       "      <td>80.110131</td>\n",
       "    </tr>\n",
       "  </tbody>\n",
       "</table>\n",
       "</div>"
      ],
      "text/plain": [
       "           Click      Spend      CTR%         CPC        CPM\n",
       "full         226  24045.218  0.075396  106.394770  80.217842\n",
       "1/2          122  12499.929  0.078306  102.458434  80.230610\n",
       "1/4(6250)     69   6249.912  0.088399   90.578435  80.070617\n",
       "1/8           42   3124.952  0.108039   74.403619  80.384617\n",
       "1/16          22   1562.468  0.112797   71.021273  80.110131"
      ]
     },
     "execution_count": 74,
     "metadata": {},
     "output_type": "execute_result"
    }
   ],
   "source": [
    "statistic_full_F\n",
    "statistic_full_F"
   ]
  },
  {
   "cell_type": "code",
   "execution_count": null,
   "metadata": {
    "collapsed": true
   },
   "outputs": [],
   "source": [
    "statistic_full"
   ]
  },
  {
   "cell_type": "code",
   "execution_count": 196,
   "metadata": {
    "collapsed": false,
    "deletable": true,
    "editable": true
   },
   "outputs": [
    {
     "data": {
      "image/png": "[encoded data removed]",
      "text/plain": [
       "<matplotlib.figure.Figure at 0x248b1569f28>"
      ]
     },
     "metadata": {},
     "output_type": "display_data"
    }
   ],
   "source": [
    "statistic_full.Click.plot()\n",
    "plt.show()"
   ]
  },
  {
   "cell_type": "code",
   "execution_count": 37,
   "metadata": {
    "collapsed": false,
    "deletable": true,
    "editable": true
   },
   "outputs": [
    {
     "data": {
      "text/plain": [
       "array([ 1.07423592,  7.19796991,  1.42724574, ...,  0.87616515,\n",
       "        0.33874011,  1.73519945], dtype=float32)"
      ]
     },
     "execution_count": 37,
     "metadata": {},
     "output_type": "execute_result"
    }
   ],
   "source": [
    "param_validation_gbr"
   ]
  },
  {
   "cell_type": "code",
   "execution_count": 86,
   "metadata": {
    "collapsed": false,
    "deletable": true,
    "editable": true
   },
   "outputs": [
    {
     "data": {
      "text/plain": [
       "2.0"
      ]
     },
     "execution_count": 86,
     "metadata": {},
     "output_type": "execute_result"
    }
   ],
   "source": [
    "4**0.5"
   ]
  },
  {
   "cell_type": "code",
   "execution_count": 67,
   "metadata": {
    "collapsed": false,
    "deletable": true,
    "editable": true
   },
   "outputs": [],
   "source": [
    "import math\n",
    "full_sss=[116,226,117,123,221,226]\n",
    "sss1=pd.DataFrame(full_sss)\n",
    "#sss1.columns=([\"name\"])\n",
    "#sss2=np.sqrt(sss1[\"name\"])\n",
    "#math.sqrt\n",
    "sss1.columns=([\"full\"])\n",
    "sss1.index=([\"A\",\"B\",\"C\",\"D\",\"E\",\"F\"])\n",
    "#math.log"
   ]
  },
  {
   "cell_type": "code",
   "execution_count": 68,
   "metadata": {
    "collapsed": false,
    "deletable": true,
    "editable": true
   },
   "outputs": [
    {
     "data": {
      "image/png": "[encoded data removed]",
      "text/plain": [
       "<matplotlib.figure.Figure at 0x21b13756860>"
      ]
     },
     "metadata": {},
     "output_type": "display_data"
    }
   ],
   "source": [
    "sss1.plot.bar()\n",
    "#plt.plot(Y_pred_validation_gbr)\n",
    "plt.show()"
   ]
  },
  {
   "cell_type": "code",
   "execution_count": 69,
   "metadata": {
    "collapsed": false,
    "deletable": true,
    "editable": true
   },
   "outputs": [
    {
     "data": {
      "image/png": "[encoded data removed]",
      "text/plain": [
       "<matplotlib.figure.Figure at 0x21b12463c50>"
      ]
     },
     "metadata": {},
     "output_type": "display_data"
    }
   ],
   "source": [
    "import math\n",
    "full_sss=[116,69,106,97,72,69]\n",
    "sss1=pd.DataFrame(full_sss)\n",
    "sss1.columns=([\"1/4(6250)\"])\n",
    "sss1.index=([\"A\",\"B\",\"C\",\"D\",\"E\",\"F\"])\n",
    "sss1.plot.bar()\n",
    "plt.show()"
   ]
  },
  {
   "cell_type": "code",
   "execution_count": 70,
   "metadata": {
    "collapsed": false
   },
   "outputs": [
    {
     "data": {
      "image/png": "[encoded data removed]",
      "text/plain": [
       "<matplotlib.figure.Figure at 0x21b123e64a8>"
      ]
     },
     "metadata": {},
     "output_type": "display_data"
    }
   ],
   "source": [
    "full_sss=[52.528198,106.394770,57.589803,60.981439,103.760742,106.393929]\n",
    "sss1=pd.DataFrame(full_sss)\n",
    "sss1.columns=([\"Full-ecpc\"])\n",
    "sss1.index=([\"A\",\"B\",\"C\",\"D\",\"E\",\"F\"])\n",
    "sss1.plot.bar()\n",
    "plt.show()"
   ]
  },
  {
   "cell_type": "code",
   "execution_count": 71,
   "metadata": {
    "collapsed": false
   },
   "outputs": [
    {
     "data": {
      "image/png": "[encoded data removed]",
      "text/plain": [
       "<matplotlib.figure.Figure at 0x21b85e08630>"
      ]
     },
     "metadata": {},
     "output_type": "display_data"
    }
   ],
   "source": [
    "full_sss=[52.528198,90.578435,58.961632,64.432619,86.802986,90.577580]\n",
    "sss1=pd.DataFrame(full_sss)\n",
    "sss1.columns=([\"1/4-ecpc\"])\n",
    "sss1.index=([\"A\",\"B\",\"C\",\"D\",\"E\",\"F\"])\n",
    "sss1.plot.bar()\n",
    "plt.show()"
   ]
  },
  {
   "cell_type": "code",
   "execution_count": null,
   "metadata": {
    "collapsed": true
   },
   "outputs": [],
   "source": []
  }
 ],
 "metadata": {
  "anaconda-cloud": {},
  "kernelspec": {
   "display_name": "Python 3",
   "language": "python",
   "name": "python3"
  },
  "language_info": {
   "codemirror_mode": {
    "name": "ipython",
    "version": 3
   },
   "file_extension": ".py",
   "mimetype": "text/x-python",
   "name": "python",
   "nbconvert_exporter": "python",
   "pygments_lexer": "ipython3",
   "version": "3.5.0"
  }
 },
 "nbformat": 4,
 "nbformat_minor": 2
}
