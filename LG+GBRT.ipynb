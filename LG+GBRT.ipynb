{
 "cells": [
  {
   "cell_type": "code",
   "execution_count": 1,
   "metadata": {
    "collapsed": true
   },
   "outputs": [],
   "source": [
    "import pandas as pd\n",
    "import seaborn as sns\n",
    "import numpy as np\n",
    "from numpy.random import randn\n",
    "import matplotlib as mpl\n",
    "import matplotlib.pyplot as plt\n",
    "\n",
    "from sklearn.linear_model import LogisticRegression\n",
    "from sklearn.svm import SVC, LinearSVC\n",
    "from sklearn.ensemble import RandomForestClassifier, AdaBoostClassifier, GradientBoostingClassifier, GradientBoostingRegressor\n",
    "from sklearn.neighbors import KNeighborsClassifier\n",
    "from sklearn.naive_bayes import GaussianNB\n",
    "from sklearn.linear_model import Perceptron\n",
    "from sklearn.linear_model import SGDClassifier\n",
    "from sklearn.tree import DecisionTreeClassifier\n",
    "from sklearn.svm import SVC\n",
    "from sklearn.cross_validation import KFold;\n",
    "from sklearn import preprocessing\n",
    "import math\n",
    "from sklearn.metrics import mean_squared_error\n"
   ]
  },
  {
   "cell_type": "markdown",
   "metadata": {},
   "source": [
    "## Logistic -- linear model"
   ]
  },
  {
   "cell_type": "markdown",
   "metadata": {},
   "source": [
    "### Train the model"
   ]
  },
  {
   "cell_type": "code",
   "execution_count": 2,
   "metadata": {
    "collapsed": true
   },
   "outputs": [],
   "source": [
    "train = pd.read_csv(\"train.csv\")"
   ]
  },
  {
   "cell_type": "code",
   "execution_count": 3,
   "metadata": {
    "collapsed": false
   },
   "outputs": [
    {
     "data": {
      "text/html": [
       "<div>\n",
       "<table border=\"1\" class=\"dataframe\">\n",
       "  <thead>\n",
       "    <tr style=\"text-align: right;\">\n",
       "      <th></th>\n",
       "      <th>weekday</th>\n",
       "      <th>hour</th>\n",
       "      <th>advertiser</th>\n",
       "      <th>adexchange</th>\n",
       "      <th>area</th>\n",
       "      <th>slotvisibility</th>\n",
       "      <th>slotformat</th>\n",
       "      <th>slotprice</th>\n",
       "    </tr>\n",
       "  </thead>\n",
       "  <tbody>\n",
       "    <tr>\n",
       "      <th>0</th>\n",
       "      <td>1</td>\n",
       "      <td>14</td>\n",
       "      <td>1458</td>\n",
       "      <td>2</td>\n",
       "      <td>28080</td>\n",
       "      <td>1</td>\n",
       "      <td>0</td>\n",
       "      <td>5</td>\n",
       "    </tr>\n",
       "    <tr>\n",
       "      <th>1</th>\n",
       "      <td>2</td>\n",
       "      <td>20</td>\n",
       "      <td>3476</td>\n",
       "      <td>2</td>\n",
       "      <td>62500</td>\n",
       "      <td>1</td>\n",
       "      <td>0</td>\n",
       "      <td>5</td>\n",
       "    </tr>\n",
       "    <tr>\n",
       "      <th>2</th>\n",
       "      <td>5</td>\n",
       "      <td>9</td>\n",
       "      <td>1458</td>\n",
       "      <td>1</td>\n",
       "      <td>94080</td>\n",
       "      <td>0</td>\n",
       "      <td>1</td>\n",
       "      <td>0</td>\n",
       "    </tr>\n",
       "    <tr>\n",
       "      <th>3</th>\n",
       "      <td>2</td>\n",
       "      <td>20</td>\n",
       "      <td>3427</td>\n",
       "      <td>2</td>\n",
       "      <td>65520</td>\n",
       "      <td>0</td>\n",
       "      <td>0</td>\n",
       "      <td>162</td>\n",
       "    </tr>\n",
       "    <tr>\n",
       "      <th>4</th>\n",
       "      <td>6</td>\n",
       "      <td>9</td>\n",
       "      <td>3476</td>\n",
       "      <td>1</td>\n",
       "      <td>85500</td>\n",
       "      <td>0</td>\n",
       "      <td>1</td>\n",
       "      <td>0</td>\n",
       "    </tr>\n",
       "  </tbody>\n",
       "</table>\n",
       "</div>"
      ],
      "text/plain": [
       "   weekday  hour  advertiser adexchange   area slotvisibility slotformat  \\\n",
       "0        1    14        1458          2  28080              1          0   \n",
       "1        2    20        3476          2  62500              1          0   \n",
       "2        5     9        1458          1  94080              0          1   \n",
       "3        2    20        3427          2  65520              0          0   \n",
       "4        6     9        3476          1  85500              0          1   \n",
       "\n",
       "   slotprice  \n",
       "0          5  \n",
       "1          5  \n",
       "2          0  \n",
       "3        162  \n",
       "4          0  "
      ]
     },
     "execution_count": 3,
     "metadata": {},
     "output_type": "execute_result"
    }
   ],
   "source": [
    "train[\"area\"] = train[\"slotheight\"]*train[\"slotwidth\"] \n",
    "\n",
    "feature = [\"weekday\",\"hour\",\"advertiser\",\"adexchange\",\"area\",\"slotvisibility\",\"slotformat\",\n",
    "          \"slotprice\"]\n",
    "X_train = train[feature]\n",
    "Y_train = train[\"click\"]\n",
    "X_train.head()"
   ]
  },
  {
   "cell_type": "code",
   "execution_count": 4,
   "metadata": {
    "collapsed": false
   },
   "outputs": [
    {
     "name": "stderr",
     "output_type": "stream",
     "text": [
      "/Users/Wendy/anaconda/lib/python3.5/site-packages/pandas/core/indexing.py:465: SettingWithCopyWarning: \n",
      "A value is trying to be set on a copy of a slice from a DataFrame.\n",
      "Try using .loc[row_indexer,col_indexer] = value instead\n",
      "\n",
      "See the caveats in the documentation: http://pandas.pydata.org/pandas-docs/stable/indexing.html#indexing-view-versus-copy\n",
      "  self.obj[item] = s\n"
     ]
    }
   ],
   "source": [
    "X_train.loc[ X_train['slotprice'] <= 0, 'slotprice'] = 0\n",
    "X_train.loc[(X_train['slotprice'] > 0) & (X_train['slotprice'] <= 10), 'slotprice'] = 1\n",
    "X_train.loc[(X_train['slotprice'] > 10) & (X_train['slotprice'] <= 50), 'slotprice'] = 2\n",
    "X_train.loc[(X_train['slotprice'] > 50) & (X_train['slotprice'] <= 100), 'slotprice'] = 3\n",
    "X_train.loc[(X_train['slotprice'] > 100), 'slotprice'] = 4\n"
   ]
  },
  {
   "cell_type": "code",
   "execution_count": 5,
   "metadata": {
    "collapsed": false
   },
   "outputs": [
    {
     "name": "stderr",
     "output_type": "stream",
     "text": [
      "/Users/Wendy/anaconda/lib/python3.5/site-packages/pandas/core/indexing.py:465: SettingWithCopyWarning: \n",
      "A value is trying to be set on a copy of a slice from a DataFrame.\n",
      "Try using .loc[row_indexer,col_indexer] = value instead\n",
      "\n",
      "See the caveats in the documentation: http://pandas.pydata.org/pandas-docs/stable/indexing.html#indexing-view-versus-copy\n",
      "  self.obj[item] = s\n"
     ]
    }
   ],
   "source": [
    "X_train.area.value_counts().sort_index()\n",
    "X_train.loc[ X_train['area'] <= 20000, 'area'] = 0\n",
    "X_train.loc[(X_train['area'] > 20000) & (X_train['area'] <=40000 ), 'area'] = 1\n",
    "X_train.loc[(X_train['area'] > 40000) & (X_train['area'] <= 60000), 'area'] = 2\n",
    "X_train.loc[(X_train['area'] > 60000) & (X_train['area'] <= 80000), 'area'] = 3\n",
    "X_train.loc[(X_train['area'] > 80000) & (X_train['area'] <= 100000), 'area'] = 4\n",
    "X_train.loc[(X_train['area'] > 100000), 'area'] = 5\n"
   ]
  },
  {
   "cell_type": "code",
   "execution_count": 6,
   "metadata": {
    "collapsed": false
   },
   "outputs": [
    {
     "data": {
      "text/html": [
       "<div>\n",
       "<table border=\"1\" class=\"dataframe\">\n",
       "  <thead>\n",
       "    <tr style=\"text-align: right;\">\n",
       "      <th></th>\n",
       "      <th>weekday</th>\n",
       "      <th>hour</th>\n",
       "      <th>advertiser</th>\n",
       "      <th>adexchange</th>\n",
       "      <th>area</th>\n",
       "      <th>slotvisibility</th>\n",
       "      <th>slotformat</th>\n",
       "      <th>slotprice</th>\n",
       "    </tr>\n",
       "  </thead>\n",
       "  <tbody>\n",
       "    <tr>\n",
       "      <th>0</th>\n",
       "      <td>1</td>\n",
       "      <td>14</td>\n",
       "      <td>1458</td>\n",
       "      <td>2</td>\n",
       "      <td>1</td>\n",
       "      <td>1</td>\n",
       "      <td>0</td>\n",
       "      <td>1</td>\n",
       "    </tr>\n",
       "    <tr>\n",
       "      <th>1</th>\n",
       "      <td>2</td>\n",
       "      <td>20</td>\n",
       "      <td>3476</td>\n",
       "      <td>2</td>\n",
       "      <td>3</td>\n",
       "      <td>1</td>\n",
       "      <td>0</td>\n",
       "      <td>1</td>\n",
       "    </tr>\n",
       "    <tr>\n",
       "      <th>2</th>\n",
       "      <td>5</td>\n",
       "      <td>9</td>\n",
       "      <td>1458</td>\n",
       "      <td>1</td>\n",
       "      <td>4</td>\n",
       "      <td>0</td>\n",
       "      <td>1</td>\n",
       "      <td>0</td>\n",
       "    </tr>\n",
       "    <tr>\n",
       "      <th>3</th>\n",
       "      <td>2</td>\n",
       "      <td>20</td>\n",
       "      <td>3427</td>\n",
       "      <td>2</td>\n",
       "      <td>3</td>\n",
       "      <td>0</td>\n",
       "      <td>0</td>\n",
       "      <td>4</td>\n",
       "    </tr>\n",
       "    <tr>\n",
       "      <th>4</th>\n",
       "      <td>6</td>\n",
       "      <td>9</td>\n",
       "      <td>3476</td>\n",
       "      <td>1</td>\n",
       "      <td>4</td>\n",
       "      <td>0</td>\n",
       "      <td>1</td>\n",
       "      <td>0</td>\n",
       "    </tr>\n",
       "  </tbody>\n",
       "</table>\n",
       "</div>"
      ],
      "text/plain": [
       "   weekday  hour  advertiser adexchange  area slotvisibility slotformat  \\\n",
       "0        1    14        1458          2     1              1          0   \n",
       "1        2    20        3476          2     3              1          0   \n",
       "2        5     9        1458          1     4              0          1   \n",
       "3        2    20        3427          2     3              0          0   \n",
       "4        6     9        3476          1     4              0          1   \n",
       "\n",
       "   slotprice  \n",
       "0          1  \n",
       "1          1  \n",
       "2          0  \n",
       "3          4  \n",
       "4          0  "
      ]
     },
     "execution_count": 6,
     "metadata": {},
     "output_type": "execute_result"
    }
   ],
   "source": [
    "X_train.head()"
   ]
  },
  {
   "cell_type": "code",
   "execution_count": 7,
   "metadata": {
    "collapsed": false
   },
   "outputs": [
    {
     "name": "stderr",
     "output_type": "stream",
     "text": [
      "/Users/Wendy/anaconda/lib/python3.5/site-packages/ipykernel/__main__.py:1: SettingWithCopyWarning: \n",
      "A value is trying to be set on a copy of a slice from a DataFrame.\n",
      "Try using .loc[row_indexer,col_indexer] = value instead\n",
      "\n",
      "See the caveats in the documentation: http://pandas.pydata.org/pandas-docs/stable/indexing.html#indexing-view-versus-copy\n",
      "  if __name__ == '__main__':\n",
      "/Users/Wendy/anaconda/lib/python3.5/site-packages/ipykernel/__main__.py:2: SettingWithCopyWarning: \n",
      "A value is trying to be set on a copy of a slice from a DataFrame.\n",
      "Try using .loc[row_indexer,col_indexer] = value instead\n",
      "\n",
      "See the caveats in the documentation: http://pandas.pydata.org/pandas-docs/stable/indexing.html#indexing-view-versus-copy\n",
      "  from ipykernel import kernelapp as app\n",
      "/Users/Wendy/anaconda/lib/python3.5/site-packages/ipykernel/__main__.py:3: SettingWithCopyWarning: \n",
      "A value is trying to be set on a copy of a slice from a DataFrame.\n",
      "Try using .loc[row_indexer,col_indexer] = value instead\n",
      "\n",
      "See the caveats in the documentation: http://pandas.pydata.org/pandas-docs/stable/indexing.html#indexing-view-versus-copy\n",
      "  app.launch_new_instance()\n",
      "/Users/Wendy/anaconda/lib/python3.5/site-packages/ipykernel/__main__.py:4: SettingWithCopyWarning: \n",
      "A value is trying to be set on a copy of a slice from a DataFrame.\n",
      "Try using .loc[row_indexer,col_indexer] = value instead\n",
      "\n",
      "See the caveats in the documentation: http://pandas.pydata.org/pandas-docs/stable/indexing.html#indexing-view-versus-copy\n",
      "/Users/Wendy/anaconda/lib/python3.5/site-packages/ipykernel/__main__.py:5: SettingWithCopyWarning: \n",
      "A value is trying to be set on a copy of a slice from a DataFrame.\n",
      "Try using .loc[row_indexer,col_indexer] = value instead\n",
      "\n",
      "See the caveats in the documentation: http://pandas.pydata.org/pandas-docs/stable/indexing.html#indexing-view-versus-copy\n",
      "/Users/Wendy/anaconda/lib/python3.5/site-packages/ipykernel/__main__.py:6: SettingWithCopyWarning: \n",
      "A value is trying to be set on a copy of a slice from a DataFrame.\n",
      "Try using .loc[row_indexer,col_indexer] = value instead\n",
      "\n",
      "See the caveats in the documentation: http://pandas.pydata.org/pandas-docs/stable/indexing.html#indexing-view-versus-copy\n"
     ]
    }
   ],
   "source": [
    "X_train[\"advertiser\"]=X_train.advertiser.astype(\"str\")\n",
    "X_train[\"weekday\"]=X_train.weekday.astype(\"str\")\n",
    "X_train[\"adexchange\"]=X_train.adexchange.astype(\"str\")\n",
    "X_train[\"slotvisibility\"]=X_train.slotvisibility.astype(\"str\")\n",
    "X_train[\"slotformat\"]=X_train.slotformat.astype(\"str\")\n",
    "X_train[\"hour\"]=X_train.hour.astype(\"str\")\n",
    "\n",
    "\n",
    "X_train=pd.get_dummies(X_train)"
   ]
  },
  {
   "cell_type": "code",
   "execution_count": 8,
   "metadata": {
    "collapsed": false
   },
   "outputs": [
    {
     "data": {
      "text/plain": [
       "99.920000000000002"
      ]
     },
     "execution_count": 8,
     "metadata": {},
     "output_type": "execute_result"
    }
   ],
   "source": [
    "logreg = LogisticRegression(penalty='l2', dual=False, tol=0.0001)\n",
    "logreg.fit(X_train, Y_train)\n",
    "acc_log = round(logreg.score(X_train, Y_train) * 100, 2)\n",
    "acc_log"
   ]
  },
  {
   "cell_type": "code",
   "execution_count": 9,
   "metadata": {
    "collapsed": false
   },
   "outputs": [
    {
     "data": {
      "text/plain": [
       "array([ 0.00079748,  0.0006675 ,  0.00086295, ...,  0.000347  ,\n",
       "        0.00071354,  0.00091049])"
      ]
     },
     "execution_count": 9,
     "metadata": {},
     "output_type": "execute_result"
    }
   ],
   "source": [
    "Y_pred = logreg.predict_proba(X_train)\n",
    "Y_pred_log = Y_pred[:,1]\n",
    "Y_pred_log"
   ]
  },
  {
   "cell_type": "code",
   "execution_count": 10,
   "metadata": {
    "collapsed": false
   },
   "outputs": [
    {
     "name": "stdout",
     "output_type": "stream",
     "text": [
      "RMSE: 0.027433795066621594\n"
     ]
    }
   ],
   "source": [
    "import math\n",
    "from sklearn.metrics import mean_squared_error\n",
    "MSE = mean_squared_error(Y_pred_log ,Y_train)\n",
    "RMSE = math.sqrt(MSE)\n",
    "print(\"RMSE: \" + str(RMSE) )"
   ]
  },
  {
   "cell_type": "markdown",
   "metadata": {},
   "source": [
    "### Validation"
   ]
  },
  {
   "cell_type": "code",
   "execution_count": 11,
   "metadata": {
    "collapsed": true
   },
   "outputs": [],
   "source": [
    "validation = pd.read_csv(\"validation.csv\")"
   ]
  },
  {
   "cell_type": "code",
   "execution_count": 12,
   "metadata": {
    "collapsed": false
   },
   "outputs": [
    {
     "data": {
      "text/html": [
       "<div>\n",
       "<table border=\"1\" class=\"dataframe\">\n",
       "  <thead>\n",
       "    <tr style=\"text-align: right;\">\n",
       "      <th></th>\n",
       "      <th>weekday</th>\n",
       "      <th>hour</th>\n",
       "      <th>advertiser</th>\n",
       "      <th>adexchange</th>\n",
       "      <th>area</th>\n",
       "      <th>slotvisibility</th>\n",
       "      <th>slotformat</th>\n",
       "      <th>slotprice</th>\n",
       "    </tr>\n",
       "  </thead>\n",
       "  <tbody>\n",
       "    <tr>\n",
       "      <th>0</th>\n",
       "      <td>5</td>\n",
       "      <td>14</td>\n",
       "      <td>3427</td>\n",
       "      <td>1</td>\n",
       "      <td>75000</td>\n",
       "      <td>0</td>\n",
       "      <td>1</td>\n",
       "      <td>0</td>\n",
       "    </tr>\n",
       "    <tr>\n",
       "      <th>1</th>\n",
       "      <td>3</td>\n",
       "      <td>14</td>\n",
       "      <td>2997</td>\n",
       "      <td>null</td>\n",
       "      <td>16000</td>\n",
       "      <td>FirstView</td>\n",
       "      <td>Na</td>\n",
       "      <td>118</td>\n",
       "    </tr>\n",
       "    <tr>\n",
       "      <th>2</th>\n",
       "      <td>1</td>\n",
       "      <td>13</td>\n",
       "      <td>3427</td>\n",
       "      <td>3</td>\n",
       "      <td>90000</td>\n",
       "      <td>0</td>\n",
       "      <td>0</td>\n",
       "      <td>70</td>\n",
       "    </tr>\n",
       "    <tr>\n",
       "      <th>3</th>\n",
       "      <td>5</td>\n",
       "      <td>18</td>\n",
       "      <td>3427</td>\n",
       "      <td>3</td>\n",
       "      <td>90000</td>\n",
       "      <td>0</td>\n",
       "      <td>0</td>\n",
       "      <td>70</td>\n",
       "    </tr>\n",
       "    <tr>\n",
       "      <th>4</th>\n",
       "      <td>5</td>\n",
       "      <td>14</td>\n",
       "      <td>3386</td>\n",
       "      <td>2</td>\n",
       "      <td>94080</td>\n",
       "      <td>2</td>\n",
       "      <td>0</td>\n",
       "      <td>5</td>\n",
       "    </tr>\n",
       "  </tbody>\n",
       "</table>\n",
       "</div>"
      ],
      "text/plain": [
       "   weekday  hour  advertiser adexchange   area slotvisibility slotformat  \\\n",
       "0        5    14        3427          1  75000              0          1   \n",
       "1        3    14        2997       null  16000      FirstView         Na   \n",
       "2        1    13        3427          3  90000              0          0   \n",
       "3        5    18        3427          3  90000              0          0   \n",
       "4        5    14        3386          2  94080              2          0   \n",
       "\n",
       "   slotprice  \n",
       "0          0  \n",
       "1        118  \n",
       "2         70  \n",
       "3         70  \n",
       "4          5  "
      ]
     },
     "execution_count": 12,
     "metadata": {},
     "output_type": "execute_result"
    }
   ],
   "source": [
    "validation[\"area\"] = validation[\"slotheight\"]*validation[\"slotwidth\"] \n",
    "\n",
    "feature = [\"weekday\",\"hour\",\"advertiser\",\"adexchange\",\"area\",\"slotvisibility\",\"slotformat\",\n",
    "          \"slotprice\"]\n",
    "X_validation = validation[feature]\n",
    "Y_validation = validation[\"click\"]\n",
    "X_validation.head()"
   ]
  },
  {
   "cell_type": "code",
   "execution_count": 13,
   "metadata": {
    "collapsed": false
   },
   "outputs": [
    {
     "name": "stderr",
     "output_type": "stream",
     "text": [
      "/Users/Wendy/anaconda/lib/python3.5/site-packages/pandas/core/indexing.py:465: SettingWithCopyWarning: \n",
      "A value is trying to be set on a copy of a slice from a DataFrame.\n",
      "Try using .loc[row_indexer,col_indexer] = value instead\n",
      "\n",
      "See the caveats in the documentation: http://pandas.pydata.org/pandas-docs/stable/indexing.html#indexing-view-versus-copy\n",
      "  self.obj[item] = s\n"
     ]
    }
   ],
   "source": [
    "X_validation.loc[ X_validation['slotprice'] <= 0, 'slotprice'] = 0\n",
    "X_validation.loc[(X_validation['slotprice'] > 0) & (X_validation['slotprice'] <= 10), 'slotprice'] = 1\n",
    "X_validation.loc[(X_validation['slotprice'] > 10) & (X_validation['slotprice'] <= 50), 'slotprice'] = 2\n",
    "X_validation.loc[(X_validation['slotprice'] > 50) & (X_validation['slotprice'] <= 100), 'slotprice'] = 3\n",
    "X_validation.loc[(X_validation['slotprice'] > 100), 'slotprice'] = 4\n",
    "\n",
    "X_validation.area.value_counts().sort_index()\n",
    "X_validation.loc[ X_validation['area'] <= 20000, 'area'] = 0\n",
    "X_validation.loc[(X_validation['area'] > 20000) & (X_validation['area'] <=40000 ), 'area'] = 1\n",
    "X_validation.loc[(X_validation['area'] > 40000) & (X_validation['area'] <= 60000), 'area'] = 2\n",
    "X_validation.loc[(X_validation['area'] > 60000) & (X_validation['area'] <= 80000), 'area'] = 3\n",
    "X_validation.loc[(X_validation['area'] > 80000) & (X_validation['area'] <= 100000), 'area'] = 4\n",
    "X_validation.loc[(X_validation['area'] > 100000), 'area'] = 5\n"
   ]
  },
  {
   "cell_type": "code",
   "execution_count": 14,
   "metadata": {
    "collapsed": false
   },
   "outputs": [
    {
     "name": "stderr",
     "output_type": "stream",
     "text": [
      "/Users/Wendy/anaconda/lib/python3.5/site-packages/ipykernel/__main__.py:1: SettingWithCopyWarning: \n",
      "A value is trying to be set on a copy of a slice from a DataFrame.\n",
      "Try using .loc[row_indexer,col_indexer] = value instead\n",
      "\n",
      "See the caveats in the documentation: http://pandas.pydata.org/pandas-docs/stable/indexing.html#indexing-view-versus-copy\n",
      "  if __name__ == '__main__':\n",
      "/Users/Wendy/anaconda/lib/python3.5/site-packages/ipykernel/__main__.py:2: SettingWithCopyWarning: \n",
      "A value is trying to be set on a copy of a slice from a DataFrame.\n",
      "Try using .loc[row_indexer,col_indexer] = value instead\n",
      "\n",
      "See the caveats in the documentation: http://pandas.pydata.org/pandas-docs/stable/indexing.html#indexing-view-versus-copy\n",
      "  from ipykernel import kernelapp as app\n",
      "/Users/Wendy/anaconda/lib/python3.5/site-packages/ipykernel/__main__.py:3: SettingWithCopyWarning: \n",
      "A value is trying to be set on a copy of a slice from a DataFrame.\n",
      "Try using .loc[row_indexer,col_indexer] = value instead\n",
      "\n",
      "See the caveats in the documentation: http://pandas.pydata.org/pandas-docs/stable/indexing.html#indexing-view-versus-copy\n",
      "  app.launch_new_instance()\n",
      "/Users/Wendy/anaconda/lib/python3.5/site-packages/ipykernel/__main__.py:4: SettingWithCopyWarning: \n",
      "A value is trying to be set on a copy of a slice from a DataFrame.\n",
      "Try using .loc[row_indexer,col_indexer] = value instead\n",
      "\n",
      "See the caveats in the documentation: http://pandas.pydata.org/pandas-docs/stable/indexing.html#indexing-view-versus-copy\n",
      "/Users/Wendy/anaconda/lib/python3.5/site-packages/ipykernel/__main__.py:5: SettingWithCopyWarning: \n",
      "A value is trying to be set on a copy of a slice from a DataFrame.\n",
      "Try using .loc[row_indexer,col_indexer] = value instead\n",
      "\n",
      "See the caveats in the documentation: http://pandas.pydata.org/pandas-docs/stable/indexing.html#indexing-view-versus-copy\n",
      "/Users/Wendy/anaconda/lib/python3.5/site-packages/ipykernel/__main__.py:6: SettingWithCopyWarning: \n",
      "A value is trying to be set on a copy of a slice from a DataFrame.\n",
      "Try using .loc[row_indexer,col_indexer] = value instead\n",
      "\n",
      "See the caveats in the documentation: http://pandas.pydata.org/pandas-docs/stable/indexing.html#indexing-view-versus-copy\n"
     ]
    }
   ],
   "source": [
    "X_validation[\"advertiser\"]=X_validation.advertiser.astype(\"str\")\n",
    "X_validation[\"weekday\"]=X_validation.weekday.astype(\"str\")\n",
    "X_validation[\"adexchange\"]=X_validation.adexchange.astype(\"str\")\n",
    "X_validation[\"slotvisibility\"]=X_validation.slotvisibility.astype(\"str\")\n",
    "X_validation[\"slotformat\"]=X_validation.slotformat.astype(\"str\")\n",
    "X_validation[\"hour\"]=X_validation.hour.astype(\"str\")\n",
    "\n",
    "# X_validation[\"slotprice\"]=X_validation.slotprice.astype(\"str\")\n",
    "# X_validation[\"area\"]=X_validation.area.astype(\"str\")\n",
    "\n",
    "X_validation=pd.get_dummies(X_validation)"
   ]
  },
  {
   "cell_type": "code",
   "execution_count": 15,
   "metadata": {
    "collapsed": false
   },
   "outputs": [
    {
     "data": {
      "text/plain": [
       "array([ 0.00063213,  0.005724  ,  0.00085562, ...,  0.0003533 ,\n",
       "        0.00025509,  0.00114593])"
      ]
     },
     "execution_count": 15,
     "metadata": {},
     "output_type": "execute_result"
    }
   ],
   "source": [
    "Y_pred_validation = logreg.predict_proba(X_validation)\n",
    "Y_pred_validation_log = Y_pred_validation[:,1]\n",
    "Y_pred_validation_log"
   ]
  },
  {
   "cell_type": "code",
   "execution_count": 16,
   "metadata": {
    "collapsed": false
   },
   "outputs": [
    {
     "name": "stdout",
     "output_type": "stream",
     "text": [
      "RMSE: 0.027433625483877472\n"
     ]
    }
   ],
   "source": [
    "MSE = mean_squared_error(Y_pred_validation_log,Y_validation)\n",
    "RMSE = math.sqrt(MSE)\n",
    "print(\"RMSE: \" + str(RMSE) )"
   ]
  },
  {
   "cell_type": "code",
   "execution_count": 17,
   "metadata": {
    "collapsed": false
   },
   "outputs": [
    {
     "data": {
      "text/plain": [
       "array([ 0.84095098,  7.61487083,  1.13825908, ...,  0.4700084 ,\n",
       "        0.33935925,  1.52447069])"
      ]
     },
     "execution_count": 17,
     "metadata": {},
     "output_type": "execute_result"
    }
   ],
   "source": [
    "validation[\"pCTR_log\"] = Y_pred_validation_log\n",
    "\n",
    "# avgCTR = (train[train.click==1].groupby(\"advertiser\").size().values/train.groupby(\"advertiser\").size().values).mean()\n",
    "avgCTR = Y_pred_validation_log.mean()\n",
    "\n",
    "param_validation_log= Y_pred_validation_log/avgCTR\n",
    "param_validation_log"
   ]
  },
  {
   "cell_type": "markdown",
   "metadata": {},
   "source": [
    "#### base bid = 70"
   ]
  },
  {
   "cell_type": "code",
   "execution_count": 18,
   "metadata": {
    "collapsed": false
   },
   "outputs": [
    {
     "name": "stderr",
     "output_type": "stream",
     "text": [
      "/Users/Wendy/anaconda/lib/python3.5/site-packages/ipykernel/__main__.py:5: SettingWithCopyWarning: \n",
      "A value is trying to be set on a copy of a slice from a DataFrame.\n",
      "Try using .loc[row_indexer,col_indexer] = value instead\n",
      "\n",
      "See the caveats in the documentation: http://pandas.pydata.org/pandas-docs/stable/indexing.html#indexing-view-versus-copy\n"
     ]
    },
    {
     "data": {
      "text/html": [
       "<div>\n",
       "<table border=\"1\" class=\"dataframe\">\n",
       "  <thead>\n",
       "    <tr style=\"text-align: right;\">\n",
       "      <th></th>\n",
       "      <th>Click</th>\n",
       "      <th>Spend</th>\n",
       "      <th>CTR%</th>\n",
       "      <th>CPC</th>\n",
       "      <th>CPM</th>\n",
       "    </tr>\n",
       "  </thead>\n",
       "  <tbody>\n",
       "    <tr>\n",
       "      <th>full</th>\n",
       "      <td>99</td>\n",
       "      <td>5747.242</td>\n",
       "      <td>0.070494</td>\n",
       "      <td>58.052949</td>\n",
       "      <td>40.923696</td>\n",
       "    </tr>\n",
       "    <tr>\n",
       "      <th>1/2</th>\n",
       "      <td>99</td>\n",
       "      <td>5747.242</td>\n",
       "      <td>0.070494</td>\n",
       "      <td>58.052949</td>\n",
       "      <td>40.923696</td>\n",
       "    </tr>\n",
       "    <tr>\n",
       "      <th>1/4 (6250)</th>\n",
       "      <td>99</td>\n",
       "      <td>5747.242</td>\n",
       "      <td>0.070494</td>\n",
       "      <td>58.052949</td>\n",
       "      <td>40.923696</td>\n",
       "    </tr>\n",
       "    <tr>\n",
       "      <th>1/8</th>\n",
       "      <td>57</td>\n",
       "      <td>3124.960</td>\n",
       "      <td>0.074668</td>\n",
       "      <td>54.823860</td>\n",
       "      <td>40.935838</td>\n",
       "    </tr>\n",
       "    <tr>\n",
       "      <th>1/16</th>\n",
       "      <td>34</td>\n",
       "      <td>1562.478</td>\n",
       "      <td>0.088731</td>\n",
       "      <td>45.955235</td>\n",
       "      <td>40.776606</td>\n",
       "    </tr>\n",
       "  </tbody>\n",
       "</table>\n",
       "</div>"
      ],
      "text/plain": [
       "            Click     Spend      CTR%        CPC        CPM\n",
       "full           99  5747.242  0.070494  58.052949  40.923696\n",
       "1/2            99  5747.242  0.070494  58.052949  40.923696\n",
       "1/4 (6250)     99  5747.242  0.070494  58.052949  40.923696\n",
       "1/8            57  3124.960  0.074668  54.823860  40.935838\n",
       "1/16           34  1562.478  0.088731  45.955235  40.776606"
      ]
     },
     "execution_count": 18,
     "metadata": {},
     "output_type": "execute_result"
    }
   ],
   "source": [
    "validation['new_bidprice_log'] = 70*param_validation_log\n",
    "\n",
    "statistic=pd.DataFrame()\n",
    "new_validation = validation[validation[\"new_bidprice_log\"]>=validation.payprice]\n",
    "new_validation[\"total_cost\"] = new_validation[\"payprice\"].cumsum()\n",
    "budget_1 = new_validation[new_validation[\"total_cost\"]/1000<=25000]\n",
    "statistic[\"Click\"] = [budget_1[budget_1.click==1].click.sum()]\n",
    "statistic[\"Spend\"] = budget_1.payprice.sum()/1000\n",
    "statistic[\"CTR%\"] = statistic[\"Click\"]/budget_1.shape[0]*100\n",
    "statistic[\"CPC\"] = statistic[\"Spend\"]/statistic[\"Click\"]\n",
    "statistic[\"CPM\"] = statistic[\"Spend\"] /budget_1.shape[0]* 1000\n",
    "\n",
    "statistic_2=pd.DataFrame()\n",
    "budget_2 = new_validation[new_validation[\"total_cost\"]/1000<=25000*1/2]\n",
    "statistic_2[\"Click\"] = [budget_2[budget_2.click==1].click.sum()]\n",
    "statistic_2[\"Spend\"] = budget_2.payprice.sum()/1000\n",
    "statistic_2[\"CTR%\"] = statistic_2[\"Click\"]/budget_2.shape[0]*100\n",
    "statistic_2[\"CPC\"] = statistic_2[\"Spend\"]/statistic_2[\"Click\"]\n",
    "statistic_2[\"CPM\"] = statistic_2[\"Spend\"] /budget_2.shape[0]* 1000\n",
    "\n",
    "statistic_4=pd.DataFrame()\n",
    "budget_4 = new_validation[new_validation[\"total_cost\"]/1000<=25000/4]\n",
    "statistic_4[\"Click\"] = [budget_4[budget_4.click==1].click.sum()]\n",
    "statistic_4[\"Spend\"] = budget_4.payprice.sum()/1000\n",
    "statistic_4[\"CTR%\"] = statistic_4[\"Click\"]/budget_4.shape[0]*100\n",
    "statistic_4[\"CPC\"] = statistic_4[\"Spend\"]/statistic_4[\"Click\"]\n",
    "statistic_4[\"CPM\"] = statistic_4[\"Spend\"] /budget_4.shape[0]* 1000\n",
    "\n",
    "statistic_8=pd.DataFrame()\n",
    "budget_8 = new_validation[new_validation[\"total_cost\"]/1000<=25000*1/8]\n",
    "statistic_8[\"Click\"] = [budget_8[budget_8.click==1].click.sum()]\n",
    "statistic_8[\"Spend\"] = budget_8.payprice.sum()/1000\n",
    "statistic_8[\"CTR%\"] = statistic_8[\"Click\"]/budget_8.shape[0]*100\n",
    "statistic_8[\"CPC\"] = statistic_8[\"Spend\"]/statistic_8[\"Click\"]\n",
    "statistic_8[\"CPM\"] = statistic_8[\"Spend\"] /budget_8.shape[0]* 1000\n",
    "\n",
    "statistic_16=pd.DataFrame()\n",
    "budget_16 = new_validation[new_validation[\"total_cost\"]/1000<=25000*1/16]\n",
    "statistic_16[\"Click\"] = [budget_16[budget_16.click==1].click.sum()]\n",
    "statistic_16[\"Spend\"] = budget_16.payprice.sum()/1000\n",
    "statistic_16[\"CTR%\"] = statistic_16[\"Click\"]/budget_16.shape[0]*100\n",
    "statistic_16[\"CPC\"] = statistic_16[\"Spend\"]/statistic_16[\"Click\"]\n",
    "statistic_16[\"CPM\"] = statistic_16[\"Spend\"] /budget_16.shape[0]* 1000\n",
    "\n",
    "\n",
    "statistic_one = statistic.append(statistic_2)\n",
    "statistic_two = statistic_one.append(statistic_4)\n",
    "statistic_3 = statistic_two.append(statistic_8)\n",
    "statistic_full_val_log = statistic_3.append(statistic_16)\n",
    "\n",
    "statistic_full_val_log.index = [\"full\",\"1/2\",\"1/4 (6250)\",\"1/8\",\"1/16\"]\n",
    "statistic_full_val_log"
   ]
  },
  {
   "cell_type": "markdown",
   "metadata": {
    "collapsed": true
   },
   "source": [
    "## Gradient"
   ]
  },
  {
   "cell_type": "code",
   "execution_count": 19,
   "metadata": {
    "collapsed": false
   },
   "outputs": [
    {
     "data": {
      "text/html": [
       "<div>\n",
       "<table border=\"1\" class=\"dataframe\">\n",
       "  <thead>\n",
       "    <tr style=\"text-align: right;\">\n",
       "      <th></th>\n",
       "      <th>weekday</th>\n",
       "      <th>hour</th>\n",
       "      <th>advertiser</th>\n",
       "      <th>adexchange</th>\n",
       "      <th>area</th>\n",
       "      <th>slotvisibility</th>\n",
       "      <th>slotformat</th>\n",
       "      <th>frequent</th>\n",
       "      <th>slotprice</th>\n",
       "    </tr>\n",
       "  </thead>\n",
       "  <tbody>\n",
       "    <tr>\n",
       "      <th>0</th>\n",
       "      <td>1</td>\n",
       "      <td>14</td>\n",
       "      <td>1458</td>\n",
       "      <td>2</td>\n",
       "      <td>28080</td>\n",
       "      <td>1</td>\n",
       "      <td>0</td>\n",
       "      <td>0.019417</td>\n",
       "      <td>5</td>\n",
       "    </tr>\n",
       "    <tr>\n",
       "      <th>1</th>\n",
       "      <td>2</td>\n",
       "      <td>20</td>\n",
       "      <td>3476</td>\n",
       "      <td>2</td>\n",
       "      <td>62500</td>\n",
       "      <td>1</td>\n",
       "      <td>0</td>\n",
       "      <td>0.013130</td>\n",
       "      <td>5</td>\n",
       "    </tr>\n",
       "    <tr>\n",
       "      <th>2</th>\n",
       "      <td>5</td>\n",
       "      <td>9</td>\n",
       "      <td>1458</td>\n",
       "      <td>1</td>\n",
       "      <td>94080</td>\n",
       "      <td>0</td>\n",
       "      <td>1</td>\n",
       "      <td>0.039022</td>\n",
       "      <td>0</td>\n",
       "    </tr>\n",
       "    <tr>\n",
       "      <th>3</th>\n",
       "      <td>2</td>\n",
       "      <td>20</td>\n",
       "      <td>3427</td>\n",
       "      <td>2</td>\n",
       "      <td>65520</td>\n",
       "      <td>0</td>\n",
       "      <td>0</td>\n",
       "      <td>0.004477</td>\n",
       "      <td>162</td>\n",
       "    </tr>\n",
       "    <tr>\n",
       "      <th>4</th>\n",
       "      <td>6</td>\n",
       "      <td>9</td>\n",
       "      <td>3476</td>\n",
       "      <td>1</td>\n",
       "      <td>85500</td>\n",
       "      <td>0</td>\n",
       "      <td>1</td>\n",
       "      <td>0.001714</td>\n",
       "      <td>0</td>\n",
       "    </tr>\n",
       "  </tbody>\n",
       "</table>\n",
       "</div>"
      ],
      "text/plain": [
       "   weekday  hour  advertiser adexchange   area slotvisibility slotformat  \\\n",
       "0        1    14        1458          2  28080              1          0   \n",
       "1        2    20        3476          2  62500              1          0   \n",
       "2        5     9        1458          1  94080              0          1   \n",
       "3        2    20        3427          2  65520              0          0   \n",
       "4        6     9        3476          1  85500              0          1   \n",
       "\n",
       "   frequent  slotprice  \n",
       "0  0.019417          5  \n",
       "1  0.013130          5  \n",
       "2  0.039022          0  \n",
       "3  0.004477        162  \n",
       "4  0.001714          0  "
      ]
     },
     "execution_count": 19,
     "metadata": {},
     "output_type": "execute_result"
    }
   ],
   "source": [
    "train[\"area\"] = train[\"slotheight\"]*train[\"slotwidth\"] \n",
    "\n",
    "city = pd.DataFrame(train.city.value_counts()/train.shape[0]).index\n",
    "frequent = pd.DataFrame(train.city.value_counts()/train.shape[0]).values\n",
    "r = pd.DataFrame()\n",
    "r[\"city\"] = city\n",
    "r[\"frequent\"] = frequent\n",
    "train=pd.merge(train,r,on='city',how='left') \n",
    "\n",
    "feature = [\"weekday\",\"hour\",\"advertiser\",\"adexchange\",\"area\",\"slotvisibility\",\"slotformat\",\"frequent\",\n",
    "          \"slotprice\"]\n",
    "X_train = train[feature]\n",
    "Y_train = train[\"click\"]\n",
    "\n",
    "X_train.head()"
   ]
  },
  {
   "cell_type": "code",
   "execution_count": 20,
   "metadata": {
    "collapsed": false
   },
   "outputs": [
    {
     "name": "stderr",
     "output_type": "stream",
     "text": [
      "/Users/Wendy/anaconda/lib/python3.5/site-packages/ipykernel/__main__.py:6: SettingWithCopyWarning: \n",
      "A value is trying to be set on a copy of a slice from a DataFrame.\n",
      "Try using .loc[row_indexer,col_indexer] = value instead\n",
      "\n",
      "See the caveats in the documentation: http://pandas.pydata.org/pandas-docs/stable/indexing.html#indexing-view-versus-copy\n",
      "/Users/Wendy/anaconda/lib/python3.5/site-packages/ipykernel/__main__.py:7: SettingWithCopyWarning: \n",
      "A value is trying to be set on a copy of a slice from a DataFrame.\n",
      "Try using .loc[row_indexer,col_indexer] = value instead\n",
      "\n",
      "See the caveats in the documentation: http://pandas.pydata.org/pandas-docs/stable/indexing.html#indexing-view-versus-copy\n",
      "/Users/Wendy/anaconda/lib/python3.5/site-packages/ipykernel/__main__.py:8: SettingWithCopyWarning: \n",
      "A value is trying to be set on a copy of a slice from a DataFrame.\n",
      "Try using .loc[row_indexer,col_indexer] = value instead\n",
      "\n",
      "See the caveats in the documentation: http://pandas.pydata.org/pandas-docs/stable/indexing.html#indexing-view-versus-copy\n",
      "/Users/Wendy/anaconda/lib/python3.5/site-packages/ipykernel/__main__.py:10: SettingWithCopyWarning: \n",
      "A value is trying to be set on a copy of a slice from a DataFrame.\n",
      "Try using .loc[row_indexer,col_indexer] = value instead\n",
      "\n",
      "See the caveats in the documentation: http://pandas.pydata.org/pandas-docs/stable/indexing.html#indexing-view-versus-copy\n",
      "/Users/Wendy/anaconda/lib/python3.5/site-packages/ipykernel/__main__.py:11: SettingWithCopyWarning: \n",
      "A value is trying to be set on a copy of a slice from a DataFrame.\n",
      "Try using .loc[row_indexer,col_indexer] = value instead\n",
      "\n",
      "See the caveats in the documentation: http://pandas.pydata.org/pandas-docs/stable/indexing.html#indexing-view-versus-copy\n",
      "/Users/Wendy/anaconda/lib/python3.5/site-packages/ipykernel/__main__.py:12: SettingWithCopyWarning: \n",
      "A value is trying to be set on a copy of a slice from a DataFrame.\n",
      "Try using .loc[row_indexer,col_indexer] = value instead\n",
      "\n",
      "See the caveats in the documentation: http://pandas.pydata.org/pandas-docs/stable/indexing.html#indexing-view-versus-copy\n"
     ]
    }
   ],
   "source": [
    "np.random.seed(12)\n",
    "\n",
    "# Initialize label encoder\n",
    "label_encoder = preprocessing.LabelEncoder()\n",
    "\n",
    "X_train[\"slotvisibility\"] = label_encoder.fit_transform(X_train[\"slotvisibility\"])\n",
    "X_train[\"slotformat\"] = label_encoder.fit_transform(X_train[\"slotformat\"])\n",
    "X_train[\"adexchange\"] = label_encoder.fit_transform(X_train[\"adexchange\"])\n",
    "\n",
    "X_train[\"advertiser\"]=X_train.advertiser.astype(\"str\")\n",
    "X_train[\"weekday\"]=X_train.weekday.astype(\"str\")\n",
    "X_train[\"hour\"]=X_train.hour.astype(\"str\")\n",
    "\n",
    "X_train=pd.get_dummies(X_train)"
   ]
  },
  {
   "cell_type": "code",
   "execution_count": 21,
   "metadata": {
    "collapsed": false
   },
   "outputs": [
    {
     "data": {
      "text/plain": [
       "GradientBoostingClassifier(init=None, learning_rate=0.1, loss='deviance',\n",
       "              max_depth=3, max_features=None, max_leaf_nodes=None,\n",
       "              min_samples_leaf=1, min_samples_split=2,\n",
       "              min_weight_fraction_leaf=0.0, n_estimators=100,\n",
       "              presort='auto', random_state=None, subsample=1.0, verbose=0,\n",
       "              warm_start=False)"
      ]
     },
     "execution_count": 21,
     "metadata": {},
     "output_type": "execute_result"
    }
   ],
   "source": [
    "GBR = GradientBoostingClassifier()\n",
    "GBR.fit(X_train, Y_train)"
   ]
  },
  {
   "cell_type": "code",
   "execution_count": 22,
   "metadata": {
    "collapsed": false
   },
   "outputs": [
    {
     "data": {
      "text/plain": [
       "array([ 0.00076917,  0.00041292,  0.00108197, ...,  0.00024882,\n",
       "        0.00047198,  0.00082217])"
      ]
     },
     "execution_count": 22,
     "metadata": {},
     "output_type": "execute_result"
    }
   ],
   "source": [
    "Y_pred_ = GBR.predict_proba(X_train)\n",
    "Y_pred_gbr = Y_pred_[:,1]\n",
    "Y_pred_gbr"
   ]
  },
  {
   "cell_type": "code",
   "execution_count": 23,
   "metadata": {
    "collapsed": false
   },
   "outputs": [
    {
     "name": "stdout",
     "output_type": "stream",
     "text": [
      "RMSE: 0.027383548816209902\n"
     ]
    }
   ],
   "source": [
    "MSE = mean_squared_error(Y_pred_gbr,Y_train)\n",
    "RMSE = math.sqrt(MSE)\n",
    "print(\"RMSE: \" + str(RMSE) )"
   ]
  },
  {
   "cell_type": "markdown",
   "metadata": {},
   "source": [
    "### Validation"
   ]
  },
  {
   "cell_type": "code",
   "execution_count": 24,
   "metadata": {
    "collapsed": false
   },
   "outputs": [
    {
     "data": {
      "text/html": [
       "<div>\n",
       "<table border=\"1\" class=\"dataframe\">\n",
       "  <thead>\n",
       "    <tr style=\"text-align: right;\">\n",
       "      <th></th>\n",
       "      <th>weekday</th>\n",
       "      <th>hour</th>\n",
       "      <th>advertiser</th>\n",
       "      <th>adexchange</th>\n",
       "      <th>area</th>\n",
       "      <th>slotvisibility</th>\n",
       "      <th>slotformat</th>\n",
       "      <th>frequent</th>\n",
       "      <th>slotprice</th>\n",
       "    </tr>\n",
       "  </thead>\n",
       "  <tbody>\n",
       "    <tr>\n",
       "      <th>0</th>\n",
       "      <td>5</td>\n",
       "      <td>14</td>\n",
       "      <td>3427</td>\n",
       "      <td>1</td>\n",
       "      <td>75000</td>\n",
       "      <td>0</td>\n",
       "      <td>1</td>\n",
       "      <td>0.002068</td>\n",
       "      <td>0</td>\n",
       "    </tr>\n",
       "    <tr>\n",
       "      <th>1</th>\n",
       "      <td>3</td>\n",
       "      <td>14</td>\n",
       "      <td>2997</td>\n",
       "      <td>null</td>\n",
       "      <td>16000</td>\n",
       "      <td>FirstView</td>\n",
       "      <td>Na</td>\n",
       "      <td>0.039229</td>\n",
       "      <td>118</td>\n",
       "    </tr>\n",
       "    <tr>\n",
       "      <th>2</th>\n",
       "      <td>1</td>\n",
       "      <td>13</td>\n",
       "      <td>3427</td>\n",
       "      <td>3</td>\n",
       "      <td>90000</td>\n",
       "      <td>0</td>\n",
       "      <td>0</td>\n",
       "      <td>0.003676</td>\n",
       "      <td>70</td>\n",
       "    </tr>\n",
       "    <tr>\n",
       "      <th>3</th>\n",
       "      <td>5</td>\n",
       "      <td>18</td>\n",
       "      <td>3427</td>\n",
       "      <td>3</td>\n",
       "      <td>90000</td>\n",
       "      <td>0</td>\n",
       "      <td>0</td>\n",
       "      <td>0.010175</td>\n",
       "      <td>70</td>\n",
       "    </tr>\n",
       "    <tr>\n",
       "      <th>4</th>\n",
       "      <td>5</td>\n",
       "      <td>14</td>\n",
       "      <td>3386</td>\n",
       "      <td>2</td>\n",
       "      <td>94080</td>\n",
       "      <td>2</td>\n",
       "      <td>0</td>\n",
       "      <td>0.021628</td>\n",
       "      <td>5</td>\n",
       "    </tr>\n",
       "  </tbody>\n",
       "</table>\n",
       "</div>"
      ],
      "text/plain": [
       "   weekday  hour  advertiser adexchange   area slotvisibility slotformat  \\\n",
       "0        5    14        3427          1  75000              0          1   \n",
       "1        3    14        2997       null  16000      FirstView         Na   \n",
       "2        1    13        3427          3  90000              0          0   \n",
       "3        5    18        3427          3  90000              0          0   \n",
       "4        5    14        3386          2  94080              2          0   \n",
       "\n",
       "   frequent  slotprice  \n",
       "0  0.002068          0  \n",
       "1  0.039229        118  \n",
       "2  0.003676         70  \n",
       "3  0.010175         70  \n",
       "4  0.021628          5  "
      ]
     },
     "execution_count": 24,
     "metadata": {},
     "output_type": "execute_result"
    }
   ],
   "source": [
    "validation[\"area\"] = validation[\"slotheight\"]*validation[\"slotwidth\"] \n",
    "\n",
    "city = pd.DataFrame(validation.city.value_counts()/validation.shape[0]).index\n",
    "frequent = pd.DataFrame(validation.city.value_counts()/validation.shape[0]).values\n",
    "r = pd.DataFrame()\n",
    "r[\"city\"] = city\n",
    "r[\"frequent\"] = frequent\n",
    "validation=pd.merge(validation,r,on='city',how='left') \n",
    "\n",
    "feature = [\"weekday\",\"hour\",\"advertiser\",\"adexchange\",\"area\",\"slotvisibility\",\"slotformat\",\"frequent\",\n",
    "          \"slotprice\"]\n",
    "X_validation = validation[feature]\n",
    "Y_validation = validation[\"click\"]\n",
    "\n",
    "X_validation.head()"
   ]
  },
  {
   "cell_type": "code",
   "execution_count": 25,
   "metadata": {
    "collapsed": false
   },
   "outputs": [
    {
     "name": "stderr",
     "output_type": "stream",
     "text": [
      "/Users/Wendy/anaconda/lib/python3.5/site-packages/ipykernel/__main__.py:6: SettingWithCopyWarning: \n",
      "A value is trying to be set on a copy of a slice from a DataFrame.\n",
      "Try using .loc[row_indexer,col_indexer] = value instead\n",
      "\n",
      "See the caveats in the documentation: http://pandas.pydata.org/pandas-docs/stable/indexing.html#indexing-view-versus-copy\n",
      "/Users/Wendy/anaconda/lib/python3.5/site-packages/ipykernel/__main__.py:7: SettingWithCopyWarning: \n",
      "A value is trying to be set on a copy of a slice from a DataFrame.\n",
      "Try using .loc[row_indexer,col_indexer] = value instead\n",
      "\n",
      "See the caveats in the documentation: http://pandas.pydata.org/pandas-docs/stable/indexing.html#indexing-view-versus-copy\n",
      "/Users/Wendy/anaconda/lib/python3.5/site-packages/ipykernel/__main__.py:8: SettingWithCopyWarning: \n",
      "A value is trying to be set on a copy of a slice from a DataFrame.\n",
      "Try using .loc[row_indexer,col_indexer] = value instead\n",
      "\n",
      "See the caveats in the documentation: http://pandas.pydata.org/pandas-docs/stable/indexing.html#indexing-view-versus-copy\n",
      "/Users/Wendy/anaconda/lib/python3.5/site-packages/ipykernel/__main__.py:11: SettingWithCopyWarning: \n",
      "A value is trying to be set on a copy of a slice from a DataFrame.\n",
      "Try using .loc[row_indexer,col_indexer] = value instead\n",
      "\n",
      "See the caveats in the documentation: http://pandas.pydata.org/pandas-docs/stable/indexing.html#indexing-view-versus-copy\n",
      "/Users/Wendy/anaconda/lib/python3.5/site-packages/ipykernel/__main__.py:12: SettingWithCopyWarning: \n",
      "A value is trying to be set on a copy of a slice from a DataFrame.\n",
      "Try using .loc[row_indexer,col_indexer] = value instead\n",
      "\n",
      "See the caveats in the documentation: http://pandas.pydata.org/pandas-docs/stable/indexing.html#indexing-view-versus-copy\n",
      "/Users/Wendy/anaconda/lib/python3.5/site-packages/ipykernel/__main__.py:13: SettingWithCopyWarning: \n",
      "A value is trying to be set on a copy of a slice from a DataFrame.\n",
      "Try using .loc[row_indexer,col_indexer] = value instead\n",
      "\n",
      "See the caveats in the documentation: http://pandas.pydata.org/pandas-docs/stable/indexing.html#indexing-view-versus-copy\n"
     ]
    }
   ],
   "source": [
    "np.random.seed(12)\n",
    "\n",
    "# Initialize label encoder\n",
    "label_encoder = preprocessing.LabelEncoder()\n",
    "\n",
    "X_validation[\"slotvisibility\"] = label_encoder.fit_transform(X_validation[\"slotvisibility\"])\n",
    "X_validation[\"slotformat\"] = label_encoder.fit_transform(X_validation[\"slotformat\"])\n",
    "X_validation[\"adexchange\"] = label_encoder.fit_transform(X_validation[\"adexchange\"])\n",
    "\n",
    "\n",
    "X_validation[\"advertiser\"]=X_validation.advertiser.astype(\"str\")\n",
    "X_validation[\"weekday\"]=X_validation.weekday.astype(\"str\")\n",
    "X_validation[\"hour\"]=X_validation.hour.astype(\"str\")\n",
    "\n",
    "X_validation=pd.get_dummies(X_validation)"
   ]
  },
  {
   "cell_type": "code",
   "execution_count": 26,
   "metadata": {
    "collapsed": false
   },
   "outputs": [
    {
     "name": "stdout",
     "output_type": "stream",
     "text": [
      "RMSE: 0.02751658128834068\n"
     ]
    }
   ],
   "source": [
    "Y_pred_validation_gbr = GBR.predict_proba(X_validation)\n",
    "Y_pred_validation_gbr = Y_pred_validation_gbr [:,1]\n",
    "MSE = mean_squared_error(Y_pred_validation_gbr,Y_validation)\n",
    "RMSE = math.sqrt(MSE)\n",
    "print(\"RMSE: \" + str(RMSE) )"
   ]
  },
  {
   "cell_type": "markdown",
   "metadata": {},
   "source": [
    "#### base price = 70"
   ]
  },
  {
   "cell_type": "code",
   "execution_count": 27,
   "metadata": {
    "collapsed": false
   },
   "outputs": [
    {
     "name": "stderr",
     "output_type": "stream",
     "text": [
      "/Users/Wendy/anaconda/lib/python3.5/site-packages/ipykernel/__main__.py:11: SettingWithCopyWarning: \n",
      "A value is trying to be set on a copy of a slice from a DataFrame.\n",
      "Try using .loc[row_indexer,col_indexer] = value instead\n",
      "\n",
      "See the caveats in the documentation: http://pandas.pydata.org/pandas-docs/stable/indexing.html#indexing-view-versus-copy\n"
     ]
    },
    {
     "data": {
      "text/html": [
       "<div>\n",
       "<table border=\"1\" class=\"dataframe\">\n",
       "  <thead>\n",
       "    <tr style=\"text-align: right;\">\n",
       "      <th></th>\n",
       "      <th>Click</th>\n",
       "      <th>Spend</th>\n",
       "      <th>CTR%</th>\n",
       "      <th>CPC</th>\n",
       "      <th>CPM</th>\n",
       "    </tr>\n",
       "  </thead>\n",
       "  <tbody>\n",
       "    <tr>\n",
       "      <th>full</th>\n",
       "      <td>117</td>\n",
       "      <td>6039.890</td>\n",
       "      <td>0.081794</td>\n",
       "      <td>51.622991</td>\n",
       "      <td>42.224296</td>\n",
       "    </tr>\n",
       "    <tr>\n",
       "      <th>1/2</th>\n",
       "      <td>117</td>\n",
       "      <td>6039.890</td>\n",
       "      <td>0.081794</td>\n",
       "      <td>51.622991</td>\n",
       "      <td>42.224296</td>\n",
       "    </tr>\n",
       "    <tr>\n",
       "      <th>1/4 (6250)</th>\n",
       "      <td>117</td>\n",
       "      <td>6039.890</td>\n",
       "      <td>0.081794</td>\n",
       "      <td>51.622991</td>\n",
       "      <td>42.224296</td>\n",
       "    </tr>\n",
       "    <tr>\n",
       "      <th>1/8</th>\n",
       "      <td>64</td>\n",
       "      <td>3124.878</td>\n",
       "      <td>0.086241</td>\n",
       "      <td>48.826219</td>\n",
       "      <td>42.108016</td>\n",
       "    </tr>\n",
       "    <tr>\n",
       "      <th>1/16</th>\n",
       "      <td>37</td>\n",
       "      <td>1562.369</td>\n",
       "      <td>0.099433</td>\n",
       "      <td>42.226189</td>\n",
       "      <td>41.986751</td>\n",
       "    </tr>\n",
       "  </tbody>\n",
       "</table>\n",
       "</div>"
      ],
      "text/plain": [
       "            Click     Spend      CTR%        CPC        CPM\n",
       "full          117  6039.890  0.081794  51.622991  42.224296\n",
       "1/2           117  6039.890  0.081794  51.622991  42.224296\n",
       "1/4 (6250)    117  6039.890  0.081794  51.622991  42.224296\n",
       "1/8            64  3124.878  0.086241  48.826219  42.108016\n",
       "1/16           37  1562.369  0.099433  42.226189  41.986751"
      ]
     },
     "execution_count": 27,
     "metadata": {},
     "output_type": "execute_result"
    }
   ],
   "source": [
    "validation[\"pCTR_gbr\"] = Y_pred_validation_gbr\n",
    "\n",
    "avgCTR = Y_pred_validation_gbr.mean()\n",
    "\n",
    "param_validation_gbr= Y_pred_validation_gbr/avgCTR\n",
    "\n",
    "validation['new_bidprice_gbr'] = 70*param_validation_gbr\n",
    "\n",
    "statistic=pd.DataFrame()\n",
    "new_validation = validation[validation[\"new_bidprice_gbr\"]>=validation.payprice]\n",
    "new_validation[\"total_cost\"] = new_validation[\"payprice\"].cumsum()\n",
    "budget_1 = new_validation[new_validation[\"total_cost\"]/1000<=25000]\n",
    "statistic[\"Click\"] = [budget_1[budget_1.click==1].click.sum()]\n",
    "statistic[\"Spend\"] = budget_1.payprice.sum()/1000\n",
    "statistic[\"CTR%\"] = statistic[\"Click\"]/budget_1.shape[0]*100\n",
    "statistic[\"CPC\"] = statistic[\"Spend\"]/statistic[\"Click\"]\n",
    "statistic[\"CPM\"] = statistic[\"Spend\"] /budget_1.shape[0]* 1000\n",
    "\n",
    "statistic_2=pd.DataFrame()\n",
    "budget_2 = new_validation[new_validation[\"total_cost\"]/1000<=25000*1/2]\n",
    "statistic_2[\"Click\"] = [budget_2[budget_2.click==1].click.sum()]\n",
    "statistic_2[\"Spend\"] = budget_2.payprice.sum()/1000\n",
    "statistic_2[\"CTR%\"] = statistic_2[\"Click\"]/budget_2.shape[0]*100\n",
    "statistic_2[\"CPC\"] = statistic_2[\"Spend\"]/statistic_2[\"Click\"]\n",
    "statistic_2[\"CPM\"] = statistic_2[\"Spend\"] /budget_2.shape[0]* 1000\n",
    "\n",
    "statistic_4=pd.DataFrame()\n",
    "budget_4 = new_validation[new_validation[\"total_cost\"]/1000<=25000/4]\n",
    "statistic_4[\"Click\"] = [budget_4[budget_4.click==1].click.sum()]\n",
    "statistic_4[\"Spend\"] = budget_4.payprice.sum()/1000\n",
    "statistic_4[\"CTR%\"] = statistic_4[\"Click\"]/budget_4.shape[0]*100\n",
    "statistic_4[\"CPC\"] = statistic_4[\"Spend\"]/statistic_4[\"Click\"]\n",
    "statistic_4[\"CPM\"] = statistic_4[\"Spend\"] /budget_4.shape[0]* 1000\n",
    "\n",
    "statistic_8=pd.DataFrame()\n",
    "budget_8 = new_validation[new_validation[\"total_cost\"]/1000<=25000*1/8]\n",
    "statistic_8[\"Click\"] = [budget_8[budget_8.click==1].click.sum()]\n",
    "statistic_8[\"Spend\"] = budget_8.payprice.sum()/1000\n",
    "statistic_8[\"CTR%\"] = statistic_8[\"Click\"]/budget_8.shape[0]*100\n",
    "statistic_8[\"CPC\"] = statistic_8[\"Spend\"]/statistic_8[\"Click\"]\n",
    "statistic_8[\"CPM\"] = statistic_8[\"Spend\"] /budget_8.shape[0]* 1000\n",
    "\n",
    "statistic_16=pd.DataFrame()\n",
    "budget_16 = new_validation[new_validation[\"total_cost\"]/1000<=25000*1/16]\n",
    "statistic_16[\"Click\"] = [budget_16[budget_16.click==1].click.sum()]\n",
    "statistic_16[\"Spend\"] = budget_16.payprice.sum()/1000\n",
    "statistic_16[\"CTR%\"] = statistic_16[\"Click\"]/budget_16.shape[0]*100\n",
    "statistic_16[\"CPC\"] = statistic_16[\"Spend\"]/statistic_16[\"Click\"]\n",
    "statistic_16[\"CPM\"] = statistic_16[\"Spend\"] /budget_16.shape[0]* 1000\n",
    "\n",
    "\n",
    "statistic_one = statistic.append(statistic_2)\n",
    "statistic_two = statistic_one.append(statistic_4)\n",
    "statistic_3 = statistic_two.append(statistic_8)\n",
    "statistic_full_val_grb = statistic_3.append(statistic_16)\n",
    "\n",
    "statistic_full_val_grb.index = [\"full\",\"1/2\",\"1/4 (6250)\",\"1/8\",\"1/16\"]\n",
    "statistic_full_val_grb"
   ]
  },
  {
   "cell_type": "markdown",
   "metadata": {},
   "source": [
    "### Combination"
   ]
  },
  {
   "cell_type": "code",
   "execution_count": 28,
   "metadata": {
    "collapsed": false
   },
   "outputs": [
    {
     "name": "stderr",
     "output_type": "stream",
     "text": [
      "/Users/Wendy/anaconda/lib/python3.5/site-packages/ipykernel/__main__.py:10: SettingWithCopyWarning: \n",
      "A value is trying to be set on a copy of a slice from a DataFrame.\n",
      "Try using .loc[row_indexer,col_indexer] = value instead\n",
      "\n",
      "See the caveats in the documentation: http://pandas.pydata.org/pandas-docs/stable/indexing.html#indexing-view-versus-copy\n"
     ]
    },
    {
     "data": {
      "text/html": [
       "<div>\n",
       "<table border=\"1\" class=\"dataframe\">\n",
       "  <thead>\n",
       "    <tr style=\"text-align: right;\">\n",
       "      <th></th>\n",
       "      <th>Click</th>\n",
       "      <th>Spend</th>\n",
       "      <th>CTR%</th>\n",
       "      <th>CPC</th>\n",
       "      <th>CPM</th>\n",
       "    </tr>\n",
       "  </thead>\n",
       "  <tbody>\n",
       "    <tr>\n",
       "      <th>full</th>\n",
       "      <td>119</td>\n",
       "      <td>6091.495</td>\n",
       "      <td>0.082480</td>\n",
       "      <td>51.189034</td>\n",
       "      <td>42.220832</td>\n",
       "    </tr>\n",
       "    <tr>\n",
       "      <th>1/2</th>\n",
       "      <td>119</td>\n",
       "      <td>6091.495</td>\n",
       "      <td>0.082480</td>\n",
       "      <td>51.189034</td>\n",
       "      <td>42.220832</td>\n",
       "    </tr>\n",
       "    <tr>\n",
       "      <th>1/4 (6250)</th>\n",
       "      <td>119</td>\n",
       "      <td>6091.495</td>\n",
       "      <td>0.082480</td>\n",
       "      <td>51.189034</td>\n",
       "      <td>42.220832</td>\n",
       "    </tr>\n",
       "    <tr>\n",
       "      <th>1/8</th>\n",
       "      <td>66</td>\n",
       "      <td>3124.995</td>\n",
       "      <td>0.088876</td>\n",
       "      <td>47.348409</td>\n",
       "      <td>42.081240</td>\n",
       "    </tr>\n",
       "    <tr>\n",
       "      <th>1/16</th>\n",
       "      <td>38</td>\n",
       "      <td>1562.491</td>\n",
       "      <td>0.102200</td>\n",
       "      <td>41.118184</td>\n",
       "      <td>42.022780</td>\n",
       "    </tr>\n",
       "  </tbody>\n",
       "</table>\n",
       "</div>"
      ],
      "text/plain": [
       "            Click     Spend      CTR%        CPC        CPM\n",
       "full          119  6091.495  0.082480  51.189034  42.220832\n",
       "1/2           119  6091.495  0.082480  51.189034  42.220832\n",
       "1/4 (6250)    119  6091.495  0.082480  51.189034  42.220832\n",
       "1/8            66  3124.995  0.088876  47.348409  42.081240\n",
       "1/16           38  1562.491  0.102200  41.118184  42.022780"
      ]
     },
     "execution_count": 28,
     "metadata": {},
     "output_type": "execute_result"
    }
   ],
   "source": [
    "Y_pred_validation_combine = 0.1 * Y_pred_validation_log + 0.9 * Y_pred_validation_gbr\n",
    "validation[\"pCTR_combine\"] = Y_pred_validation_combine\n",
    "avg_ctr = Y_pred_validation_combine.mean()\n",
    "param_validation_combine = Y_pred_validation_combine/avg_ctr\n",
    "\n",
    "validation[\"new_bidprice_combine\"] = 70 * param_validation_combine\n",
    "\n",
    "statistic=pd.DataFrame()\n",
    "new_validation = validation[validation[\"new_bidprice_combine\"]>=validation.payprice]\n",
    "new_validation[\"total_cost\"] = new_validation[\"payprice\"].cumsum()\n",
    "budget_1 = new_validation[new_validation[\"total_cost\"]/1000<=25000]\n",
    "statistic[\"Click\"] = [budget_1[budget_1.click==1].click.sum()]\n",
    "statistic[\"Spend\"] = budget_1.payprice.sum()/1000\n",
    "statistic[\"CTR%\"] = statistic[\"Click\"]/budget_1.shape[0]*100\n",
    "statistic[\"CPC\"] = statistic[\"Spend\"]/statistic[\"Click\"]\n",
    "statistic[\"CPM\"] = statistic[\"Spend\"] /budget_1.shape[0]* 1000\n",
    "\n",
    "statistic_2=pd.DataFrame()\n",
    "budget_2 = new_validation[new_validation[\"total_cost\"]/1000<=25000*1/2]\n",
    "statistic_2[\"Click\"] = [budget_2[budget_2.click==1].click.sum()]\n",
    "statistic_2[\"Spend\"] = budget_2.payprice.sum()/1000\n",
    "statistic_2[\"CTR%\"] = statistic_2[\"Click\"]/budget_2.shape[0]*100\n",
    "statistic_2[\"CPC\"] = statistic_2[\"Spend\"]/statistic_2[\"Click\"]\n",
    "statistic_2[\"CPM\"] = statistic_2[\"Spend\"] /budget_2.shape[0]* 1000\n",
    "\n",
    "statistic_4=pd.DataFrame()\n",
    "budget_4 = new_validation[new_validation[\"total_cost\"]/1000<=25000/4]\n",
    "statistic_4[\"Click\"] = [budget_4[budget_4.click==1].click.sum()]\n",
    "statistic_4[\"Spend\"] = budget_4.payprice.sum()/1000\n",
    "statistic_4[\"CTR%\"] = statistic_4[\"Click\"]/budget_4.shape[0]*100\n",
    "statistic_4[\"CPC\"] = statistic_4[\"Spend\"]/statistic_4[\"Click\"]\n",
    "statistic_4[\"CPM\"] = statistic_4[\"Spend\"] /budget_4.shape[0]* 1000\n",
    "\n",
    "statistic_8=pd.DataFrame()\n",
    "budget_8 = new_validation[new_validation[\"total_cost\"]/1000<=25000*1/8]\n",
    "statistic_8[\"Click\"] = [budget_8[budget_8.click==1].click.sum()]\n",
    "statistic_8[\"Spend\"] = budget_8.payprice.sum()/1000\n",
    "statistic_8[\"CTR%\"] = statistic_8[\"Click\"]/budget_8.shape[0]*100\n",
    "statistic_8[\"CPC\"] = statistic_8[\"Spend\"]/statistic_8[\"Click\"]\n",
    "statistic_8[\"CPM\"] = statistic_8[\"Spend\"] /budget_8.shape[0]* 1000\n",
    "\n",
    "statistic_16=pd.DataFrame()\n",
    "budget_16 = new_validation[new_validation[\"total_cost\"]/1000<=25000*1/16]\n",
    "statistic_16[\"Click\"] = [budget_16[budget_16.click==1].click.sum()]\n",
    "statistic_16[\"Spend\"] = budget_16.payprice.sum()/1000\n",
    "statistic_16[\"CTR%\"] = statistic_16[\"Click\"]/budget_16.shape[0]*100\n",
    "statistic_16[\"CPC\"] = statistic_16[\"Spend\"]/statistic_16[\"Click\"]\n",
    "statistic_16[\"CPM\"] = statistic_16[\"Spend\"] /budget_16.shape[0]* 1000\n",
    "\n",
    "\n",
    "statistic_one = statistic.append(statistic_2)\n",
    "statistic_two = statistic_one.append(statistic_4)\n",
    "statistic_3 = statistic_two.append(statistic_8)\n",
    "statistic_combine = statistic_3.append(statistic_16)\n",
    "\n",
    "statistic_combine.index = [\"full\",\"1/2\",\"1/4 (6250)\",\"1/8\",\"1/16\"]\n",
    "statistic_combine"
   ]
  },
  {
   "cell_type": "code",
   "execution_count": 29,
   "metadata": {
    "collapsed": false
   },
   "outputs": [],
   "source": [
    "test = pd.read_csv(\"test.csv\")"
   ]
  },
  {
   "cell_type": "code",
   "execution_count": 30,
   "metadata": {
    "collapsed": false
   },
   "outputs": [
    {
     "data": {
      "text/html": [
       "<div>\n",
       "<table border=\"1\" class=\"dataframe\">\n",
       "  <thead>\n",
       "    <tr style=\"text-align: right;\">\n",
       "      <th></th>\n",
       "      <th>weekday</th>\n",
       "      <th>hour</th>\n",
       "      <th>advertiser</th>\n",
       "      <th>adexchange</th>\n",
       "      <th>area</th>\n",
       "      <th>slotvisibility</th>\n",
       "      <th>slotformat</th>\n",
       "      <th>frequent</th>\n",
       "      <th>slotprice</th>\n",
       "    </tr>\n",
       "  </thead>\n",
       "  <tbody>\n",
       "    <tr>\n",
       "      <th>0</th>\n",
       "      <td>0</td>\n",
       "      <td>17</td>\n",
       "      <td>3427</td>\n",
       "      <td>1</td>\n",
       "      <td>75000</td>\n",
       "      <td>1</td>\n",
       "      <td>1</td>\n",
       "      <td>0.019370</td>\n",
       "      <td>0</td>\n",
       "    </tr>\n",
       "    <tr>\n",
       "      <th>1</th>\n",
       "      <td>5</td>\n",
       "      <td>22</td>\n",
       "      <td>1458</td>\n",
       "      <td>3</td>\n",
       "      <td>90000</td>\n",
       "      <td>0</td>\n",
       "      <td>0</td>\n",
       "      <td>0.042239</td>\n",
       "      <td>80</td>\n",
       "    </tr>\n",
       "    <tr>\n",
       "      <th>2</th>\n",
       "      <td>2</td>\n",
       "      <td>13</td>\n",
       "      <td>3427</td>\n",
       "      <td>3</td>\n",
       "      <td>90000</td>\n",
       "      <td>0</td>\n",
       "      <td>0</td>\n",
       "      <td>0.004567</td>\n",
       "      <td>20</td>\n",
       "    </tr>\n",
       "    <tr>\n",
       "      <th>3</th>\n",
       "      <td>4</td>\n",
       "      <td>17</td>\n",
       "      <td>3386</td>\n",
       "      <td>1</td>\n",
       "      <td>94080</td>\n",
       "      <td>2</td>\n",
       "      <td>1</td>\n",
       "      <td>0.001481</td>\n",
       "      <td>0</td>\n",
       "    </tr>\n",
       "    <tr>\n",
       "      <th>4</th>\n",
       "      <td>6</td>\n",
       "      <td>20</td>\n",
       "      <td>3476</td>\n",
       "      <td>3</td>\n",
       "      <td>90000</td>\n",
       "      <td>0</td>\n",
       "      <td>0</td>\n",
       "      <td>0.002118</td>\n",
       "      <td>31</td>\n",
       "    </tr>\n",
       "  </tbody>\n",
       "</table>\n",
       "</div>"
      ],
      "text/plain": [
       "   weekday  hour  advertiser adexchange   area slotvisibility slotformat  \\\n",
       "0        0    17        3427          1  75000              1          1   \n",
       "1        5    22        1458          3  90000              0          0   \n",
       "2        2    13        3427          3  90000              0          0   \n",
       "3        4    17        3386          1  94080              2          1   \n",
       "4        6    20        3476          3  90000              0          0   \n",
       "\n",
       "   frequent  slotprice  \n",
       "0  0.019370          0  \n",
       "1  0.042239         80  \n",
       "2  0.004567         20  \n",
       "3  0.001481          0  \n",
       "4  0.002118         31  "
      ]
     },
     "execution_count": 30,
     "metadata": {},
     "output_type": "execute_result"
    }
   ],
   "source": [
    "test[\"area\"] = test[\"slotheight\"]*test[\"slotwidth\"] \n",
    "\n",
    "city = pd.DataFrame(test.city.value_counts()/test.shape[0]).index\n",
    "frequent = pd.DataFrame(test.city.value_counts()/test.shape[0]).values\n",
    "r = pd.DataFrame()\n",
    "r[\"city\"] = city\n",
    "r[\"frequent\"] = frequent\n",
    "test=pd.merge(test,r,on='city',how='left') \n",
    "\n",
    "feature = [\"weekday\",\"hour\",\"advertiser\",\"adexchange\",\"area\",\"slotvisibility\",\"slotformat\",\"frequent\",\n",
    "          \"slotprice\"]\n",
    "X_test = test[feature]\n",
    "\n",
    "X_test.head()"
   ]
  },
  {
   "cell_type": "code",
   "execution_count": 31,
   "metadata": {
    "collapsed": false
   },
   "outputs": [
    {
     "name": "stderr",
     "output_type": "stream",
     "text": [
      "/Users/Wendy/anaconda/lib/python3.5/site-packages/ipykernel/__main__.py:6: SettingWithCopyWarning: \n",
      "A value is trying to be set on a copy of a slice from a DataFrame.\n",
      "Try using .loc[row_indexer,col_indexer] = value instead\n",
      "\n",
      "See the caveats in the documentation: http://pandas.pydata.org/pandas-docs/stable/indexing.html#indexing-view-versus-copy\n",
      "/Users/Wendy/anaconda/lib/python3.5/site-packages/ipykernel/__main__.py:7: SettingWithCopyWarning: \n",
      "A value is trying to be set on a copy of a slice from a DataFrame.\n",
      "Try using .loc[row_indexer,col_indexer] = value instead\n",
      "\n",
      "See the caveats in the documentation: http://pandas.pydata.org/pandas-docs/stable/indexing.html#indexing-view-versus-copy\n",
      "/Users/Wendy/anaconda/lib/python3.5/site-packages/ipykernel/__main__.py:8: SettingWithCopyWarning: \n",
      "A value is trying to be set on a copy of a slice from a DataFrame.\n",
      "Try using .loc[row_indexer,col_indexer] = value instead\n",
      "\n",
      "See the caveats in the documentation: http://pandas.pydata.org/pandas-docs/stable/indexing.html#indexing-view-versus-copy\n",
      "/Users/Wendy/anaconda/lib/python3.5/site-packages/ipykernel/__main__.py:11: SettingWithCopyWarning: \n",
      "A value is trying to be set on a copy of a slice from a DataFrame.\n",
      "Try using .loc[row_indexer,col_indexer] = value instead\n",
      "\n",
      "See the caveats in the documentation: http://pandas.pydata.org/pandas-docs/stable/indexing.html#indexing-view-versus-copy\n",
      "/Users/Wendy/anaconda/lib/python3.5/site-packages/ipykernel/__main__.py:12: SettingWithCopyWarning: \n",
      "A value is trying to be set on a copy of a slice from a DataFrame.\n",
      "Try using .loc[row_indexer,col_indexer] = value instead\n",
      "\n",
      "See the caveats in the documentation: http://pandas.pydata.org/pandas-docs/stable/indexing.html#indexing-view-versus-copy\n",
      "/Users/Wendy/anaconda/lib/python3.5/site-packages/ipykernel/__main__.py:13: SettingWithCopyWarning: \n",
      "A value is trying to be set on a copy of a slice from a DataFrame.\n",
      "Try using .loc[row_indexer,col_indexer] = value instead\n",
      "\n",
      "See the caveats in the documentation: http://pandas.pydata.org/pandas-docs/stable/indexing.html#indexing-view-versus-copy\n"
     ]
    }
   ],
   "source": [
    "np.random.seed(12)\n",
    "\n",
    "# Initialize label encoder\n",
    "label_encoder = preprocessing.LabelEncoder()\n",
    "\n",
    "X_test[\"slotvisibility\"] = label_encoder.fit_transform(X_test[\"slotvisibility\"])\n",
    "X_test[\"slotformat\"] = label_encoder.fit_transform(X_test[\"slotformat\"])\n",
    "X_test[\"adexchange\"] = label_encoder.fit_transform(X_test[\"adexchange\"])\n",
    "\n",
    "\n",
    "X_test[\"advertiser\"]=X_test.advertiser.astype(\"str\")\n",
    "X_test[\"weekday\"]=X_test.weekday.astype(\"str\")\n",
    "X_test[\"hour\"]=X_test.hour.astype(\"str\")\n",
    "\n",
    "X_test=pd.get_dummies(X_test)"
   ]
  },
  {
   "cell_type": "code",
   "execution_count": 32,
   "metadata": {
    "collapsed": true
   },
   "outputs": [],
   "source": [
    "Y_pred_test_gbr = GBR.predict_proba(X_test)\n",
    "Y_pred_test_gbr = Y_pred_test_gbr [:,1]\n"
   ]
  },
  {
   "cell_type": "code",
   "execution_count": 33,
   "metadata": {
    "collapsed": true
   },
   "outputs": [],
   "source": [
    "test[\"pCTR_gbr\"] = Y_pred_test_gbr\n",
    "\n",
    "avgCTR = Y_pred_test_gbr.mean()\n",
    "\n",
    "param_test_gbr= Y_pred_test_gbr/avgCTR\n",
    "\n",
    "test['new_bidprice_gbr'] = 70*param_test_gbr"
   ]
  },
  {
   "cell_type": "code",
   "execution_count": 34,
   "metadata": {
    "collapsed": false
   },
   "outputs": [
    {
     "data": {
      "text/html": [
       "<div>\n",
       "<table border=\"1\" class=\"dataframe\">\n",
       "  <thead>\n",
       "    <tr style=\"text-align: right;\">\n",
       "      <th></th>\n",
       "      <th>weekday</th>\n",
       "      <th>hour</th>\n",
       "      <th>advertiser</th>\n",
       "      <th>adexchange</th>\n",
       "      <th>area</th>\n",
       "      <th>slotvisibility</th>\n",
       "      <th>slotformat</th>\n",
       "      <th>slotprice</th>\n",
       "    </tr>\n",
       "  </thead>\n",
       "  <tbody>\n",
       "    <tr>\n",
       "      <th>0</th>\n",
       "      <td>0</td>\n",
       "      <td>17</td>\n",
       "      <td>3427</td>\n",
       "      <td>1</td>\n",
       "      <td>75000</td>\n",
       "      <td>1</td>\n",
       "      <td>1</td>\n",
       "      <td>0</td>\n",
       "    </tr>\n",
       "    <tr>\n",
       "      <th>1</th>\n",
       "      <td>5</td>\n",
       "      <td>22</td>\n",
       "      <td>1458</td>\n",
       "      <td>3</td>\n",
       "      <td>90000</td>\n",
       "      <td>0</td>\n",
       "      <td>0</td>\n",
       "      <td>80</td>\n",
       "    </tr>\n",
       "    <tr>\n",
       "      <th>2</th>\n",
       "      <td>2</td>\n",
       "      <td>13</td>\n",
       "      <td>3427</td>\n",
       "      <td>3</td>\n",
       "      <td>90000</td>\n",
       "      <td>0</td>\n",
       "      <td>0</td>\n",
       "      <td>20</td>\n",
       "    </tr>\n",
       "    <tr>\n",
       "      <th>3</th>\n",
       "      <td>4</td>\n",
       "      <td>17</td>\n",
       "      <td>3386</td>\n",
       "      <td>1</td>\n",
       "      <td>94080</td>\n",
       "      <td>2</td>\n",
       "      <td>1</td>\n",
       "      <td>0</td>\n",
       "    </tr>\n",
       "    <tr>\n",
       "      <th>4</th>\n",
       "      <td>6</td>\n",
       "      <td>20</td>\n",
       "      <td>3476</td>\n",
       "      <td>3</td>\n",
       "      <td>90000</td>\n",
       "      <td>0</td>\n",
       "      <td>0</td>\n",
       "      <td>31</td>\n",
       "    </tr>\n",
       "  </tbody>\n",
       "</table>\n",
       "</div>"
      ],
      "text/plain": [
       "   weekday  hour  advertiser adexchange   area slotvisibility slotformat  \\\n",
       "0        0    17        3427          1  75000              1          1   \n",
       "1        5    22        1458          3  90000              0          0   \n",
       "2        2    13        3427          3  90000              0          0   \n",
       "3        4    17        3386          1  94080              2          1   \n",
       "4        6    20        3476          3  90000              0          0   \n",
       "\n",
       "   slotprice  \n",
       "0          0  \n",
       "1         80  \n",
       "2         20  \n",
       "3          0  \n",
       "4         31  "
      ]
     },
     "execution_count": 34,
     "metadata": {},
     "output_type": "execute_result"
    }
   ],
   "source": [
    "test[\"area\"] = test[\"slotheight\"]*test[\"slotwidth\"] \n",
    "\n",
    "feature = [\"weekday\",\"hour\",\"advertiser\",\"adexchange\",\"area\",\"slotvisibility\",\"slotformat\",\n",
    "          \"slotprice\"]\n",
    "X_test = test[feature]\n",
    "X_test.head()"
   ]
  },
  {
   "cell_type": "code",
   "execution_count": 35,
   "metadata": {
    "collapsed": false
   },
   "outputs": [
    {
     "name": "stderr",
     "output_type": "stream",
     "text": [
      "/Users/Wendy/anaconda/lib/python3.5/site-packages/pandas/core/indexing.py:465: SettingWithCopyWarning: \n",
      "A value is trying to be set on a copy of a slice from a DataFrame.\n",
      "Try using .loc[row_indexer,col_indexer] = value instead\n",
      "\n",
      "See the caveats in the documentation: http://pandas.pydata.org/pandas-docs/stable/indexing.html#indexing-view-versus-copy\n",
      "  self.obj[item] = s\n"
     ]
    }
   ],
   "source": [
    "X_test.loc[ X_test['slotprice'] <= 0, 'slotprice'] = 0\n",
    "X_test.loc[(X_test['slotprice'] > 0) & (X_test['slotprice'] <= 10), 'slotprice'] = 1\n",
    "X_test.loc[(X_test['slotprice'] > 10) & (X_test['slotprice'] <= 50), 'slotprice'] = 2\n",
    "X_test.loc[(X_test['slotprice'] > 50) & (X_test['slotprice'] <= 100), 'slotprice'] = 3\n",
    "X_test.loc[(X_test['slotprice'] > 100), 'slotprice'] = 4\n",
    "\n",
    "X_test.area.value_counts().sort_index()\n",
    "X_test.loc[ X_test['area'] <= 20000, 'area'] = 0\n",
    "X_test.loc[(X_test['area'] > 20000) & (X_test['area'] <=40000 ), 'area'] = 1\n",
    "X_test.loc[(X_test['area'] > 40000) & (X_test['area'] <= 60000), 'area'] = 2\n",
    "X_test.loc[(X_test['area'] > 60000) & (X_test['area'] <= 80000), 'area'] = 3\n",
    "X_test.loc[(X_test['area'] > 80000) & (X_test['area'] <= 100000), 'area'] = 4\n",
    "X_test.loc[(X_test['area'] > 100000), 'area'] = 5\n"
   ]
  },
  {
   "cell_type": "code",
   "execution_count": 36,
   "metadata": {
    "collapsed": false
   },
   "outputs": [
    {
     "name": "stderr",
     "output_type": "stream",
     "text": [
      "/Users/Wendy/anaconda/lib/python3.5/site-packages/ipykernel/__main__.py:1: SettingWithCopyWarning: \n",
      "A value is trying to be set on a copy of a slice from a DataFrame.\n",
      "Try using .loc[row_indexer,col_indexer] = value instead\n",
      "\n",
      "See the caveats in the documentation: http://pandas.pydata.org/pandas-docs/stable/indexing.html#indexing-view-versus-copy\n",
      "  if __name__ == '__main__':\n",
      "/Users/Wendy/anaconda/lib/python3.5/site-packages/ipykernel/__main__.py:2: SettingWithCopyWarning: \n",
      "A value is trying to be set on a copy of a slice from a DataFrame.\n",
      "Try using .loc[row_indexer,col_indexer] = value instead\n",
      "\n",
      "See the caveats in the documentation: http://pandas.pydata.org/pandas-docs/stable/indexing.html#indexing-view-versus-copy\n",
      "  from ipykernel import kernelapp as app\n",
      "/Users/Wendy/anaconda/lib/python3.5/site-packages/ipykernel/__main__.py:3: SettingWithCopyWarning: \n",
      "A value is trying to be set on a copy of a slice from a DataFrame.\n",
      "Try using .loc[row_indexer,col_indexer] = value instead\n",
      "\n",
      "See the caveats in the documentation: http://pandas.pydata.org/pandas-docs/stable/indexing.html#indexing-view-versus-copy\n",
      "  app.launch_new_instance()\n",
      "/Users/Wendy/anaconda/lib/python3.5/site-packages/ipykernel/__main__.py:4: SettingWithCopyWarning: \n",
      "A value is trying to be set on a copy of a slice from a DataFrame.\n",
      "Try using .loc[row_indexer,col_indexer] = value instead\n",
      "\n",
      "See the caveats in the documentation: http://pandas.pydata.org/pandas-docs/stable/indexing.html#indexing-view-versus-copy\n",
      "/Users/Wendy/anaconda/lib/python3.5/site-packages/ipykernel/__main__.py:5: SettingWithCopyWarning: \n",
      "A value is trying to be set on a copy of a slice from a DataFrame.\n",
      "Try using .loc[row_indexer,col_indexer] = value instead\n",
      "\n",
      "See the caveats in the documentation: http://pandas.pydata.org/pandas-docs/stable/indexing.html#indexing-view-versus-copy\n",
      "/Users/Wendy/anaconda/lib/python3.5/site-packages/ipykernel/__main__.py:6: SettingWithCopyWarning: \n",
      "A value is trying to be set on a copy of a slice from a DataFrame.\n",
      "Try using .loc[row_indexer,col_indexer] = value instead\n",
      "\n",
      "See the caveats in the documentation: http://pandas.pydata.org/pandas-docs/stable/indexing.html#indexing-view-versus-copy\n"
     ]
    }
   ],
   "source": [
    "X_test[\"advertiser\"]=X_test.advertiser.astype(\"str\")\n",
    "X_test[\"weekday\"]=X_test.weekday.astype(\"str\")\n",
    "X_test[\"adexchange\"]=X_test.adexchange.astype(\"str\")\n",
    "X_test[\"slotvisibility\"]=X_test.slotvisibility.astype(\"str\")\n",
    "X_test[\"slotformat\"]=X_test.slotformat.astype(\"str\")\n",
    "X_test[\"hour\"]=X_test.hour.astype(\"str\")\n",
    "\n",
    "# X_test[\"slotprice\"]=X_test.slotprice.astype(\"str\")\n",
    "# X_test[\"area\"]=X_test.area.astype(\"str\")\n",
    "\n",
    "X_test=pd.get_dummies(X_test)"
   ]
  },
  {
   "cell_type": "code",
   "execution_count": 37,
   "metadata": {
    "collapsed": false
   },
   "outputs": [
    {
     "data": {
      "text/plain": [
       "array([ 0.00127724,  0.00106514,  0.00075907, ...,  0.00125908,\n",
       "        0.00040414,  0.00021689])"
      ]
     },
     "execution_count": 37,
     "metadata": {},
     "output_type": "execute_result"
    }
   ],
   "source": [
    "Y_pred_test = logreg.predict_proba(X_test)\n",
    "Y_pred_test_log = Y_pred_test[:,1]\n",
    "Y_pred_test_log"
   ]
  },
  {
   "cell_type": "code",
   "execution_count": 38,
   "metadata": {
    "collapsed": false
   },
   "outputs": [
    {
     "data": {
      "text/plain": [
       "array([ 1.68980895,  1.4092034 ,  1.00426732, ...,  1.6657838 ,\n",
       "        0.53468387,  0.28695043])"
      ]
     },
     "execution_count": 38,
     "metadata": {},
     "output_type": "execute_result"
    }
   ],
   "source": [
    "test[\"pCTR_log\"] = Y_pred_test_log\n",
    "\n",
    "# avgCTR = (train[train.click==1].groupby(\"advertiser\").size().values/train.groupby(\"advertiser\").size().values).mean()\n",
    "avgCTR = Y_pred_test_log.mean()\n",
    "\n",
    "param_test_log= Y_pred_test_log/avgCTR\n",
    "param_test_log"
   ]
  },
  {
   "cell_type": "code",
   "execution_count": 39,
   "metadata": {
    "collapsed": true
   },
   "outputs": [],
   "source": [
    "test['new_bidprice_log'] = 70*param_validation_log\n",
    "\n",
    "Y_pred_test_combine = 0.1 * Y_pred_test_log + 0.9 * Y_pred_test_gbr\n",
    "test[\"pCTR_combine\"] = Y_pred_test_combine\n",
    "avg_ctr = Y_pred_test_combine.mean()\n",
    "param_test_combine = Y_pred_test_combine/avg_ctr\n",
    "\n",
    "test[\"new_bidprice_combine\"] = 70 * param_test_combine\n"
   ]
  },
  {
   "cell_type": "code",
   "execution_count": 40,
   "metadata": {
    "collapsed": false
   },
   "outputs": [
    {
     "data": {
      "text/html": [
       "<div>\n",
       "<table border=\"1\" class=\"dataframe\">\n",
       "  <thead>\n",
       "    <tr style=\"text-align: right;\">\n",
       "      <th></th>\n",
       "      <th>bidid</th>\n",
       "      <th>bidprice</th>\n",
       "    </tr>\n",
       "  </thead>\n",
       "  <tbody>\n",
       "    <tr>\n",
       "      <th>0</th>\n",
       "      <td>fe2e06dff1dfd227471fd1ca717888ac</td>\n",
       "      <td>99.447123</td>\n",
       "    </tr>\n",
       "    <tr>\n",
       "      <th>1</th>\n",
       "      <td>92ea762b7b2cfd7aee30a2e88e1f5899</td>\n",
       "      <td>87.653608</td>\n",
       "    </tr>\n",
       "    <tr>\n",
       "      <th>2</th>\n",
       "      <td>617dfab714eedf4988c4aa9ad5425eca</td>\n",
       "      <td>46.150101</td>\n",
       "    </tr>\n",
       "    <tr>\n",
       "      <th>3</th>\n",
       "      <td>7fa016aaa3db39413b482f757facc3f4</td>\n",
       "      <td>53.683457</td>\n",
       "    </tr>\n",
       "    <tr>\n",
       "      <th>4</th>\n",
       "      <td>49db062ac10d19591dc7d988d730aad5</td>\n",
       "      <td>37.292951</td>\n",
       "    </tr>\n",
       "  </tbody>\n",
       "</table>\n",
       "</div>"
      ],
      "text/plain": [
       "                              bidid   bidprice\n",
       "0  fe2e06dff1dfd227471fd1ca717888ac  99.447123\n",
       "1  92ea762b7b2cfd7aee30a2e88e1f5899  87.653608\n",
       "2  617dfab714eedf4988c4aa9ad5425eca  46.150101\n",
       "3  7fa016aaa3db39413b482f757facc3f4  53.683457\n",
       "4  49db062ac10d19591dc7d988d730aad5  37.292951"
      ]
     },
     "execution_count": 40,
     "metadata": {},
     "output_type": "execute_result"
    }
   ],
   "source": [
    "output = test [[\"bidid\",\"new_bidprice_combine\"]]\n",
    "output.columns = [\"bidid\",\"bidprice\"]\n",
    "output.head()"
   ]
  },
  {
   "cell_type": "code",
   "execution_count": 42,
   "metadata": {
    "collapsed": false
   },
   "outputs": [],
   "source": [
    "output.to_csv(\"testing bidding price.csv\")"
   ]
  },
  {
   "cell_type": "code",
   "execution_count": null,
   "metadata": {
    "collapsed": true
   },
   "outputs": [],
   "source": []
  }
 ],
 "metadata": {
  "anaconda-cloud": {},
  "kernelspec": {
   "display_name": "Python [default]",
   "language": "python",
   "name": "python3"
  },
  "language_info": {
   "codemirror_mode": {
    "name": "ipython",
    "version": 3
   },
   "file_extension": ".py",
   "mimetype": "text/x-python",
   "name": "python",
   "nbconvert_exporter": "python",
   "pygments_lexer": "ipython3",
   "version": "3.5.2"
  }
 },
 "nbformat": 4,
 "nbformat_minor": 2
}
