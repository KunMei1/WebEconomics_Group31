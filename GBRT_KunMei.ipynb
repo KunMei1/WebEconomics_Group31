{
 "cells": [
  {
   "cell_type": "code",
   "execution_count": 1,
   "metadata": {
    "collapsed": false
   },
   "outputs": [
    {
     "name": "stderr",
     "output_type": "stream",
     "text": [
      "//anaconda/lib/python3.5/site-packages/sklearn/cross_validation.py:44: DeprecationWarning: This module was deprecated in version 0.18 in favor of the model_selection module into which all the refactored classes and functions are moved. Also note that the interface of the new CV iterators are different from that of this module. This module will be removed in 0.20.\n",
      "  \"This module will be removed in 0.20.\", DeprecationWarning)\n"
     ]
    }
   ],
   "source": [
    "import pandas as pd\n",
    "import seaborn as sns\n",
    "import numpy as np\n",
    "from numpy.random import randn\n",
    "import matplotlib as mpl\n",
    "import matplotlib.pyplot as plt\n",
    "\n",
    "from sklearn.linear_model import LogisticRegression\n",
    "from sklearn.svm import SVC, LinearSVC\n",
    "from sklearn.ensemble import RandomForestClassifier, AdaBoostClassifier, GradientBoostingClassifier, GradientBoostingRegressor\n",
    "from sklearn.neighbors import KNeighborsClassifier\n",
    "from sklearn.naive_bayes import GaussianNB\n",
    "from sklearn.linear_model import Perceptron\n",
    "from sklearn.linear_model import SGDClassifier\n",
    "from sklearn.tree import DecisionTreeClassifier\n",
    "from sklearn.svm import SVC\n",
    "from sklearn.cross_validation import KFold;\n",
    "from sklearn import preprocessing\n",
    "import math\n",
    "from sklearn.metrics import mean_squared_error\n"
   ]
  },
  {
   "cell_type": "code",
   "execution_count": 2,
   "metadata": {
    "collapsed": true
   },
   "outputs": [],
   "source": [
    "train = pd.read_csv(\"train.csv\")"
   ]
  },
  {
   "cell_type": "code",
   "execution_count": 3,
   "metadata": {
    "collapsed": true
   },
   "outputs": [],
   "source": [
    "train[\"area\"] = train[\"slotheight\"]*train[\"slotwidth\"] \n",
    "\n",
    "feature = [\"weekday\",\"hour\",\"advertiser\",\"adexchange\",\"area\",\"slotvisibility\",\"slotformat\",\n",
    "          \"slotprice\"]\n",
    "X_train = train[feature]\n",
    "Y_train = train[\"click\"]"
   ]
  },
  {
   "cell_type": "code",
   "execution_count": 4,
   "metadata": {
    "collapsed": false
   },
   "outputs": [
    {
     "name": "stderr",
     "output_type": "stream",
     "text": [
      "//anaconda/lib/python3.5/site-packages/pandas/core/indexing.py:465: SettingWithCopyWarning: \n",
      "A value is trying to be set on a copy of a slice from a DataFrame.\n",
      "Try using .loc[row_indexer,col_indexer] = value instead\n",
      "\n",
      "See the caveats in the documentation: http://pandas.pydata.org/pandas-docs/stable/indexing.html#indexing-view-versus-copy\n",
      "  self.obj[item] = s\n"
     ]
    }
   ],
   "source": [
    "X_train.loc[ X_train['slotprice'] <= 0, 'slotprice'] = 0\n",
    "X_train.loc[(X_train['slotprice'] > 0) & (X_train['slotprice'] <= 10), 'slotprice'] = 1\n",
    "X_train.loc[(X_train['slotprice'] > 10) & (X_train['slotprice'] <= 50), 'slotprice'] = 2\n",
    "X_train.loc[(X_train['slotprice'] > 50) & (X_train['slotprice'] <= 100), 'slotprice'] = 3\n",
    "X_train.loc[(X_train['slotprice'] > 100), 'slotprice'] = 4\n"
   ]
  },
  {
   "cell_type": "code",
   "execution_count": 5,
   "metadata": {
    "collapsed": false
   },
   "outputs": [
    {
     "name": "stderr",
     "output_type": "stream",
     "text": [
      "//anaconda/lib/python3.5/site-packages/pandas/core/indexing.py:465: SettingWithCopyWarning: \n",
      "A value is trying to be set on a copy of a slice from a DataFrame.\n",
      "Try using .loc[row_indexer,col_indexer] = value instead\n",
      "\n",
      "See the caveats in the documentation: http://pandas.pydata.org/pandas-docs/stable/indexing.html#indexing-view-versus-copy\n",
      "  self.obj[item] = s\n"
     ]
    }
   ],
   "source": [
    "X_train.area.value_counts().sort_index()\n",
    "X_train.loc[ X_train['area'] <= 20000, 'area'] = 0\n",
    "X_train.loc[(X_train['area'] > 20000) & (X_train['area'] <=40000 ), 'area'] = 1\n",
    "X_train.loc[(X_train['area'] > 40000) & (X_train['area'] <= 60000), 'area'] = 2\n",
    "X_train.loc[(X_train['area'] > 60000) & (X_train['area'] <= 80000), 'area'] = 3\n",
    "X_train.loc[(X_train['area'] > 80000) & (X_train['area'] <= 100000), 'area'] = 4\n",
    "X_train.loc[(X_train['area'] > 100000), 'area'] = 5\n"
   ]
  },
  {
   "cell_type": "code",
   "execution_count": 6,
   "metadata": {
    "collapsed": false
   },
   "outputs": [
    {
     "data": {
      "text/html": [
       "<div>\n",
       "<table border=\"1\" class=\"dataframe\">\n",
       "  <thead>\n",
       "    <tr style=\"text-align: right;\">\n",
       "      <th></th>\n",
       "      <th>weekday</th>\n",
       "      <th>hour</th>\n",
       "      <th>advertiser</th>\n",
       "      <th>adexchange</th>\n",
       "      <th>area</th>\n",
       "      <th>slotvisibility</th>\n",
       "      <th>slotformat</th>\n",
       "      <th>slotprice</th>\n",
       "    </tr>\n",
       "  </thead>\n",
       "  <tbody>\n",
       "    <tr>\n",
       "      <th>0</th>\n",
       "      <td>1</td>\n",
       "      <td>14</td>\n",
       "      <td>1458</td>\n",
       "      <td>2</td>\n",
       "      <td>1</td>\n",
       "      <td>1</td>\n",
       "      <td>0</td>\n",
       "      <td>1</td>\n",
       "    </tr>\n",
       "    <tr>\n",
       "      <th>1</th>\n",
       "      <td>2</td>\n",
       "      <td>20</td>\n",
       "      <td>3476</td>\n",
       "      <td>2</td>\n",
       "      <td>3</td>\n",
       "      <td>1</td>\n",
       "      <td>0</td>\n",
       "      <td>1</td>\n",
       "    </tr>\n",
       "    <tr>\n",
       "      <th>2</th>\n",
       "      <td>5</td>\n",
       "      <td>9</td>\n",
       "      <td>1458</td>\n",
       "      <td>1</td>\n",
       "      <td>4</td>\n",
       "      <td>0</td>\n",
       "      <td>1</td>\n",
       "      <td>0</td>\n",
       "    </tr>\n",
       "    <tr>\n",
       "      <th>3</th>\n",
       "      <td>2</td>\n",
       "      <td>20</td>\n",
       "      <td>3427</td>\n",
       "      <td>2</td>\n",
       "      <td>3</td>\n",
       "      <td>0</td>\n",
       "      <td>0</td>\n",
       "      <td>4</td>\n",
       "    </tr>\n",
       "    <tr>\n",
       "      <th>4</th>\n",
       "      <td>6</td>\n",
       "      <td>9</td>\n",
       "      <td>3476</td>\n",
       "      <td>1</td>\n",
       "      <td>4</td>\n",
       "      <td>0</td>\n",
       "      <td>1</td>\n",
       "      <td>0</td>\n",
       "    </tr>\n",
       "  </tbody>\n",
       "</table>\n",
       "</div>"
      ],
      "text/plain": [
       "   weekday  hour  advertiser adexchange  area slotvisibility slotformat  \\\n",
       "0        1    14        1458          2     1              1          0   \n",
       "1        2    20        3476          2     3              1          0   \n",
       "2        5     9        1458          1     4              0          1   \n",
       "3        2    20        3427          2     3              0          0   \n",
       "4        6     9        3476          1     4              0          1   \n",
       "\n",
       "   slotprice  \n",
       "0          1  \n",
       "1          1  \n",
       "2          0  \n",
       "3          4  \n",
       "4          0  "
      ]
     },
     "execution_count": 6,
     "metadata": {},
     "output_type": "execute_result"
    }
   ],
   "source": [
    "X_train.head()"
   ]
  },
  {
   "cell_type": "code",
   "execution_count": 7,
   "metadata": {
    "collapsed": false
   },
   "outputs": [
    {
     "name": "stderr",
     "output_type": "stream",
     "text": [
      "//anaconda/lib/python3.5/site-packages/ipykernel/__main__.py:1: SettingWithCopyWarning: \n",
      "A value is trying to be set on a copy of a slice from a DataFrame.\n",
      "Try using .loc[row_indexer,col_indexer] = value instead\n",
      "\n",
      "See the caveats in the documentation: http://pandas.pydata.org/pandas-docs/stable/indexing.html#indexing-view-versus-copy\n",
      "  if __name__ == '__main__':\n",
      "//anaconda/lib/python3.5/site-packages/ipykernel/__main__.py:2: SettingWithCopyWarning: \n",
      "A value is trying to be set on a copy of a slice from a DataFrame.\n",
      "Try using .loc[row_indexer,col_indexer] = value instead\n",
      "\n",
      "See the caveats in the documentation: http://pandas.pydata.org/pandas-docs/stable/indexing.html#indexing-view-versus-copy\n",
      "  from ipykernel import kernelapp as app\n",
      "//anaconda/lib/python3.5/site-packages/ipykernel/__main__.py:3: SettingWithCopyWarning: \n",
      "A value is trying to be set on a copy of a slice from a DataFrame.\n",
      "Try using .loc[row_indexer,col_indexer] = value instead\n",
      "\n",
      "See the caveats in the documentation: http://pandas.pydata.org/pandas-docs/stable/indexing.html#indexing-view-versus-copy\n",
      "  app.launch_new_instance()\n",
      "//anaconda/lib/python3.5/site-packages/ipykernel/__main__.py:4: SettingWithCopyWarning: \n",
      "A value is trying to be set on a copy of a slice from a DataFrame.\n",
      "Try using .loc[row_indexer,col_indexer] = value instead\n",
      "\n",
      "See the caveats in the documentation: http://pandas.pydata.org/pandas-docs/stable/indexing.html#indexing-view-versus-copy\n",
      "//anaconda/lib/python3.5/site-packages/ipykernel/__main__.py:5: SettingWithCopyWarning: \n",
      "A value is trying to be set on a copy of a slice from a DataFrame.\n",
      "Try using .loc[row_indexer,col_indexer] = value instead\n",
      "\n",
      "See the caveats in the documentation: http://pandas.pydata.org/pandas-docs/stable/indexing.html#indexing-view-versus-copy\n",
      "//anaconda/lib/python3.5/site-packages/ipykernel/__main__.py:6: SettingWithCopyWarning: \n",
      "A value is trying to be set on a copy of a slice from a DataFrame.\n",
      "Try using .loc[row_indexer,col_indexer] = value instead\n",
      "\n",
      "See the caveats in the documentation: http://pandas.pydata.org/pandas-docs/stable/indexing.html#indexing-view-versus-copy\n"
     ]
    }
   ],
   "source": [
    "X_train[\"advertiser\"]=X_train.advertiser.astype(\"str\")\n",
    "X_train[\"weekday\"]=X_train.weekday.astype(\"str\")\n",
    "X_train[\"adexchange\"]=X_train.adexchange.astype(\"str\")\n",
    "X_train[\"slotvisibility\"]=X_train.slotvisibility.astype(\"str\")\n",
    "X_train[\"slotformat\"]=X_train.slotformat.astype(\"str\")\n",
    "X_train[\"hour\"]=X_train.hour.astype(\"str\")\n",
    "\n",
    "\n",
    "X_train=pd.get_dummies(X_train)"
   ]
  },
  {
   "cell_type": "code",
   "execution_count": 8,
   "metadata": {
    "collapsed": false
   },
   "outputs": [
    {
     "data": {
      "text/plain": [
       "99.920000000000002"
      ]
     },
     "execution_count": 8,
     "metadata": {},
     "output_type": "execute_result"
    }
   ],
   "source": [
    "logreg = LogisticRegression(penalty='l2', dual=False, tol=0.0001)\n",
    "logreg.fit(X_train, Y_train)\n",
    "acc_log = round(logreg.score(X_train, Y_train) * 100, 2)\n",
    "acc_log"
   ]
  },
  {
   "cell_type": "code",
   "execution_count": 9,
   "metadata": {
    "collapsed": false
   },
   "outputs": [
    {
     "data": {
      "text/plain": [
       "array([ 0.00079687,  0.00066757,  0.00086359, ...,  0.00034695,\n",
       "        0.00071373,  0.00091072])"
      ]
     },
     "execution_count": 9,
     "metadata": {},
     "output_type": "execute_result"
    }
   ],
   "source": [
    "Y_pred = logreg.predict_proba(X_train)\n",
    "Y_pred_log = Y_pred[:,1]\n",
    "Y_pred_log"
   ]
  },
  {
   "cell_type": "code",
   "execution_count": 10,
   "metadata": {
    "collapsed": false
   },
   "outputs": [
    {
     "name": "stdout",
     "output_type": "stream",
     "text": [
      "RMSE: 0.027433795364052205\n"
     ]
    }
   ],
   "source": [
    "import math\n",
    "from sklearn.metrics import mean_squared_error\n",
    "MSE = mean_squared_error(Y_pred_log ,Y_train)\n",
    "RMSE = math.sqrt(MSE)\n",
    "print(\"RMSE: \" + str(RMSE) )"
   ]
  },
  {
   "cell_type": "code",
   "execution_count": 11,
   "metadata": {
    "collapsed": true
   },
   "outputs": [],
   "source": [
    "validation = pd.read_csv(\"validation.csv\")"
   ]
  },
  {
   "cell_type": "markdown",
   "metadata": {
    "collapsed": true
   },
   "source": [
    "## Gradient"
   ]
  },
  {
   "cell_type": "code",
   "execution_count": 12,
   "metadata": {
    "collapsed": false
   },
   "outputs": [
    {
     "data": {
      "text/html": [
       "<div>\n",
       "<table border=\"1\" class=\"dataframe\">\n",
       "  <thead>\n",
       "    <tr style=\"text-align: right;\">\n",
       "      <th></th>\n",
       "      <th>weekday</th>\n",
       "      <th>hour</th>\n",
       "      <th>advertiser</th>\n",
       "      <th>adexchange</th>\n",
       "      <th>area</th>\n",
       "      <th>slotvisibility</th>\n",
       "      <th>slotformat</th>\n",
       "      <th>frequent</th>\n",
       "      <th>slotprice</th>\n",
       "    </tr>\n",
       "  </thead>\n",
       "  <tbody>\n",
       "    <tr>\n",
       "      <th>0</th>\n",
       "      <td>1</td>\n",
       "      <td>14</td>\n",
       "      <td>1458</td>\n",
       "      <td>2</td>\n",
       "      <td>28080</td>\n",
       "      <td>1</td>\n",
       "      <td>0</td>\n",
       "      <td>0.019417</td>\n",
       "      <td>5</td>\n",
       "    </tr>\n",
       "    <tr>\n",
       "      <th>1</th>\n",
       "      <td>2</td>\n",
       "      <td>20</td>\n",
       "      <td>3476</td>\n",
       "      <td>2</td>\n",
       "      <td>62500</td>\n",
       "      <td>1</td>\n",
       "      <td>0</td>\n",
       "      <td>0.013130</td>\n",
       "      <td>5</td>\n",
       "    </tr>\n",
       "    <tr>\n",
       "      <th>2</th>\n",
       "      <td>5</td>\n",
       "      <td>9</td>\n",
       "      <td>1458</td>\n",
       "      <td>1</td>\n",
       "      <td>94080</td>\n",
       "      <td>0</td>\n",
       "      <td>1</td>\n",
       "      <td>0.039022</td>\n",
       "      <td>0</td>\n",
       "    </tr>\n",
       "    <tr>\n",
       "      <th>3</th>\n",
       "      <td>2</td>\n",
       "      <td>20</td>\n",
       "      <td>3427</td>\n",
       "      <td>2</td>\n",
       "      <td>65520</td>\n",
       "      <td>0</td>\n",
       "      <td>0</td>\n",
       "      <td>0.004477</td>\n",
       "      <td>162</td>\n",
       "    </tr>\n",
       "    <tr>\n",
       "      <th>4</th>\n",
       "      <td>6</td>\n",
       "      <td>9</td>\n",
       "      <td>3476</td>\n",
       "      <td>1</td>\n",
       "      <td>85500</td>\n",
       "      <td>0</td>\n",
       "      <td>1</td>\n",
       "      <td>0.001714</td>\n",
       "      <td>0</td>\n",
       "    </tr>\n",
       "  </tbody>\n",
       "</table>\n",
       "</div>"
      ],
      "text/plain": [
       "   weekday  hour  advertiser adexchange   area slotvisibility slotformat  \\\n",
       "0        1    14        1458          2  28080              1          0   \n",
       "1        2    20        3476          2  62500              1          0   \n",
       "2        5     9        1458          1  94080              0          1   \n",
       "3        2    20        3427          2  65520              0          0   \n",
       "4        6     9        3476          1  85500              0          1   \n",
       "\n",
       "   frequent  slotprice  \n",
       "0  0.019417          5  \n",
       "1  0.013130          5  \n",
       "2  0.039022          0  \n",
       "3  0.004477        162  \n",
       "4  0.001714          0  "
      ]
     },
     "execution_count": 12,
     "metadata": {},
     "output_type": "execute_result"
    }
   ],
   "source": [
    "train[\"area\"] = train[\"slotheight\"]*train[\"slotwidth\"] \n",
    "\n",
    "city = pd.DataFrame(train.city.value_counts()/train.shape[0]).index\n",
    "frequent = pd.DataFrame(train.city.value_counts()/train.shape[0]).values\n",
    "r = pd.DataFrame()\n",
    "r[\"city\"] = city\n",
    "r[\"frequent\"] = frequent\n",
    "train=pd.merge(train,r,on='city',how='left') \n",
    "\n",
    "feature = [\"weekday\",\"hour\",\"advertiser\",\"adexchange\",\"area\",\"slotvisibility\",\"slotformat\",\"frequent\",\n",
    "          \"slotprice\"]\n",
    "X_train = train[feature]\n",
    "Y_train = train[\"click\"]\n",
    "\n",
    "X_train.head()"
   ]
  },
  {
   "cell_type": "code",
   "execution_count": 13,
   "metadata": {
    "collapsed": false
   },
   "outputs": [
    {
     "name": "stderr",
     "output_type": "stream",
     "text": [
      "//anaconda/lib/python3.5/site-packages/ipykernel/__main__.py:6: SettingWithCopyWarning: \n",
      "A value is trying to be set on a copy of a slice from a DataFrame.\n",
      "Try using .loc[row_indexer,col_indexer] = value instead\n",
      "\n",
      "See the caveats in the documentation: http://pandas.pydata.org/pandas-docs/stable/indexing.html#indexing-view-versus-copy\n",
      "//anaconda/lib/python3.5/site-packages/ipykernel/__main__.py:7: SettingWithCopyWarning: \n",
      "A value is trying to be set on a copy of a slice from a DataFrame.\n",
      "Try using .loc[row_indexer,col_indexer] = value instead\n",
      "\n",
      "See the caveats in the documentation: http://pandas.pydata.org/pandas-docs/stable/indexing.html#indexing-view-versus-copy\n",
      "//anaconda/lib/python3.5/site-packages/ipykernel/__main__.py:8: SettingWithCopyWarning: \n",
      "A value is trying to be set on a copy of a slice from a DataFrame.\n",
      "Try using .loc[row_indexer,col_indexer] = value instead\n",
      "\n",
      "See the caveats in the documentation: http://pandas.pydata.org/pandas-docs/stable/indexing.html#indexing-view-versus-copy\n",
      "//anaconda/lib/python3.5/site-packages/ipykernel/__main__.py:10: SettingWithCopyWarning: \n",
      "A value is trying to be set on a copy of a slice from a DataFrame.\n",
      "Try using .loc[row_indexer,col_indexer] = value instead\n",
      "\n",
      "See the caveats in the documentation: http://pandas.pydata.org/pandas-docs/stable/indexing.html#indexing-view-versus-copy\n",
      "//anaconda/lib/python3.5/site-packages/ipykernel/__main__.py:11: SettingWithCopyWarning: \n",
      "A value is trying to be set on a copy of a slice from a DataFrame.\n",
      "Try using .loc[row_indexer,col_indexer] = value instead\n",
      "\n",
      "See the caveats in the documentation: http://pandas.pydata.org/pandas-docs/stable/indexing.html#indexing-view-versus-copy\n",
      "//anaconda/lib/python3.5/site-packages/ipykernel/__main__.py:12: SettingWithCopyWarning: \n",
      "A value is trying to be set on a copy of a slice from a DataFrame.\n",
      "Try using .loc[row_indexer,col_indexer] = value instead\n",
      "\n",
      "See the caveats in the documentation: http://pandas.pydata.org/pandas-docs/stable/indexing.html#indexing-view-versus-copy\n"
     ]
    }
   ],
   "source": [
    "np.random.seed(12)\n",
    "\n",
    "# Initialize label encoder\n",
    "label_encoder = preprocessing.LabelEncoder()\n",
    "\n",
    "X_train[\"slotvisibility\"] = label_encoder.fit_transform(X_train[\"slotvisibility\"])\n",
    "X_train[\"slotformat\"] = label_encoder.fit_transform(X_train[\"slotformat\"])\n",
    "X_train[\"adexchange\"] = label_encoder.fit_transform(X_train[\"adexchange\"])\n",
    "\n",
    "X_train[\"advertiser\"]=X_train.advertiser.astype(\"str\")\n",
    "X_train[\"weekday\"]=X_train.weekday.astype(\"str\")\n",
    "X_train[\"hour\"]=X_train.hour.astype(\"str\")\n",
    "\n",
    "X_train=pd.get_dummies(X_train)"
   ]
  },
  {
   "cell_type": "code",
   "execution_count": 14,
   "metadata": {
    "collapsed": false
   },
   "outputs": [
    {
     "data": {
      "text/plain": [
       "GradientBoostingClassifier(criterion='friedman_mse', init=None,\n",
       "              learning_rate=0.1, loss='deviance', max_depth=3,\n",
       "              max_features=None, max_leaf_nodes=None,\n",
       "              min_impurity_split=1e-07, min_samples_leaf=1,\n",
       "              min_samples_split=2, min_weight_fraction_leaf=0.0,\n",
       "              n_estimators=100, presort='auto', random_state=None,\n",
       "              subsample=1.0, verbose=0, warm_start=False)"
      ]
     },
     "execution_count": 14,
     "metadata": {},
     "output_type": "execute_result"
    }
   ],
   "source": [
    "GBR = GradientBoostingClassifier()\n",
    "GBR.fit(X_train, Y_train)"
   ]
  },
  {
   "cell_type": "code",
   "execution_count": 15,
   "metadata": {
    "collapsed": false
   },
   "outputs": [
    {
     "data": {
      "text/plain": [
       "array([ 0.00076917,  0.00041292,  0.00108197, ...,  0.00024882,\n",
       "        0.00047198,  0.00082217])"
      ]
     },
     "execution_count": 15,
     "metadata": {},
     "output_type": "execute_result"
    }
   ],
   "source": [
    "Y_pred_ = GBR.predict_proba(X_train)\n",
    "Y_pred_gbr = Y_pred_[:,1]\n",
    "Y_pred_gbr"
   ]
  },
  {
   "cell_type": "code",
   "execution_count": 16,
   "metadata": {
    "collapsed": false
   },
   "outputs": [
    {
     "name": "stdout",
     "output_type": "stream",
     "text": [
      "RMSE: 0.027383548816209902\n"
     ]
    }
   ],
   "source": [
    "MSE = mean_squared_error(Y_pred_gbr,Y_train)\n",
    "RMSE = math.sqrt(MSE)\n",
    "print(\"RMSE: \" + str(RMSE) )"
   ]
  },
  {
   "cell_type": "markdown",
   "metadata": {},
   "source": [
    "### Performance Matrix --- Train\n",
    "#### Base bid = 100"
   ]
  },
  {
   "cell_type": "code",
   "execution_count": 17,
   "metadata": {
    "collapsed": false
   },
   "outputs": [
    {
     "name": "stderr",
     "output_type": "stream",
     "text": [
      "//anaconda/lib/python3.5/site-packages/ipykernel/__main__.py:11: SettingWithCopyWarning: \n",
      "A value is trying to be set on a copy of a slice from a DataFrame.\n",
      "Try using .loc[row_indexer,col_indexer] = value instead\n",
      "\n",
      "See the caveats in the documentation: http://pandas.pydata.org/pandas-docs/stable/indexing.html#indexing-view-versus-copy\n"
     ]
    },
    {
     "data": {
      "text/html": [
       "<div>\n",
       "<table border=\"1\" class=\"dataframe\">\n",
       "  <thead>\n",
       "    <tr style=\"text-align: right;\">\n",
       "      <th></th>\n",
       "      <th>Click</th>\n",
       "      <th>Spend</th>\n",
       "      <th>CTR%</th>\n",
       "      <th>CPC</th>\n",
       "      <th>CPM</th>\n",
       "    </tr>\n",
       "  </thead>\n",
       "  <tbody>\n",
       "    <tr>\n",
       "      <th>full</th>\n",
       "      <td>395</td>\n",
       "      <td>24999.972</td>\n",
       "      <td>0.078175</td>\n",
       "      <td>63.291068</td>\n",
       "      <td>49.477756</td>\n",
       "    </tr>\n",
       "    <tr>\n",
       "      <th>1/2</th>\n",
       "      <td>197</td>\n",
       "      <td>12499.958</td>\n",
       "      <td>0.077903</td>\n",
       "      <td>63.451563</td>\n",
       "      <td>49.430589</td>\n",
       "    </tr>\n",
       "    <tr>\n",
       "      <th>1/4 (6250)</th>\n",
       "      <td>92</td>\n",
       "      <td>6249.983</td>\n",
       "      <td>0.072807</td>\n",
       "      <td>67.934598</td>\n",
       "      <td>49.460938</td>\n",
       "    </tr>\n",
       "    <tr>\n",
       "      <th>1/8</th>\n",
       "      <td>51</td>\n",
       "      <td>3124.936</td>\n",
       "      <td>0.080531</td>\n",
       "      <td>61.273255</td>\n",
       "      <td>49.343692</td>\n",
       "    </tr>\n",
       "    <tr>\n",
       "      <th>1/16</th>\n",
       "      <td>22</td>\n",
       "      <td>1562.432</td>\n",
       "      <td>0.069396</td>\n",
       "      <td>71.019636</td>\n",
       "      <td>49.284966</td>\n",
       "    </tr>\n",
       "  </tbody>\n",
       "</table>\n",
       "</div>"
      ],
      "text/plain": [
       "            Click      Spend      CTR%        CPC        CPM\n",
       "full          395  24999.972  0.078175  63.291068  49.477756\n",
       "1/2           197  12499.958  0.077903  63.451563  49.430589\n",
       "1/4 (6250)     92   6249.983  0.072807  67.934598  49.460938\n",
       "1/8            51   3124.936  0.080531  61.273255  49.343692\n",
       "1/16           22   1562.432  0.069396  71.019636  49.284966"
      ]
     },
     "execution_count": 17,
     "metadata": {},
     "output_type": "execute_result"
    }
   ],
   "source": [
    "train[\"pCTR_gbr\"] = Y_pred_gbr\n",
    "\n",
    "avgCTR = Y_pred_gbr.mean()\n",
    "\n",
    "param_gbr= Y_pred_gbr/avgCTR\n",
    "\n",
    "train['new_bidprice_gbr'] = 100*param_gbr\n",
    "\n",
    "statistic=pd.DataFrame()\n",
    "new_train = train[train[\"new_bidprice_gbr\"]>=train.payprice]\n",
    "new_train[\"total_cost\"] = new_train[\"payprice\"].cumsum()\n",
    "budget_1 = new_train[new_train[\"total_cost\"]/1000<=25000]\n",
    "statistic[\"Click\"] = [budget_1[budget_1.click==1].click.sum()]\n",
    "statistic[\"Spend\"] = budget_1.payprice.sum()/1000\n",
    "statistic[\"CTR%\"] = statistic[\"Click\"]/budget_1.shape[0]*100\n",
    "statistic[\"CPC\"] = statistic[\"Spend\"]/statistic[\"Click\"]\n",
    "statistic[\"CPM\"] = statistic[\"Spend\"] /budget_1.shape[0]* 1000\n",
    "\n",
    "statistic_2=pd.DataFrame()\n",
    "budget_2 = new_train[new_train[\"total_cost\"]/1000<=25000*1/2]\n",
    "statistic_2[\"Click\"] = [budget_2[budget_2.click==1].click.sum()]\n",
    "statistic_2[\"Spend\"] = budget_2.payprice.sum()/1000\n",
    "statistic_2[\"CTR%\"] = statistic_2[\"Click\"]/budget_2.shape[0]*100\n",
    "statistic_2[\"CPC\"] = statistic_2[\"Spend\"]/statistic_2[\"Click\"]\n",
    "statistic_2[\"CPM\"] = statistic_2[\"Spend\"] /budget_2.shape[0]* 1000\n",
    "\n",
    "statistic_4=pd.DataFrame()\n",
    "budget_4 = new_train[new_train[\"total_cost\"]/1000<=25000/4]\n",
    "statistic_4[\"Click\"] = [budget_4[budget_4.click==1].click.sum()]\n",
    "statistic_4[\"Spend\"] = budget_4.payprice.sum()/1000\n",
    "statistic_4[\"CTR%\"] = statistic_4[\"Click\"]/budget_4.shape[0]*100\n",
    "statistic_4[\"CPC\"] = statistic_4[\"Spend\"]/statistic_4[\"Click\"]\n",
    "statistic_4[\"CPM\"] = statistic_4[\"Spend\"] /budget_4.shape[0]* 1000\n",
    "\n",
    "statistic_8=pd.DataFrame()\n",
    "budget_8 = new_train[new_train[\"total_cost\"]/1000<=25000*1/8]\n",
    "statistic_8[\"Click\"] = [budget_8[budget_8.click==1].click.sum()]\n",
    "statistic_8[\"Spend\"] = budget_8.payprice.sum()/1000\n",
    "statistic_8[\"CTR%\"] = statistic_8[\"Click\"]/budget_8.shape[0]*100\n",
    "statistic_8[\"CPC\"] = statistic_8[\"Spend\"]/statistic_8[\"Click\"]\n",
    "statistic_8[\"CPM\"] = statistic_8[\"Spend\"] /budget_8.shape[0]* 1000\n",
    "\n",
    "statistic_16=pd.DataFrame()\n",
    "budget_16 = new_train[new_train[\"total_cost\"]/1000<=25000*1/16]\n",
    "statistic_16[\"Click\"] = [budget_16[budget_16.click==1].click.sum()]\n",
    "statistic_16[\"Spend\"] = budget_16.payprice.sum()/1000\n",
    "statistic_16[\"CTR%\"] = statistic_16[\"Click\"]/budget_16.shape[0]*100\n",
    "statistic_16[\"CPC\"] = statistic_16[\"Spend\"]/statistic_16[\"Click\"]\n",
    "statistic_16[\"CPM\"] = statistic_16[\"Spend\"] /budget_16.shape[0]* 1000\n",
    "\n",
    "\n",
    "statistic_one = statistic.append(statistic_2)\n",
    "statistic_two = statistic_one.append(statistic_4)\n",
    "statistic_3 = statistic_two.append(statistic_8)\n",
    "statistic_full = statistic_3.append(statistic_16)\n",
    "\n",
    "statistic_full.index = [\"full\",\"1/2\",\"1/4 (6250)\",\"1/8\",\"1/16\"]\n",
    "statistic_full"
   ]
  },
  {
   "cell_type": "markdown",
   "metadata": {},
   "source": [
    "### Validation"
   ]
  },
  {
   "cell_type": "code",
   "execution_count": 18,
   "metadata": {
    "collapsed": false
   },
   "outputs": [
    {
     "data": {
      "text/html": [
       "<div>\n",
       "<table border=\"1\" class=\"dataframe\">\n",
       "  <thead>\n",
       "    <tr style=\"text-align: right;\">\n",
       "      <th></th>\n",
       "      <th>weekday</th>\n",
       "      <th>hour</th>\n",
       "      <th>advertiser</th>\n",
       "      <th>adexchange</th>\n",
       "      <th>area</th>\n",
       "      <th>slotvisibility</th>\n",
       "      <th>slotformat</th>\n",
       "      <th>frequent</th>\n",
       "      <th>slotprice</th>\n",
       "    </tr>\n",
       "  </thead>\n",
       "  <tbody>\n",
       "    <tr>\n",
       "      <th>0</th>\n",
       "      <td>5</td>\n",
       "      <td>14</td>\n",
       "      <td>3427</td>\n",
       "      <td>1</td>\n",
       "      <td>75000</td>\n",
       "      <td>0</td>\n",
       "      <td>1</td>\n",
       "      <td>0.002068</td>\n",
       "      <td>0</td>\n",
       "    </tr>\n",
       "    <tr>\n",
       "      <th>1</th>\n",
       "      <td>3</td>\n",
       "      <td>14</td>\n",
       "      <td>2997</td>\n",
       "      <td>null</td>\n",
       "      <td>16000</td>\n",
       "      <td>FirstView</td>\n",
       "      <td>Na</td>\n",
       "      <td>0.039229</td>\n",
       "      <td>118</td>\n",
       "    </tr>\n",
       "    <tr>\n",
       "      <th>2</th>\n",
       "      <td>1</td>\n",
       "      <td>13</td>\n",
       "      <td>3427</td>\n",
       "      <td>3</td>\n",
       "      <td>90000</td>\n",
       "      <td>0</td>\n",
       "      <td>0</td>\n",
       "      <td>0.003676</td>\n",
       "      <td>70</td>\n",
       "    </tr>\n",
       "    <tr>\n",
       "      <th>3</th>\n",
       "      <td>5</td>\n",
       "      <td>18</td>\n",
       "      <td>3427</td>\n",
       "      <td>3</td>\n",
       "      <td>90000</td>\n",
       "      <td>0</td>\n",
       "      <td>0</td>\n",
       "      <td>0.010175</td>\n",
       "      <td>70</td>\n",
       "    </tr>\n",
       "    <tr>\n",
       "      <th>4</th>\n",
       "      <td>5</td>\n",
       "      <td>14</td>\n",
       "      <td>3386</td>\n",
       "      <td>2</td>\n",
       "      <td>94080</td>\n",
       "      <td>2</td>\n",
       "      <td>0</td>\n",
       "      <td>0.021628</td>\n",
       "      <td>5</td>\n",
       "    </tr>\n",
       "  </tbody>\n",
       "</table>\n",
       "</div>"
      ],
      "text/plain": [
       "   weekday  hour  advertiser adexchange   area slotvisibility slotformat  \\\n",
       "0        5    14        3427          1  75000              0          1   \n",
       "1        3    14        2997       null  16000      FirstView         Na   \n",
       "2        1    13        3427          3  90000              0          0   \n",
       "3        5    18        3427          3  90000              0          0   \n",
       "4        5    14        3386          2  94080              2          0   \n",
       "\n",
       "   frequent  slotprice  \n",
       "0  0.002068          0  \n",
       "1  0.039229        118  \n",
       "2  0.003676         70  \n",
       "3  0.010175         70  \n",
       "4  0.021628          5  "
      ]
     },
     "execution_count": 18,
     "metadata": {},
     "output_type": "execute_result"
    }
   ],
   "source": [
    "validation[\"area\"] = validation[\"slotheight\"]*validation[\"slotwidth\"] \n",
    "\n",
    "city = pd.DataFrame(validation.city.value_counts()/validation.shape[0]).index\n",
    "frequent = pd.DataFrame(validation.city.value_counts()/validation.shape[0]).values\n",
    "r = pd.DataFrame()\n",
    "r[\"city\"] = city\n",
    "r[\"frequent\"] = frequent\n",
    "validation=pd.merge(validation,r,on='city',how='left') \n",
    "\n",
    "feature = [\"weekday\",\"hour\",\"advertiser\",\"adexchange\",\"area\",\"slotvisibility\",\"slotformat\",\"frequent\",\n",
    "          \"slotprice\"]\n",
    "X_validation = validation[feature]\n",
    "Y_validation = validation[\"click\"]\n",
    "\n",
    "X_validation.head()"
   ]
  },
  {
   "cell_type": "code",
   "execution_count": 19,
   "metadata": {
    "collapsed": false
   },
   "outputs": [
    {
     "name": "stderr",
     "output_type": "stream",
     "text": [
      "//anaconda/lib/python3.5/site-packages/ipykernel/__main__.py:6: SettingWithCopyWarning: \n",
      "A value is trying to be set on a copy of a slice from a DataFrame.\n",
      "Try using .loc[row_indexer,col_indexer] = value instead\n",
      "\n",
      "See the caveats in the documentation: http://pandas.pydata.org/pandas-docs/stable/indexing.html#indexing-view-versus-copy\n",
      "//anaconda/lib/python3.5/site-packages/ipykernel/__main__.py:7: SettingWithCopyWarning: \n",
      "A value is trying to be set on a copy of a slice from a DataFrame.\n",
      "Try using .loc[row_indexer,col_indexer] = value instead\n",
      "\n",
      "See the caveats in the documentation: http://pandas.pydata.org/pandas-docs/stable/indexing.html#indexing-view-versus-copy\n",
      "//anaconda/lib/python3.5/site-packages/ipykernel/__main__.py:8: SettingWithCopyWarning: \n",
      "A value is trying to be set on a copy of a slice from a DataFrame.\n",
      "Try using .loc[row_indexer,col_indexer] = value instead\n",
      "\n",
      "See the caveats in the documentation: http://pandas.pydata.org/pandas-docs/stable/indexing.html#indexing-view-versus-copy\n",
      "//anaconda/lib/python3.5/site-packages/ipykernel/__main__.py:11: SettingWithCopyWarning: \n",
      "A value is trying to be set on a copy of a slice from a DataFrame.\n",
      "Try using .loc[row_indexer,col_indexer] = value instead\n",
      "\n",
      "See the caveats in the documentation: http://pandas.pydata.org/pandas-docs/stable/indexing.html#indexing-view-versus-copy\n",
      "//anaconda/lib/python3.5/site-packages/ipykernel/__main__.py:12: SettingWithCopyWarning: \n",
      "A value is trying to be set on a copy of a slice from a DataFrame.\n",
      "Try using .loc[row_indexer,col_indexer] = value instead\n",
      "\n",
      "See the caveats in the documentation: http://pandas.pydata.org/pandas-docs/stable/indexing.html#indexing-view-versus-copy\n",
      "//anaconda/lib/python3.5/site-packages/ipykernel/__main__.py:13: SettingWithCopyWarning: \n",
      "A value is trying to be set on a copy of a slice from a DataFrame.\n",
      "Try using .loc[row_indexer,col_indexer] = value instead\n",
      "\n",
      "See the caveats in the documentation: http://pandas.pydata.org/pandas-docs/stable/indexing.html#indexing-view-versus-copy\n"
     ]
    }
   ],
   "source": [
    "np.random.seed(12)\n",
    "\n",
    "# Initialize label encoder\n",
    "label_encoder = preprocessing.LabelEncoder()\n",
    "\n",
    "X_validation[\"slotvisibility\"] = label_encoder.fit_transform(X_validation[\"slotvisibility\"])\n",
    "X_validation[\"slotformat\"] = label_encoder.fit_transform(X_validation[\"slotformat\"])\n",
    "X_validation[\"adexchange\"] = label_encoder.fit_transform(X_validation[\"adexchange\"])\n",
    "\n",
    "\n",
    "X_validation[\"advertiser\"]=X_validation.advertiser.astype(\"str\")\n",
    "X_validation[\"weekday\"]=X_validation.weekday.astype(\"str\")\n",
    "X_validation[\"hour\"]=X_validation.hour.astype(\"str\")\n",
    "\n",
    "X_validation=pd.get_dummies(X_validation)"
   ]
  },
  {
   "cell_type": "code",
   "execution_count": 20,
   "metadata": {
    "collapsed": false
   },
   "outputs": [
    {
     "name": "stdout",
     "output_type": "stream",
     "text": [
      "RMSE: 0.02751658128834068\n"
     ]
    }
   ],
   "source": [
    "Y_pred_validation_gbr = GBR.predict_proba(X_validation)\n",
    "Y_pred_validation_gbr = Y_pred_validation_gbr [:,1]\n",
    "MSE = mean_squared_error(Y_pred_validation_gbr,Y_validation)\n",
    "RMSE = math.sqrt(MSE)\n",
    "print(\"RMSE: \" + str(RMSE) )"
   ]
  },
  {
   "cell_type": "markdown",
   "metadata": {},
   "source": [
    "### Performace Matrix--validaiton\n",
    "#### Base bid = 100"
   ]
  },
  {
   "cell_type": "code",
   "execution_count": 21,
   "metadata": {
    "collapsed": false
   },
   "outputs": [
    {
     "name": "stderr",
     "output_type": "stream",
     "text": [
      "//anaconda/lib/python3.5/site-packages/ipykernel/__main__.py:11: SettingWithCopyWarning: \n",
      "A value is trying to be set on a copy of a slice from a DataFrame.\n",
      "Try using .loc[row_indexer,col_indexer] = value instead\n",
      "\n",
      "See the caveats in the documentation: http://pandas.pydata.org/pandas-docs/stable/indexing.html#indexing-view-versus-copy\n"
     ]
    },
    {
     "data": {
      "text/html": [
       "<div>\n",
       "<table border=\"1\" class=\"dataframe\">\n",
       "  <thead>\n",
       "    <tr style=\"text-align: right;\">\n",
       "      <th></th>\n",
       "      <th>Click</th>\n",
       "      <th>Spend</th>\n",
       "      <th>CTR%</th>\n",
       "      <th>CPC</th>\n",
       "      <th>CPM</th>\n",
       "    </tr>\n",
       "  </thead>\n",
       "  <tbody>\n",
       "    <tr>\n",
       "      <th>full</th>\n",
       "      <td>143</td>\n",
       "      <td>9917.983</td>\n",
       "      <td>0.071288</td>\n",
       "      <td>69.356524</td>\n",
       "      <td>49.442823</td>\n",
       "    </tr>\n",
       "    <tr>\n",
       "      <th>1/2</th>\n",
       "      <td>143</td>\n",
       "      <td>9917.983</td>\n",
       "      <td>0.071288</td>\n",
       "      <td>69.356524</td>\n",
       "      <td>49.442823</td>\n",
       "    </tr>\n",
       "    <tr>\n",
       "      <th>1/4(6250)</th>\n",
       "      <td>94</td>\n",
       "      <td>6249.948</td>\n",
       "      <td>0.074236</td>\n",
       "      <td>66.488809</td>\n",
       "      <td>49.358711</td>\n",
       "    </tr>\n",
       "    <tr>\n",
       "      <th>1/8</th>\n",
       "      <td>56</td>\n",
       "      <td>3124.918</td>\n",
       "      <td>0.088473</td>\n",
       "      <td>55.802107</td>\n",
       "      <td>49.369913</td>\n",
       "    </tr>\n",
       "    <tr>\n",
       "      <th>1/16</th>\n",
       "      <td>31</td>\n",
       "      <td>1562.483</td>\n",
       "      <td>0.097937</td>\n",
       "      <td>50.402677</td>\n",
       "      <td>49.362872</td>\n",
       "    </tr>\n",
       "  </tbody>\n",
       "</table>\n",
       "</div>"
      ],
      "text/plain": [
       "           Click     Spend      CTR%        CPC        CPM\n",
       "full         143  9917.983  0.071288  69.356524  49.442823\n",
       "1/2          143  9917.983  0.071288  69.356524  49.442823\n",
       "1/4(6250)     94  6249.948  0.074236  66.488809  49.358711\n",
       "1/8           56  3124.918  0.088473  55.802107  49.369913\n",
       "1/16          31  1562.483  0.097937  50.402677  49.362872"
      ]
     },
     "execution_count": 21,
     "metadata": {},
     "output_type": "execute_result"
    }
   ],
   "source": [
    "validation[\"pCTR_gbr\"] = Y_pred_validation_gbr\n",
    "\n",
    "avgCTR = Y_pred_validation_gbr.mean()\n",
    "\n",
    "param_validation_gbr= Y_pred_validation_gbr/avgCTR\n",
    "\n",
    "validation['new_bidprice_gbr'] = 100*param_validation_gbr\n",
    "\n",
    "statistic=pd.DataFrame()\n",
    "new_validation = validation[validation[\"new_bidprice_gbr\"]>=validation.payprice]\n",
    "new_validation[\"total_cost\"] = new_validation[\"payprice\"].cumsum()\n",
    "budget_1 = new_validation[new_validation[\"total_cost\"]/1000<=25000]\n",
    "statistic[\"Click\"] = [budget_1[budget_1.click==1].click.sum()]\n",
    "statistic[\"Spend\"] = budget_1.payprice.sum()/1000\n",
    "statistic[\"CTR%\"] = statistic[\"Click\"]/budget_1.shape[0]*100\n",
    "statistic[\"CPC\"] = statistic[\"Spend\"]/statistic[\"Click\"]\n",
    "statistic[\"CPM\"] = statistic[\"Spend\"] /budget_1.shape[0]* 1000\n",
    "\n",
    "statistic_2=pd.DataFrame()\n",
    "budget_2 = new_validation[new_validation[\"total_cost\"]/1000<=25000*1/2]\n",
    "statistic_2[\"Click\"] = [budget_2[budget_2.click==1].click.sum()]\n",
    "statistic_2[\"Spend\"] = budget_2.payprice.sum()/1000\n",
    "statistic_2[\"CTR%\"] = statistic_2[\"Click\"]/budget_2.shape[0]*100\n",
    "statistic_2[\"CPC\"] = statistic_2[\"Spend\"]/statistic_2[\"Click\"]\n",
    "statistic_2[\"CPM\"] = statistic_2[\"Spend\"] /budget_2.shape[0]* 1000\n",
    "\n",
    "statistic_4=pd.DataFrame()\n",
    "budget_4 = new_validation[new_validation[\"total_cost\"]/1000<=25000/4]\n",
    "statistic_4[\"Click\"] = [budget_4[budget_4.click==1].click.sum()]\n",
    "statistic_4[\"Spend\"] = budget_4.payprice.sum()/1000\n",
    "statistic_4[\"CTR%\"] = statistic_4[\"Click\"]/budget_4.shape[0]*100\n",
    "statistic_4[\"CPC\"] = statistic_4[\"Spend\"]/statistic_4[\"Click\"]\n",
    "statistic_4[\"CPM\"] = statistic_4[\"Spend\"] /budget_4.shape[0]* 1000\n",
    "\n",
    "statistic_8=pd.DataFrame()\n",
    "budget_8 = new_validation[new_validation[\"total_cost\"]/1000<=25000*1/8]\n",
    "statistic_8[\"Click\"] = [budget_8[budget_8.click==1].click.sum()]\n",
    "statistic_8[\"Spend\"] = budget_8.payprice.sum()/1000\n",
    "statistic_8[\"CTR%\"] = statistic_8[\"Click\"]/budget_8.shape[0]*100\n",
    "statistic_8[\"CPC\"] = statistic_8[\"Spend\"]/statistic_8[\"Click\"]\n",
    "statistic_8[\"CPM\"] = statistic_8[\"Spend\"] /budget_8.shape[0]* 1000\n",
    "\n",
    "statistic_16=pd.DataFrame()\n",
    "budget_16 = new_validation[new_validation[\"total_cost\"]/1000<=25000*1/16]\n",
    "statistic_16[\"Click\"] = [budget_16[budget_16.click==1].click.sum()]\n",
    "statistic_16[\"Spend\"] = budget_16.payprice.sum()/1000\n",
    "statistic_16[\"CTR%\"] = statistic_16[\"Click\"]/budget_16.shape[0]*100\n",
    "statistic_16[\"CPC\"] = statistic_16[\"Spend\"]/statistic_16[\"Click\"]\n",
    "statistic_16[\"CPM\"] = statistic_16[\"Spend\"] /budget_16.shape[0]* 1000\n",
    "\n",
    "\n",
    "statistic_one = statistic.append(statistic_2)\n",
    "statistic_two = statistic_one.append(statistic_4)\n",
    "statistic_3 = statistic_two.append(statistic_8)\n",
    "statistic_full = statistic_3.append(statistic_16)\n",
    "\n",
    "statistic_full.index = [\"full\",\"1/2\",\"1/4(6250)\",\"1/8\",\"1/16\"]\n",
    "statistic_full"
   ]
  },
  {
   "cell_type": "markdown",
   "metadata": {},
   "source": [
    "#### base price = 70"
   ]
  },
  {
   "cell_type": "code",
   "execution_count": 22,
   "metadata": {
    "collapsed": false
   },
   "outputs": [
    {
     "name": "stderr",
     "output_type": "stream",
     "text": [
      "//anaconda/lib/python3.5/site-packages/ipykernel/__main__.py:5: SettingWithCopyWarning: \n",
      "A value is trying to be set on a copy of a slice from a DataFrame.\n",
      "Try using .loc[row_indexer,col_indexer] = value instead\n",
      "\n",
      "See the caveats in the documentation: http://pandas.pydata.org/pandas-docs/stable/indexing.html#indexing-view-versus-copy\n"
     ]
    },
    {
     "data": {
      "text/html": [
       "<div>\n",
       "<table border=\"1\" class=\"dataframe\">\n",
       "  <thead>\n",
       "    <tr style=\"text-align: right;\">\n",
       "      <th></th>\n",
       "      <th>Click</th>\n",
       "      <th>Spend</th>\n",
       "      <th>CTR%</th>\n",
       "      <th>CPC</th>\n",
       "      <th>CPM</th>\n",
       "    </tr>\n",
       "  </thead>\n",
       "  <tbody>\n",
       "    <tr>\n",
       "      <th>full</th>\n",
       "      <td>117</td>\n",
       "      <td>6039.890</td>\n",
       "      <td>0.081794</td>\n",
       "      <td>51.622991</td>\n",
       "      <td>42.224296</td>\n",
       "    </tr>\n",
       "    <tr>\n",
       "      <th>1/2</th>\n",
       "      <td>117</td>\n",
       "      <td>6039.890</td>\n",
       "      <td>0.081794</td>\n",
       "      <td>51.622991</td>\n",
       "      <td>42.224296</td>\n",
       "    </tr>\n",
       "    <tr>\n",
       "      <th>1/4 (6250)</th>\n",
       "      <td>117</td>\n",
       "      <td>6039.890</td>\n",
       "      <td>0.081794</td>\n",
       "      <td>51.622991</td>\n",
       "      <td>42.224296</td>\n",
       "    </tr>\n",
       "    <tr>\n",
       "      <th>1/8</th>\n",
       "      <td>64</td>\n",
       "      <td>3124.878</td>\n",
       "      <td>0.086241</td>\n",
       "      <td>48.826219</td>\n",
       "      <td>42.108016</td>\n",
       "    </tr>\n",
       "    <tr>\n",
       "      <th>1/16</th>\n",
       "      <td>37</td>\n",
       "      <td>1562.369</td>\n",
       "      <td>0.099433</td>\n",
       "      <td>42.226189</td>\n",
       "      <td>41.986751</td>\n",
       "    </tr>\n",
       "  </tbody>\n",
       "</table>\n",
       "</div>"
      ],
      "text/plain": [
       "            Click     Spend      CTR%        CPC        CPM\n",
       "full          117  6039.890  0.081794  51.622991  42.224296\n",
       "1/2           117  6039.890  0.081794  51.622991  42.224296\n",
       "1/4 (6250)    117  6039.890  0.081794  51.622991  42.224296\n",
       "1/8            64  3124.878  0.086241  48.826219  42.108016\n",
       "1/16           37  1562.369  0.099433  42.226189  41.986751"
      ]
     },
     "execution_count": 22,
     "metadata": {},
     "output_type": "execute_result"
    }
   ],
   "source": [
    "validation['new_bidprice_gbr'] = 70*param_validation_gbr\n",
    "\n",
    "statistic=pd.DataFrame()\n",
    "new_validation = validation[validation[\"new_bidprice_gbr\"]>=validation.payprice]\n",
    "new_validation[\"total_cost\"] = new_validation[\"payprice\"].cumsum()\n",
    "budget_1 = new_validation[new_validation[\"total_cost\"]/1000<=25000]\n",
    "statistic[\"Click\"] = [budget_1[budget_1.click==1].click.sum()]\n",
    "statistic[\"Spend\"] = budget_1.payprice.sum()/1000\n",
    "statistic[\"CTR%\"] = statistic[\"Click\"]/budget_1.shape[0]*100\n",
    "statistic[\"CPC\"] = statistic[\"Spend\"]/statistic[\"Click\"]\n",
    "statistic[\"CPM\"] = statistic[\"Spend\"] /budget_1.shape[0]* 1000\n",
    "\n",
    "statistic_2=pd.DataFrame()\n",
    "budget_2 = new_validation[new_validation[\"total_cost\"]/1000<=25000*1/2]\n",
    "statistic_2[\"Click\"] = [budget_2[budget_2.click==1].click.sum()]\n",
    "statistic_2[\"Spend\"] = budget_2.payprice.sum()/1000\n",
    "statistic_2[\"CTR%\"] = statistic_2[\"Click\"]/budget_2.shape[0]*100\n",
    "statistic_2[\"CPC\"] = statistic_2[\"Spend\"]/statistic_2[\"Click\"]\n",
    "statistic_2[\"CPM\"] = statistic_2[\"Spend\"] /budget_2.shape[0]* 1000\n",
    "\n",
    "statistic_4=pd.DataFrame()\n",
    "budget_4 = new_validation[new_validation[\"total_cost\"]/1000<=25000/4]\n",
    "statistic_4[\"Click\"] = [budget_4[budget_4.click==1].click.sum()]\n",
    "statistic_4[\"Spend\"] = budget_4.payprice.sum()/1000\n",
    "statistic_4[\"CTR%\"] = statistic_4[\"Click\"]/budget_4.shape[0]*100\n",
    "statistic_4[\"CPC\"] = statistic_4[\"Spend\"]/statistic_4[\"Click\"]\n",
    "statistic_4[\"CPM\"] = statistic_4[\"Spend\"] /budget_4.shape[0]* 1000\n",
    "\n",
    "statistic_8=pd.DataFrame()\n",
    "budget_8 = new_validation[new_validation[\"total_cost\"]/1000<=25000*1/8]\n",
    "statistic_8[\"Click\"] = [budget_8[budget_8.click==1].click.sum()]\n",
    "statistic_8[\"Spend\"] = budget_8.payprice.sum()/1000\n",
    "statistic_8[\"CTR%\"] = statistic_8[\"Click\"]/budget_8.shape[0]*100\n",
    "statistic_8[\"CPC\"] = statistic_8[\"Spend\"]/statistic_8[\"Click\"]\n",
    "statistic_8[\"CPM\"] = statistic_8[\"Spend\"] /budget_8.shape[0]* 1000\n",
    "\n",
    "statistic_16=pd.DataFrame()\n",
    "budget_16 = new_validation[new_validation[\"total_cost\"]/1000<=25000*1/16]\n",
    "statistic_16[\"Click\"] = [budget_16[budget_16.click==1].click.sum()]\n",
    "statistic_16[\"Spend\"] = budget_16.payprice.sum()/1000\n",
    "statistic_16[\"CTR%\"] = statistic_16[\"Click\"]/budget_16.shape[0]*100\n",
    "statistic_16[\"CPC\"] = statistic_16[\"Spend\"]/statistic_16[\"Click\"]\n",
    "statistic_16[\"CPM\"] = statistic_16[\"Spend\"] /budget_16.shape[0]* 1000\n",
    "\n",
    "\n",
    "statistic_one = statistic.append(statistic_2)\n",
    "statistic_two = statistic_one.append(statistic_4)\n",
    "statistic_3 = statistic_two.append(statistic_8)\n",
    "statistic_full_val_grb = statistic_3.append(statistic_16)\n",
    "\n",
    "statistic_full_val_grb.index = [\"full\",\"1/2\",\"1/4 (6250)\",\"1/8\",\"1/16\"]\n",
    "statistic_full_val_grb"
   ]
  },
  {
   "cell_type": "code",
   "execution_count": null,
   "metadata": {
    "collapsed": true
   },
   "outputs": [],
   "source": []
  }
 ],
 "metadata": {
  "anaconda-cloud": {},
  "kernelspec": {
   "display_name": "Python [default]",
   "language": "python",
   "name": "python3"
  },
  "language_info": {
   "codemirror_mode": {
    "name": "ipython",
    "version": 3
   },
   "file_extension": ".py",
   "mimetype": "text/x-python",
   "name": "python",
   "nbconvert_exporter": "python",
   "pygments_lexer": "ipython3",
   "version": "3.5.2"
  }
 },
 "nbformat": 4,
 "nbformat_minor": 2
}
