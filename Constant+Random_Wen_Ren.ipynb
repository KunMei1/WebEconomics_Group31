{
 "cells": [
  {
   "cell_type": "code",
   "execution_count": 1,
   "metadata": {
    "collapsed": true
   },
   "outputs": [],
   "source": [
    "import pandas as pd\n",
    "import seaborn as sns\n",
    "import numpy as np\n",
    "from numpy.random import randn\n",
    "import matplotlib as mpl\n",
    "import matplotlib.pyplot as plt\n",
    "\n",
    "from sklearn.linear_model import LogisticRegression\n",
    "from sklearn.svm import SVC, LinearSVC\n",
    "from sklearn.ensemble import RandomForestClassifier, AdaBoostClassifier, GradientBoostingClassifier, ExtraTreesClassifier\n",
    "from sklearn.neighbors import KNeighborsClassifier\n",
    "from sklearn.naive_bayes import GaussianNB\n",
    "from sklearn.linear_model import Perceptron\n",
    "from sklearn.linear_model import SGDClassifier\n",
    "from sklearn.tree import DecisionTreeClassifier\n",
    "from sklearn.svm import SVC\n",
    "from sklearn.cross_validation import KFold;\n"
   ]
  },
  {
   "cell_type": "code",
   "execution_count": 2,
   "metadata": {
    "collapsed": false
   },
   "outputs": [],
   "source": [
    "train = pd.read_csv(\"train.csv\")\n",
    "validation = pd.read_csv(\"validation.csv\")"
   ]
  },
  {
   "cell_type": "markdown",
   "metadata": {
    "collapsed": false
   },
   "source": [
    "### Constant bidding"
   ]
  },
  {
   "cell_type": "markdown",
   "metadata": {},
   "source": [
    "### Mean"
   ]
  },
  {
   "cell_type": "code",
   "execution_count": 3,
   "metadata": {
    "collapsed": false
   },
   "outputs": [
    {
     "name": "stderr",
     "output_type": "stream",
     "text": [
      "/Users/Wendy/anaconda/lib/python3.5/site-packages/ipykernel/__main__.py:5: SettingWithCopyWarning: \n",
      "A value is trying to be set on a copy of a slice from a DataFrame.\n",
      "Try using .loc[row_indexer,col_indexer] = value instead\n",
      "\n",
      "See the caveats in the documentation: http://pandas.pydata.org/pandas-docs/stable/indexing.html#indexing-view-versus-copy\n"
     ]
    },
    {
     "data": {
      "text/html": [
       "<div>\n",
       "<table border=\"1\" class=\"dataframe\">\n",
       "  <thead>\n",
       "    <tr style=\"text-align: right;\">\n",
       "      <th></th>\n",
       "      <th>Click</th>\n",
       "      <th>Spend</th>\n",
       "      <th>CTR%</th>\n",
       "      <th>CPC</th>\n",
       "    </tr>\n",
       "  </thead>\n",
       "  <tbody>\n",
       "    <tr>\n",
       "      <th>full</th>\n",
       "      <td>221</td>\n",
       "      <td>23316.221</td>\n",
       "      <td>0.000744</td>\n",
       "      <td>105.503262</td>\n",
       "    </tr>\n",
       "    <tr>\n",
       "      <th>1/2</th>\n",
       "      <td>123</td>\n",
       "      <td>12499.952</td>\n",
       "      <td>0.000772</td>\n",
       "      <td>101.625626</td>\n",
       "    </tr>\n",
       "    <tr>\n",
       "      <th>1/4</th>\n",
       "      <td>69</td>\n",
       "      <td>6249.985</td>\n",
       "      <td>0.000864</td>\n",
       "      <td>90.579493</td>\n",
       "    </tr>\n",
       "    <tr>\n",
       "      <th>1/8</th>\n",
       "      <td>41</td>\n",
       "      <td>3125.000</td>\n",
       "      <td>0.001030</td>\n",
       "      <td>76.219512</td>\n",
       "    </tr>\n",
       "    <tr>\n",
       "      <th>1/16</th>\n",
       "      <td>21</td>\n",
       "      <td>1562.487</td>\n",
       "      <td>0.001054</td>\n",
       "      <td>74.404143</td>\n",
       "    </tr>\n",
       "  </tbody>\n",
       "</table>\n",
       "</div>"
      ],
      "text/plain": [
       "      Click      Spend      CTR%         CPC\n",
       "full    221  23316.221  0.000744  105.503262\n",
       "1/2     123  12499.952  0.000772  101.625626\n",
       "1/4      69   6249.985  0.000864   90.579493\n",
       "1/8      41   3125.000  0.001030   76.219512\n",
       "1/16     21   1562.487  0.001054   74.404143"
      ]
     },
     "execution_count": 3,
     "metadata": {},
     "output_type": "execute_result"
    }
   ],
   "source": [
    "validation['new_bidprice'] = round(train[\"bidprice\"].mean())\n",
    "\n",
    "statistic=pd.DataFrame()\n",
    "new_validation = validation[validation[\"new_bidprice\"]>=validation.payprice]\n",
    "new_validation[\"total_cost\"] = new_validation[\"payprice\"].cumsum()\n",
    "\n",
    "new_validation = new_validation[new_validation[\"total_cost\"]/1000<=25000]\n",
    "statistic[\"Click\"] = [new_validation[new_validation.click==1].click.sum()]\n",
    "statistic[\"Spend\"] = new_validation.payprice.sum()/1000\n",
    "statistic[\"CTR%\"] = statistic[\"Click\"]/new_validation.shape[0]\n",
    "statistic[\"CPC\"] = statistic[\"Spend\"]/statistic[\"Click\"]\n",
    "\n",
    "statistic_4=pd.DataFrame()\n",
    "budget_4 = new_validation[new_validation[\"total_cost\"]/1000<=25000*1/4]\n",
    "statistic_4[\"Click\"] = [budget_4[budget_4.click==1].click.sum()]\n",
    "statistic_4[\"Spend\"] = budget_4.payprice.sum()/1000\n",
    "statistic_4[\"CTR%\"] = statistic_4[\"Click\"]/budget_4.shape[0]\n",
    "statistic_4[\"CPC\"] = statistic_4[\"Spend\"]/statistic_4[\"Click\"]\n",
    "\n",
    "statistic_2=pd.DataFrame()\n",
    "budget_2 = new_validation[new_validation[\"total_cost\"]/1000<=25000*1/2]\n",
    "statistic_2[\"Click\"] = [budget_2[budget_2.click==1].click.sum()]\n",
    "statistic_2[\"Spend\"] = budget_2.payprice.sum()/1000\n",
    "statistic_2[\"CTR%\"] = statistic_2[\"Click\"]/budget_2.shape[0]\n",
    "statistic_2[\"CPC\"] = statistic_2[\"Spend\"]/statistic_2[\"Click\"]\n",
    "\n",
    "statistic_16=pd.DataFrame()\n",
    "budget_16 = new_validation[new_validation[\"total_cost\"]/1000<=25000*1/16]\n",
    "statistic_16[\"Click\"] = [budget_16[budget_16.click==1].click.sum()]\n",
    "statistic_16[\"Spend\"] = budget_16.payprice.sum()/1000\n",
    "statistic_16[\"CTR%\"] = statistic_16[\"Click\"]/budget_16.shape[0]\n",
    "statistic_16[\"CPC\"] = statistic_16[\"Spend\"]/statistic_16[\"Click\"]\n",
    "\n",
    "statistic_8=pd.DataFrame()\n",
    "budget_8 = new_validation[new_validation[\"total_cost\"]/1000<=25000*1/8]\n",
    "statistic_8[\"Click\"] = [budget_8[budget_8.click==1].click.sum()]\n",
    "statistic_8[\"Spend\"] = budget_8.payprice.sum()/1000\n",
    "statistic_8[\"CTR%\"] = statistic_8[\"Click\"]/budget_8.shape[0]\n",
    "statistic_8[\"CPC\"] = statistic_8[\"Spend\"]/statistic_8[\"Click\"]\n",
    "\n",
    "statistic_one = statistic.append(statistic_2)\n",
    "statistic_two = statistic_one.append(statistic_4)\n",
    "statistic_3 = statistic_two.append(statistic_8)\n",
    "statistic_full = statistic_3.append(statistic_16)\n",
    "\n",
    "statistic_full.index = [\"full\",\"1/2\",\"1/4\",\"1/8\",\"1/16\"]\n",
    "statistic_full"
   ]
  },
  {
   "cell_type": "markdown",
   "metadata": {},
   "source": [
    "### Mode"
   ]
  },
  {
   "cell_type": "code",
   "execution_count": 4,
   "metadata": {
    "collapsed": false
   },
   "outputs": [
    {
     "data": {
      "text/html": [
       "<div>\n",
       "<table border=\"1\" class=\"dataframe\">\n",
       "  <thead>\n",
       "    <tr style=\"text-align: right;\">\n",
       "      <th></th>\n",
       "      <th>Click</th>\n",
       "      <th>Spend</th>\n",
       "      <th>CTR%</th>\n",
       "      <th>CPC</th>\n",
       "    </tr>\n",
       "  </thead>\n",
       "  <tbody>\n",
       "    <tr>\n",
       "      <th>full</th>\n",
       "      <td>226</td>\n",
       "      <td>24045.218</td>\n",
       "      <td>0.000754</td>\n",
       "      <td>106.394770</td>\n",
       "    </tr>\n",
       "    <tr>\n",
       "      <th>1/2</th>\n",
       "      <td>122</td>\n",
       "      <td>12499.929</td>\n",
       "      <td>0.000783</td>\n",
       "      <td>102.458434</td>\n",
       "    </tr>\n",
       "    <tr>\n",
       "      <th>1/4</th>\n",
       "      <td>69</td>\n",
       "      <td>6249.912</td>\n",
       "      <td>0.000884</td>\n",
       "      <td>90.578435</td>\n",
       "    </tr>\n",
       "    <tr>\n",
       "      <th>1/8</th>\n",
       "      <td>42</td>\n",
       "      <td>3124.952</td>\n",
       "      <td>0.001080</td>\n",
       "      <td>74.403619</td>\n",
       "    </tr>\n",
       "    <tr>\n",
       "      <th>1/16</th>\n",
       "      <td>22</td>\n",
       "      <td>1562.468</td>\n",
       "      <td>0.001128</td>\n",
       "      <td>71.021273</td>\n",
       "    </tr>\n",
       "  </tbody>\n",
       "</table>\n",
       "</div>"
      ],
      "text/plain": [
       "      Click      Spend      CTR%         CPC\n",
       "full    226  24045.218  0.000754  106.394770\n",
       "1/2     122  12499.929  0.000783  102.458434\n",
       "1/4      69   6249.912  0.000884   90.578435\n",
       "1/8      42   3124.952  0.001080   74.403619\n",
       "1/16     22   1562.468  0.001128   71.021273"
      ]
     },
     "execution_count": 4,
     "metadata": {},
     "output_type": "execute_result"
    }
   ],
   "source": [
    "validation['new_bidprice'] = train[\"bidprice\"].value_counts().index[0]\n",
    "\n",
    "statistic=pd.DataFrame()\n",
    "new_validation = validation[validation[\"new_bidprice\"]>=validation.payprice]\n",
    "new_validation[\"total_cost\"] = new_validation[\"payprice\"].cumsum()\n",
    "\n",
    "new_validation = new_validation[new_validation[\"total_cost\"]/1000<=25000]\n",
    "statistic[\"Click\"] = [new_validation[new_validation.click==1].click.sum()]\n",
    "statistic[\"Spend\"] = new_validation.payprice.sum()/1000\n",
    "statistic[\"CTR%\"] = statistic[\"Click\"]/new_validation.shape[0]\n",
    "statistic[\"CPC\"] = statistic[\"Spend\"]/statistic[\"Click\"]\n",
    "\n",
    "statistic_4=pd.DataFrame()\n",
    "budget_4 = new_validation[new_validation[\"total_cost\"]/1000<=25000*1/4]\n",
    "statistic_4[\"Click\"] = [budget_4[budget_4.click==1].click.sum()]\n",
    "statistic_4[\"Spend\"] = budget_4.payprice.sum()/1000\n",
    "statistic_4[\"CTR%\"] = statistic_4[\"Click\"]/budget_4.shape[0]\n",
    "statistic_4[\"CPC\"] = statistic_4[\"Spend\"]/statistic_4[\"Click\"]\n",
    "\n",
    "statistic_2=pd.DataFrame()\n",
    "budget_2 = new_validation[new_validation[\"total_cost\"]/1000<=25000*1/2]\n",
    "statistic_2[\"Click\"] = [budget_2[budget_2.click==1].click.sum()]\n",
    "statistic_2[\"Spend\"] = budget_2.payprice.sum()/1000\n",
    "statistic_2[\"CTR%\"] = statistic_2[\"Click\"]/budget_2.shape[0]\n",
    "statistic_2[\"CPC\"] = statistic_2[\"Spend\"]/statistic_2[\"Click\"]\n",
    "\n",
    "statistic_16=pd.DataFrame()\n",
    "budget_16 = new_validation[new_validation[\"total_cost\"]/1000<=25000*1/16]\n",
    "statistic_16[\"Click\"] = [budget_16[budget_16.click==1].click.sum()]\n",
    "statistic_16[\"Spend\"] = budget_16.payprice.sum()/1000\n",
    "statistic_16[\"CTR%\"] = statistic_16[\"Click\"]/budget_16.shape[0]\n",
    "statistic_16[\"CPC\"] = statistic_16[\"Spend\"]/statistic_16[\"Click\"]\n",
    "\n",
    "statistic_8=pd.DataFrame()\n",
    "budget_8 = new_validation[new_validation[\"total_cost\"]/1000<=25000*1/8]\n",
    "statistic_8[\"Click\"] = [budget_8[budget_8.click==1].click.sum()]\n",
    "statistic_8[\"Spend\"] = budget_8.payprice.sum()/1000\n",
    "statistic_8[\"CTR%\"] = statistic_8[\"Click\"]/budget_8.shape[0]\n",
    "statistic_8[\"CPC\"] = statistic_8[\"Spend\"]/statistic_8[\"Click\"]\n",
    "\n",
    "statistic_one = statistic.append(statistic_2)\n",
    "statistic_two = statistic_one.append(statistic_4)\n",
    "statistic_3 = statistic_two.append(statistic_8)\n",
    "statistic_full = statistic_3.append(statistic_16)\n",
    "\n",
    "statistic_full.index = [\"full\",\"1/2\",\"1/4\",\"1/8\",\"1/16\"]\n",
    "statistic_full"
   ]
  },
  {
   "cell_type": "markdown",
   "metadata": {},
   "source": [
    "### Random"
   ]
  },
  {
   "cell_type": "code",
   "execution_count": 5,
   "metadata": {
    "collapsed": false
   },
   "outputs": [
    {
     "name": "stderr",
     "output_type": "stream",
     "text": [
      "/Users/Wendy/anaconda/lib/python3.5/site-packages/ipykernel/__main__.py:5: SettingWithCopyWarning: \n",
      "A value is trying to be set on a copy of a slice from a DataFrame.\n",
      "Try using .loc[row_indexer,col_indexer] = value instead\n",
      "\n",
      "See the caveats in the documentation: http://pandas.pydata.org/pandas-docs/stable/indexing.html#indexing-view-versus-copy\n"
     ]
    },
    {
     "data": {
      "text/html": [
       "<div>\n",
       "<table border=\"1\" class=\"dataframe\">\n",
       "  <thead>\n",
       "    <tr style=\"text-align: right;\">\n",
       "      <th></th>\n",
       "      <th>Click</th>\n",
       "      <th>Spend</th>\n",
       "      <th>CTR%</th>\n",
       "      <th>CPC</th>\n",
       "    </tr>\n",
       "  </thead>\n",
       "  <tbody>\n",
       "    <tr>\n",
       "      <th>full</th>\n",
       "      <td>214</td>\n",
       "      <td>22030.133</td>\n",
       "      <td>0.000733</td>\n",
       "      <td>102.944547</td>\n",
       "    </tr>\n",
       "    <tr>\n",
       "      <th>1/2</th>\n",
       "      <td>127</td>\n",
       "      <td>12499.991</td>\n",
       "      <td>0.000766</td>\n",
       "      <td>98.425126</td>\n",
       "    </tr>\n",
       "    <tr>\n",
       "      <th>1/4</th>\n",
       "      <td>70</td>\n",
       "      <td>6249.949</td>\n",
       "      <td>0.000843</td>\n",
       "      <td>89.284986</td>\n",
       "    </tr>\n",
       "    <tr>\n",
       "      <th>1/8</th>\n",
       "      <td>43</td>\n",
       "      <td>3124.998</td>\n",
       "      <td>0.001038</td>\n",
       "      <td>72.674372</td>\n",
       "    </tr>\n",
       "    <tr>\n",
       "      <th>1/16</th>\n",
       "      <td>22</td>\n",
       "      <td>1562.327</td>\n",
       "      <td>0.001062</td>\n",
       "      <td>71.014864</td>\n",
       "    </tr>\n",
       "  </tbody>\n",
       "</table>\n",
       "</div>"
      ],
      "text/plain": [
       "      Click      Spend      CTR%         CPC\n",
       "full    214  22030.133  0.000733  102.944547\n",
       "1/2     127  12499.991  0.000766   98.425126\n",
       "1/4      70   6249.949  0.000843   89.284986\n",
       "1/8      43   3124.998  0.001038   72.674372\n",
       "1/16     22   1562.327  0.001062   71.014864"
      ]
     },
     "execution_count": 5,
     "metadata": {},
     "output_type": "execute_result"
    }
   ],
   "source": [
    "validation['new_bidprice'] = np.random.uniform(200, 300, (validation.shape[0],1))\n",
    "\n",
    "statistic=pd.DataFrame()\n",
    "new_validation = validation[validation[\"new_bidprice\"]>=validation.payprice]\n",
    "new_validation[\"total_cost\"] = new_validation[\"payprice\"].cumsum()\n",
    "new_validation = new_validation[new_validation[\"total_cost\"]/1000<=25000]\n",
    "statistic[\"Click\"] = [new_validation[new_validation.click==1].click.sum()]\n",
    "statistic[\"Spend\"] = new_validation.payprice.sum()/1000\n",
    "statistic[\"CTR%\"] = statistic[\"Click\"]/new_validation.shape[0]\n",
    "statistic[\"CPC\"] = statistic[\"Spend\"]/statistic[\"Click\"]\n",
    "\n",
    "statistic_4=pd.DataFrame()\n",
    "budget_4 = new_validation[new_validation[\"total_cost\"]/1000<=25000*1/4]\n",
    "statistic_4[\"Click\"] = [budget_4[budget_4.click==1].click.sum()]\n",
    "statistic_4[\"Spend\"] = budget_4.payprice.sum()/1000\n",
    "statistic_4[\"CTR%\"] = statistic_4[\"Click\"]/budget_4.shape[0]\n",
    "statistic_4[\"CPC\"] = statistic_4[\"Spend\"]/statistic_4[\"Click\"]\n",
    "\n",
    "statistic_2=pd.DataFrame()\n",
    "budget_2 = new_validation[new_validation[\"total_cost\"]/1000<=25000*1/2]\n",
    "statistic_2[\"Click\"] = [budget_2[budget_2.click==1].click.sum()]\n",
    "statistic_2[\"Spend\"] = budget_2.payprice.sum()/1000\n",
    "statistic_2[\"CTR%\"] = statistic_2[\"Click\"]/budget_2.shape[0]\n",
    "statistic_2[\"CPC\"] = statistic_2[\"Spend\"]/statistic_2[\"Click\"]\n",
    "\n",
    "statistic_16=pd.DataFrame()\n",
    "budget_16 = new_validation[new_validation[\"total_cost\"]/1000<=25000*1/16]\n",
    "statistic_16[\"Click\"] = [budget_16[budget_16.click==1].click.sum()]\n",
    "statistic_16[\"Spend\"] = budget_16.payprice.sum()/1000\n",
    "statistic_16[\"CTR%\"] = statistic_16[\"Click\"]/budget_16.shape[0]\n",
    "statistic_16[\"CPC\"] = statistic_16[\"Spend\"]/statistic_16[\"Click\"]\n",
    "\n",
    "statistic_8=pd.DataFrame()\n",
    "budget_8 = new_validation[new_validation[\"total_cost\"]/1000<=25000*1/8]\n",
    "statistic_8[\"Click\"] = [budget_8[budget_8.click==1].click.sum()]\n",
    "statistic_8[\"Spend\"] = budget_8.payprice.sum()/1000\n",
    "statistic_8[\"CTR%\"] = statistic_8[\"Click\"]/budget_8.shape[0]\n",
    "statistic_8[\"CPC\"] = statistic_8[\"Spend\"]/statistic_8[\"Click\"]\n",
    "\n",
    "statistic_one = statistic.append(statistic_2)\n",
    "statistic_two = statistic_one.append(statistic_4)\n",
    "statistic_3 = statistic_two.append(statistic_8)\n",
    "statistic_full = statistic_3.append(statistic_16)\n",
    "\n",
    "statistic_full.index = [\"full\",\"1/2\",\"1/4\",\"1/8\",\"1/16\"]\n",
    "statistic_full"
   ]
  }
 ],
 "metadata": {
  "anaconda-cloud": {},
  "kernelspec": {
   "display_name": "Python [default]",
   "language": "python",
   "name": "python3"
  },
  "language_info": {
   "codemirror_mode": {
    "name": "ipython",
    "version": 3
   },
   "file_extension": ".py",
   "mimetype": "text/x-python",
   "name": "python",
   "nbconvert_exporter": "python",
   "pygments_lexer": "ipython3",
   "version": "3.5.2"
  }
 },
 "nbformat": 4,
 "nbformat_minor": 1
}
